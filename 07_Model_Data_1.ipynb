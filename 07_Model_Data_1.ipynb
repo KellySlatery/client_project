{
 "cells": [
  {
   "cell_type": "markdown",
   "metadata": {},
   "source": [
    "# Project 5: Optimizing Evacuation Routes using Real-Time Traffic Information"
   ]
  },
  {
   "cell_type": "markdown",
   "metadata": {},
   "source": [
    "Kelly Slatery | US-DSI-10 | 02.21.2020"
   ]
  },
  {
   "cell_type": "markdown",
   "metadata": {},
   "source": [
    "## Model Data"
   ]
  },
  {
   "cell_type": "code",
   "execution_count": 1,
   "metadata": {},
   "outputs": [],
   "source": [
    "# Imports\n",
    "import numpy as np\n",
    "import pandas as pd\n",
    "import seaborn as sns\n",
    "import matplotlib.pyplot as plt\n",
    "%matplotlib inline\n",
    "\n",
    "from sklearn.linear_model import LogisticRegression\n",
    "from sklearn.ensemble import RandomForestClassifier, ExtraTreesClassifier, \\\n",
    "                             GradientBoostingClassifier, AdaBoostClassifier\n",
    "from sklearn.svm import SVC\n",
    "from sklearn.model_selection import train_test_split, cross_val_score, GridSearchCV\n",
    "from sklearn.pipeline import Pipeline\n",
    "from sklearn.feature_extraction.text import CountVectorizer, TfidfVectorizer\n",
    "from sklearn.metrics import confusion_matrix\n",
    "\n",
    "# from sklearn.naive_bayes import MultinomialNB\n",
    "# from sklearn.neighbors import KNeighborsClassifier\n",
    "# from sklearn.svm import SVC\n",
    "\n",
    "# Revise this imports list\n",
    "from nltk.corpus import stopwords\n",
    "from nltk.tokenize import RegexpTokenizer\n",
    "from nltk.stem import WordNetLemmatizer\n",
    "from nltk.stem.porter import PorterStemmer"
   ]
  },
  {
   "cell_type": "markdown",
   "metadata": {},
   "source": [
    "## Import Data"
   ]
  },
  {
   "cell_type": "code",
   "execution_count": 2,
   "metadata": {},
   "outputs": [
    {
     "data": {
      "text/plain": [
       "(165204, 4)"
      ]
     },
     "execution_count": 2,
     "metadata": {},
     "output_type": "execute_result"
    }
   ],
   "source": [
    "df = pd.read_csv('./data/train_data/final_train_data.csv')\n",
    "df.shape"
   ]
  },
  {
   "cell_type": "code",
   "execution_count": 3,
   "metadata": {},
   "outputs": [
    {
     "data": {
      "text/html": [
       "<div>\n",
       "<style scoped>\n",
       "    .dataframe tbody tr th:only-of-type {\n",
       "        vertical-align: middle;\n",
       "    }\n",
       "\n",
       "    .dataframe tbody tr th {\n",
       "        vertical-align: top;\n",
       "    }\n",
       "\n",
       "    .dataframe thead th {\n",
       "        text-align: right;\n",
       "    }\n",
       "</style>\n",
       "<table border=\"1\" class=\"dataframe\">\n",
       "  <thead>\n",
       "    <tr style=\"text-align: right;\">\n",
       "      <th></th>\n",
       "      <th>dates&amp;time</th>\n",
       "      <th>user</th>\n",
       "      <th>tweet</th>\n",
       "      <th>class</th>\n",
       "    </tr>\n",
       "  </thead>\n",
       "  <tbody>\n",
       "    <tr>\n",
       "      <th>0</th>\n",
       "      <td>2020-02-06 22:03:12+00:00</td>\n",
       "      <td>DallasPD</td>\n",
       "      <td>DallasPD and dfrincidents are currently on loc...</td>\n",
       "      <td>1</td>\n",
       "    </tr>\n",
       "    <tr>\n",
       "      <th>1</th>\n",
       "      <td>2019-08-30 21:16:20+00:00</td>\n",
       "      <td>DallasPD</td>\n",
       "      <td>Monday Sept   on LaborDay Jack Evans Police Hd...</td>\n",
       "      <td>1</td>\n",
       "    </tr>\n",
       "    <tr>\n",
       "      <th>2</th>\n",
       "      <td>2019-08-14 22:31:39+00:00</td>\n",
       "      <td>DallasPD</td>\n",
       "      <td>PIODPD is at the scene of a possible barricade...</td>\n",
       "      <td>1</td>\n",
       "    </tr>\n",
       "    <tr>\n",
       "      <th>3</th>\n",
       "      <td>2019-07-13 22:04:27+00:00</td>\n",
       "      <td>DallasPD</td>\n",
       "      <td>PIODPD is on scene of an Officer Involved Shoo...</td>\n",
       "      <td>1</td>\n",
       "    </tr>\n",
       "    <tr>\n",
       "      <th>4</th>\n",
       "      <td>2019-07-13 01:38:19+00:00</td>\n",
       "      <td>DallasPD</td>\n",
       "      <td>Major police incident in downtown Dallas Griff...</td>\n",
       "      <td>1</td>\n",
       "    </tr>\n",
       "  </tbody>\n",
       "</table>\n",
       "</div>"
      ],
      "text/plain": [
       "                  dates&time      user  \\\n",
       "0  2020-02-06 22:03:12+00:00  DallasPD   \n",
       "1  2019-08-30 21:16:20+00:00  DallasPD   \n",
       "2  2019-08-14 22:31:39+00:00  DallasPD   \n",
       "3  2019-07-13 22:04:27+00:00  DallasPD   \n",
       "4  2019-07-13 01:38:19+00:00  DallasPD   \n",
       "\n",
       "                                               tweet  class  \n",
       "0  DallasPD and dfrincidents are currently on loc...      1  \n",
       "1  Monday Sept   on LaborDay Jack Evans Police Hd...      1  \n",
       "2  PIODPD is at the scene of a possible barricade...      1  \n",
       "3  PIODPD is on scene of an Officer Involved Shoo...      1  \n",
       "4  Major police incident in downtown Dallas Griff...      1  "
      ]
     },
     "execution_count": 3,
     "metadata": {},
     "output_type": "execute_result"
    }
   ],
   "source": [
    "df.head()"
   ]
  },
  {
   "cell_type": "code",
   "execution_count": 4,
   "metadata": {},
   "outputs": [
    {
     "data": {
      "text/plain": [
       "dates&time    0\n",
       "user          0\n",
       "tweet         0\n",
       "class         0\n",
       "dtype: int64"
      ]
     },
     "execution_count": 4,
     "metadata": {},
     "output_type": "execute_result"
    }
   ],
   "source": [
    "# Check for nulls\n",
    "df.isnull().sum()"
   ]
  },
  {
   "cell_type": "code",
   "execution_count": 5,
   "metadata": {},
   "outputs": [
    {
     "data": {
      "text/plain": [
       "0    0.948833\n",
       "1    0.051167\n",
       "Name: class, dtype: float64"
      ]
     },
     "execution_count": 5,
     "metadata": {},
     "output_type": "execute_result"
    }
   ],
   "source": [
    "# Check out the y value distribution\n",
    "df['class'].value_counts(normalize=True)"
   ]
  },
  {
   "cell_type": "markdown",
   "metadata": {},
   "source": [
    "Baseline Accuracy: 95%"
   ]
  },
  {
   "cell_type": "code",
   "execution_count": 6,
   "metadata": {},
   "outputs": [],
   "source": [
    "# Define X and y\n",
    "X = df['tweet']\n",
    "y = df['class']\n",
    "\n",
    "# Train tes split data\n",
    "X_train, X_test, y_train, y_test = train_test_split(X, y, \n",
    "                                                    test_size=.25, \n",
    "                                                    stratify=y,\n",
    "                                                    random_state=42)"
   ]
  },
  {
   "cell_type": "markdown",
   "metadata": {},
   "source": [
    "## Logistic Regression: CountVecotorizer"
   ]
  },
  {
   "cell_type": "code",
   "execution_count": 7,
   "metadata": {},
   "outputs": [],
   "source": [
    "# Set up pipeline\n",
    "lr_cv_pipe = Pipeline([\n",
    "    ('cvec', CountVectorizer()), \n",
    "    ('lr', LogisticRegression(solver='liblinear')) \n",
    "])\n",
    "\n",
    "# Set up pipeline parameters\n",
    "lr_cv_params = {\n",
    "    'cvec__stop_words': [None, 'english'],\n",
    "    'cvec__ngram_range': [(1,1), (1,2), (1,3)], \n",
    "    'cvec__max_features': [100, 500], \n",
    "    'cvec__max_df': [1.0, .95], \n",
    "    'cvec__min_df': [1, .05], \n",
    "    'lr__C': [1, 1e9], \n",
    "    'lr__penalty': ['l1', 'l2'],\n",
    "    'lr__max_iter': [100, 500, 1000]\n",
    "}"
   ]
  },
  {
   "cell_type": "code",
   "execution_count": 8,
   "metadata": {},
   "outputs": [
    {
     "name": "stdout",
     "output_type": "stream",
     "text": [
      "Fitting 5 folds for each of 576 candidates, totalling 2880 fits\n"
     ]
    },
    {
     "name": "stderr",
     "output_type": "stream",
     "text": [
      "[Parallel(n_jobs=4)]: Using backend LokyBackend with 4 concurrent workers.\n",
      "[Parallel(n_jobs=4)]: Done  42 tasks      | elapsed:   38.2s\n",
      "[Parallel(n_jobs=4)]: Done 192 tasks      | elapsed:  3.4min\n",
      "[Parallel(n_jobs=4)]: Done 442 tasks      | elapsed: 10.2min\n",
      "[Parallel(n_jobs=4)]: Done 792 tasks      | elapsed: 18.7min\n",
      "[Parallel(n_jobs=4)]: Done 1242 tasks      | elapsed: 30.2min\n",
      "[Parallel(n_jobs=4)]: Done 1792 tasks      | elapsed: 45.8min\n",
      "[Parallel(n_jobs=4)]: Done 2442 tasks      | elapsed: 63.8min\n",
      "[Parallel(n_jobs=4)]: Done 2880 out of 2880 | elapsed: 75.0min finished\n"
     ]
    }
   ],
   "source": [
    "# Set up gridsearch\n",
    "lr_cv_gs = GridSearchCV(lr_cv_pipe, lr_cv_params, n_jobs=4, cv=5, verbose=1)\n",
    "\n",
    "# Fit the gridsearch to the training data\n",
    "lr_cv_gs.fit(X_train, y_train);"
   ]
  },
  {
   "cell_type": "code",
   "execution_count": 9,
   "metadata": {},
   "outputs": [
    {
     "data": {
      "text/plain": [
       "0.9971509971509972"
      ]
     },
     "execution_count": 9,
     "metadata": {},
     "output_type": "execute_result"
    }
   ],
   "source": [
    "# What was our highest cross-val accuracy score across model hyperparameter combinations?\n",
    "lr_cv_gs.best_score_"
   ]
  },
  {
   "cell_type": "code",
   "execution_count": 10,
   "metadata": {},
   "outputs": [
    {
     "data": {
      "text/plain": [
       "Pipeline(memory=None,\n",
       "         steps=[('cvec',\n",
       "                 CountVectorizer(analyzer='word', binary=False,\n",
       "                                 decode_error='strict',\n",
       "                                 dtype=<class 'numpy.int64'>, encoding='utf-8',\n",
       "                                 input='content', lowercase=True, max_df=1.0,\n",
       "                                 max_features=500, min_df=1, ngram_range=(1, 2),\n",
       "                                 preprocessor=None, stop_words=None,\n",
       "                                 strip_accents=None,\n",
       "                                 token_pattern='(?u)\\\\b\\\\w\\\\w+\\\\b',\n",
       "                                 tokenizer=None, vocabulary=None)),\n",
       "                ('lr',\n",
       "                 LogisticRegression(C=1, class_weight=None, dual=False,\n",
       "                                    fit_intercept=True, intercept_scaling=1,\n",
       "                                    l1_ratio=None, max_iter=100,\n",
       "                                    multi_class='warn', n_jobs=None,\n",
       "                                    penalty='l1', random_state=None,\n",
       "                                    solver='liblinear', tol=0.0001, verbose=0,\n",
       "                                    warm_start=False))],\n",
       "         verbose=False)"
      ]
     },
     "execution_count": 10,
     "metadata": {},
     "output_type": "execute_result"
    }
   ],
   "source": [
    "# What model hyperparameters yielded the highest accuracy score?\n",
    "lr_cv_gs.best_estimator_"
   ]
  },
  {
   "cell_type": "code",
   "execution_count": 11,
   "metadata": {},
   "outputs": [
    {
     "data": {
      "text/plain": [
       "{'cvec__max_df': 1.0,\n",
       " 'cvec__max_features': 500,\n",
       " 'cvec__min_df': 1,\n",
       " 'cvec__ngram_range': (1, 2),\n",
       " 'cvec__stop_words': None,\n",
       " 'lr__C': 1,\n",
       " 'lr__max_iter': 100,\n",
       " 'lr__penalty': 'l1'}"
      ]
     },
     "execution_count": 11,
     "metadata": {},
     "output_type": "execute_result"
    }
   ],
   "source": [
    "# What were the parameters?\n",
    "lr_cv_gs.best_params_"
   ]
  },
  {
   "cell_type": "code",
   "execution_count": 12,
   "metadata": {},
   "outputs": [
    {
     "data": {
      "text/plain": [
       "0.9972639887654052"
      ]
     },
     "execution_count": 12,
     "metadata": {},
     "output_type": "execute_result"
    }
   ],
   "source": [
    "# How does this model perform on the test set?\n",
    "lr_cv_gs.score(X_test, y_test)"
   ]
  },
  {
   "cell_type": "markdown",
   "metadata": {},
   "source": [
    "This model performs with high accuracy on both the train and test datasets. It is neither overfit nor underfit."
   ]
  },
  {
   "cell_type": "markdown",
   "metadata": {},
   "source": [
    "## Logistic Regression: TfidfVecotorizer"
   ]
  },
  {
   "cell_type": "code",
   "execution_count": 13,
   "metadata": {},
   "outputs": [],
   "source": [
    "# Set up pipeline\n",
    "lr_tv_pipe = Pipeline([\n",
    "    ('tvec', TfidfVectorizer()), \n",
    "    ('lr', LogisticRegression(solver='liblinear')) \n",
    "])\n",
    "\n",
    "# Set up pipeline parameters\n",
    "lr_tv_params = {\n",
    "    'tvec__stop_words': [None, 'english'],\n",
    "    'tvec__ngram_range': [(1,1), (1,2), (1,3)], \n",
    "    'tvec__max_features': [100, 500], \n",
    "    'tvec__max_df': [1.0, .95], \n",
    "    'tvec__min_df': [1, .05], \n",
    "    'lr__C': [1, 1e9], \n",
    "    'lr__penalty': ['l1', 'l2'],\n",
    "    'lr__max_iter': [100, 500, 1000]\n",
    "}"
   ]
  },
  {
   "cell_type": "code",
   "execution_count": 14,
   "metadata": {},
   "outputs": [
    {
     "name": "stdout",
     "output_type": "stream",
     "text": [
      "Fitting 5 folds for each of 576 candidates, totalling 2880 fits\n"
     ]
    },
    {
     "name": "stderr",
     "output_type": "stream",
     "text": [
      "[Parallel(n_jobs=4)]: Using backend LokyBackend with 4 concurrent workers.\n",
      "[Parallel(n_jobs=4)]: Done  42 tasks      | elapsed:  1.0min\n",
      "[Parallel(n_jobs=4)]: Done 192 tasks      | elapsed:  4.8min\n",
      "[Parallel(n_jobs=4)]: Done 442 tasks      | elapsed: 10.4min\n",
      "[Parallel(n_jobs=4)]: Done 792 tasks      | elapsed: 18.8min\n",
      "[Parallel(n_jobs=4)]: Done 1242 tasks      | elapsed: 29.7min\n",
      "[Parallel(n_jobs=4)]: Done 1792 tasks      | elapsed: 44.6min\n",
      "[Parallel(n_jobs=4)]: Done 2442 tasks      | elapsed: 61.9min\n",
      "[Parallel(n_jobs=4)]: Done 2880 out of 2880 | elapsed: 74.0min finished\n"
     ]
    }
   ],
   "source": [
    "# Set up gridsearch\n",
    "lr_tv_gs = GridSearchCV(lr_tv_pipe, lr_tv_params, n_jobs=4, cv=5, verbose=1)\n",
    "\n",
    "# Fit the gridsearch to the training data\n",
    "lr_tv_gs.fit(X_train, y_train);"
   ]
  },
  {
   "cell_type": "code",
   "execution_count": 15,
   "metadata": {},
   "outputs": [
    {
     "data": {
      "text/plain": [
       "0.9947781732484282"
      ]
     },
     "execution_count": 15,
     "metadata": {},
     "output_type": "execute_result"
    }
   ],
   "source": [
    "# What was our highest cross-val accuracy score across model hyperparameter combinations?\n",
    "lr_tv_gs.best_score_"
   ]
  },
  {
   "cell_type": "code",
   "execution_count": 16,
   "metadata": {
    "scrolled": true
   },
   "outputs": [
    {
     "data": {
      "text/plain": [
       "Pipeline(memory=None,\n",
       "         steps=[('tvec',\n",
       "                 TfidfVectorizer(analyzer='word', binary=False,\n",
       "                                 decode_error='strict',\n",
       "                                 dtype=<class 'numpy.float64'>,\n",
       "                                 encoding='utf-8', input='content',\n",
       "                                 lowercase=True, max_df=1.0, max_features=500,\n",
       "                                 min_df=1, ngram_range=(1, 2), norm='l2',\n",
       "                                 preprocessor=None, smooth_idf=True,\n",
       "                                 stop_words=None, strip_accents=None,\n",
       "                                 sublinear_tf=False,\n",
       "                                 token_pattern='(?u)\\\\b\\\\w\\\\w+\\\\b',\n",
       "                                 tokenizer=None, use_idf=True,\n",
       "                                 vocabulary=None)),\n",
       "                ('lr',\n",
       "                 LogisticRegression(C=1000000000.0, class_weight=None,\n",
       "                                    dual=False, fit_intercept=True,\n",
       "                                    intercept_scaling=1, l1_ratio=None,\n",
       "                                    max_iter=100, multi_class='warn',\n",
       "                                    n_jobs=None, penalty='l2',\n",
       "                                    random_state=None, solver='liblinear',\n",
       "                                    tol=0.0001, verbose=0, warm_start=False))],\n",
       "         verbose=False)"
      ]
     },
     "execution_count": 16,
     "metadata": {},
     "output_type": "execute_result"
    }
   ],
   "source": [
    "# What model hyperparameters yielded the highest accuracy score?\n",
    "lr_tv_gs.best_estimator_"
   ]
  },
  {
   "cell_type": "code",
   "execution_count": 17,
   "metadata": {
    "scrolled": false
   },
   "outputs": [
    {
     "data": {
      "text/plain": [
       "{'lr__C': 1000000000.0,\n",
       " 'lr__max_iter': 100,\n",
       " 'lr__penalty': 'l2',\n",
       " 'tvec__max_df': 1.0,\n",
       " 'tvec__max_features': 500,\n",
       " 'tvec__min_df': 1,\n",
       " 'tvec__ngram_range': (1, 2),\n",
       " 'tvec__stop_words': None}"
      ]
     },
     "execution_count": 17,
     "metadata": {},
     "output_type": "execute_result"
    }
   ],
   "source": [
    "# What were the parameters?\n",
    "lr_tv_gs.best_params_"
   ]
  },
  {
   "cell_type": "code",
   "execution_count": 18,
   "metadata": {},
   "outputs": [
    {
     "data": {
      "text/plain": [
       "0.9948911648628362"
      ]
     },
     "execution_count": 18,
     "metadata": {},
     "output_type": "execute_result"
    }
   ],
   "source": [
    "# How does this model perform on the test set?\n",
    "lr_tv_gs.score(X_test, y_test)"
   ]
  },
  {
   "cell_type": "markdown",
   "metadata": {},
   "source": [
    "## Support Vector Machine: CountVectorizer"
   ]
  },
  {
   "cell_type": "code",
   "execution_count": 21,
   "metadata": {},
   "outputs": [],
   "source": [
    "# Set up pipeline\n",
    "svc_cv_pipe = Pipeline([\n",
    "    ('cvec', CountVectorizer()), \n",
    "    ('svc', SVC(gamma='scale')) \n",
    "])\n",
    "\n",
    "# Set up pipeline parameters\n",
    "svc_cv_params = {\n",
    "    'cvec__stop_words': [None, 'english'],\n",
    "    'cvec__ngram_range': [(1,1), (1,2), (1,3)], \n",
    "    'cvec__max_features': [100, 250, 500],\n",
    "    'svc__C': [1, 2, 3, 5.5, 7, 8.5, 10, 20, 50], \n",
    "}"
   ]
  },
  {
   "cell_type": "code",
   "execution_count": 22,
   "metadata": {},
   "outputs": [
    {
     "name": "stdout",
     "output_type": "stream",
     "text": [
      "Fitting 5 folds for each of 162 candidates, totalling 810 fits\n"
     ]
    },
    {
     "name": "stderr",
     "output_type": "stream",
     "text": [
      "[Parallel(n_jobs=4)]: Using backend LokyBackend with 4 concurrent workers.\n",
      "[Parallel(n_jobs=4)]: Done  42 tasks      | elapsed: 16.8min\n",
      "[Parallel(n_jobs=4)]: Done 192 tasks      | elapsed: 62.9min\n",
      "[Parallel(n_jobs=4)]: Done 442 tasks      | elapsed: 161.1min\n",
      "[Parallel(n_jobs=4)]: Done 792 tasks      | elapsed: 332.8min\n",
      "[Parallel(n_jobs=4)]: Done 810 out of 810 | elapsed: 339.4min finished\n"
     ]
    }
   ],
   "source": [
    "# Set up gridsearch\n",
    "svc_cv_gs = GridSearchCV(svc_cv_pipe, svc_cv_params, n_jobs=4, cv=5, verbose=1)\n",
    "\n",
    "# Fit the gridsearch to the training data\n",
    "svc_cv_gs.fit(X_train, y_train);"
   ]
  },
  {
   "cell_type": "code",
   "execution_count": 23,
   "metadata": {
    "scrolled": true
   },
   "outputs": [
    {
     "data": {
      "text/plain": [
       "0.9965537557605546"
      ]
     },
     "execution_count": 23,
     "metadata": {},
     "output_type": "execute_result"
    }
   ],
   "source": [
    "# What was our highest cross-val accuracy score across model hyperparameter combinations?\n",
    "svc_cv_gs.best_score_"
   ]
  },
  {
   "cell_type": "code",
   "execution_count": 24,
   "metadata": {},
   "outputs": [
    {
     "data": {
      "text/plain": [
       "Pipeline(memory=None,\n",
       "         steps=[('cvec',\n",
       "                 CountVectorizer(analyzer='word', binary=False,\n",
       "                                 decode_error='strict',\n",
       "                                 dtype=<class 'numpy.int64'>, encoding='utf-8',\n",
       "                                 input='content', lowercase=True, max_df=1.0,\n",
       "                                 max_features=500, min_df=1, ngram_range=(1, 2),\n",
       "                                 preprocessor=None, stop_words='english',\n",
       "                                 strip_accents=None,\n",
       "                                 token_pattern='(?u)\\\\b\\\\w\\\\w+\\\\b',\n",
       "                                 tokenizer=None, vocabulary=None)),\n",
       "                ('svc',\n",
       "                 SVC(C=3, cache_size=200, class_weight=None, coef0=0.0,\n",
       "                     decision_function_shape='ovr', degree=3, gamma='scale',\n",
       "                     kernel='rbf', max_iter=-1, probability=False,\n",
       "                     random_state=None, shrinking=True, tol=0.001,\n",
       "                     verbose=False))],\n",
       "         verbose=False)"
      ]
     },
     "execution_count": 24,
     "metadata": {},
     "output_type": "execute_result"
    }
   ],
   "source": [
    "# What model hyperparameters yielded the highest accuracy score?\n",
    "svc_cv_gs.best_estimator_"
   ]
  },
  {
   "cell_type": "code",
   "execution_count": 25,
   "metadata": {},
   "outputs": [
    {
     "data": {
      "text/plain": [
       "{'cvec__max_features': 500,\n",
       " 'cvec__ngram_range': (1, 2),\n",
       " 'cvec__stop_words': 'english',\n",
       " 'svc__C': 3}"
      ]
     },
     "execution_count": 25,
     "metadata": {},
     "output_type": "execute_result"
    }
   ],
   "source": [
    "# What were the parameters?\n",
    "svc_cv_gs.best_params_"
   ]
  },
  {
   "cell_type": "code",
   "execution_count": 26,
   "metadata": {
    "scrolled": true
   },
   "outputs": [
    {
     "data": {
      "text/plain": [
       "0.9970702888549914"
      ]
     },
     "execution_count": 26,
     "metadata": {},
     "output_type": "execute_result"
    }
   ],
   "source": [
    "# How does this model perform on the test set?\n",
    "svc_cv_gs.score(X_test, y_test)"
   ]
  },
  {
   "cell_type": "markdown",
   "metadata": {},
   "source": [
    "## Support Vector Machine: TfidfVectorizer"
   ]
  },
  {
   "cell_type": "code",
   "execution_count": 27,
   "metadata": {},
   "outputs": [],
   "source": [
    "# Set up pipeline\n",
    "svc_tv_pipe = Pipeline([\n",
    "    ('tvec', TfidfVectorizer()), \n",
    "    ('svc', SVC(gamma='scale')) \n",
    "])\n",
    "\n",
    "# Set up pipeline parameters\n",
    "svc_tv_params = {\n",
    "    'tvec__stop_words': [None, 'english'],\n",
    "    'tvec__ngram_range': [(1,1), (1,2), (1,3)], \n",
    "    'tvec__max_features': [100, 250, 500],\n",
    "    'svc__C': [1, 2, 3, 5.5, 7, 8.5, 10, 20, 50], \n",
    "}"
   ]
  },
  {
   "cell_type": "code",
   "execution_count": 28,
   "metadata": {},
   "outputs": [
    {
     "name": "stdout",
     "output_type": "stream",
     "text": [
      "Fitting 5 folds for each of 162 candidates, totalling 810 fits\n"
     ]
    },
    {
     "name": "stderr",
     "output_type": "stream",
     "text": [
      "[Parallel(n_jobs=4)]: Using backend LokyBackend with 4 concurrent workers.\n",
      "[Parallel(n_jobs=4)]: Done  42 tasks      | elapsed:  9.8min\n",
      "[Parallel(n_jobs=4)]: Done 192 tasks      | elapsed: 52.0min\n",
      "[Parallel(n_jobs=4)]: Done 442 tasks      | elapsed: 129.4min\n",
      "[Parallel(n_jobs=4)]: Done 792 tasks      | elapsed: 236.8min\n",
      "[Parallel(n_jobs=4)]: Done 810 out of 810 | elapsed: 242.9min finished\n"
     ]
    }
   ],
   "source": [
    "# Set up gridsearch\n",
    "svc_tv_gs = GridSearchCV(svc_tv_pipe, svc_tv_params, n_jobs=4, cv=5, verbose=1)\n",
    "\n",
    "# Fit the gridsearch to the training data\n",
    "svc_tv_gs.fit(X_train, y_train);"
   ]
  },
  {
   "cell_type": "code",
   "execution_count": 29,
   "metadata": {
    "scrolled": true
   },
   "outputs": [
    {
     "data": {
      "text/plain": [
       "0.9970460763661897"
      ]
     },
     "execution_count": 29,
     "metadata": {},
     "output_type": "execute_result"
    }
   ],
   "source": [
    "# What was our highest cross-val accuracy score across model hyperparameter combinations?\n",
    "svc_tv_gs.best_score_"
   ]
  },
  {
   "cell_type": "code",
   "execution_count": 30,
   "metadata": {},
   "outputs": [
    {
     "data": {
      "text/plain": [
       "Pipeline(memory=None,\n",
       "         steps=[('tvec',\n",
       "                 TfidfVectorizer(analyzer='word', binary=False,\n",
       "                                 decode_error='strict',\n",
       "                                 dtype=<class 'numpy.float64'>,\n",
       "                                 encoding='utf-8', input='content',\n",
       "                                 lowercase=True, max_df=1.0, max_features=500,\n",
       "                                 min_df=1, ngram_range=(1, 1), norm='l2',\n",
       "                                 preprocessor=None, smooth_idf=True,\n",
       "                                 stop_words=None, strip_accents=None,\n",
       "                                 sublinear_tf=False,\n",
       "                                 token_pattern='(?u)\\\\b\\\\w\\\\w+\\\\b',\n",
       "                                 tokenizer=None, use_idf=True,\n",
       "                                 vocabulary=None)),\n",
       "                ('svc',\n",
       "                 SVC(C=7, cache_size=200, class_weight=None, coef0=0.0,\n",
       "                     decision_function_shape='ovr', degree=3, gamma='scale',\n",
       "                     kernel='rbf', max_iter=-1, probability=False,\n",
       "                     random_state=None, shrinking=True, tol=0.001,\n",
       "                     verbose=False))],\n",
       "         verbose=False)"
      ]
     },
     "execution_count": 30,
     "metadata": {},
     "output_type": "execute_result"
    }
   ],
   "source": [
    "# What model hyperparameters yielded the highest accuracy score?\n",
    "svc_tv_gs.best_estimator_"
   ]
  },
  {
   "cell_type": "code",
   "execution_count": 31,
   "metadata": {},
   "outputs": [
    {
     "data": {
      "text/plain": [
       "{'svc__C': 7,\n",
       " 'tvec__max_features': 500,\n",
       " 'tvec__ngram_range': (1, 1),\n",
       " 'tvec__stop_words': None}"
      ]
     },
     "execution_count": 31,
     "metadata": {},
     "output_type": "execute_result"
    }
   ],
   "source": [
    "# What were the parameters?\n",
    "svc_tv_gs.best_params_"
   ]
  },
  {
   "cell_type": "code",
   "execution_count": 32,
   "metadata": {
    "scrolled": true
   },
   "outputs": [
    {
     "data": {
      "text/plain": [
       "0.9973366262318104"
      ]
     },
     "execution_count": 32,
     "metadata": {},
     "output_type": "execute_result"
    }
   ],
   "source": [
    "# How does this model perform on the test set?\n",
    "svc_tv_gs.score(X_test, y_test)"
   ]
  },
  {
   "cell_type": "markdown",
   "metadata": {},
   "source": [
    "## Import Test Data"
   ]
  },
  {
   "cell_type": "code",
   "execution_count": 7,
   "metadata": {},
   "outputs": [
    {
     "data": {
      "text/plain": [
       "(3096, 5)"
      ]
     },
     "execution_count": 7,
     "metadata": {},
     "output_type": "execute_result"
    }
   ],
   "source": [
    "# Import test data to get project predictions\n",
    "test_df = pd.read_csv('./data/test_data/combined_test_data.csv')\n",
    "test_df.shape"
   ]
  },
  {
   "cell_type": "code",
   "execution_count": 8,
   "metadata": {},
   "outputs": [
    {
     "data": {
      "text/html": [
       "<div>\n",
       "<style scoped>\n",
       "    .dataframe tbody tr th:only-of-type {\n",
       "        vertical-align: middle;\n",
       "    }\n",
       "\n",
       "    .dataframe tbody tr th {\n",
       "        vertical-align: top;\n",
       "    }\n",
       "\n",
       "    .dataframe thead th {\n",
       "        text-align: right;\n",
       "    }\n",
       "</style>\n",
       "<table border=\"1\" class=\"dataframe\">\n",
       "  <thead>\n",
       "    <tr style=\"text-align: right;\">\n",
       "      <th></th>\n",
       "      <th>Unnamed: 0</th>\n",
       "      <th>0</th>\n",
       "      <th>1</th>\n",
       "      <th>2</th>\n",
       "      <th>3</th>\n",
       "    </tr>\n",
       "  </thead>\n",
       "  <tbody>\n",
       "    <tr>\n",
       "      <th>0</th>\n",
       "      <td>0</td>\n",
       "      <td>2017-08-31 21:34:27+00:00</td>\n",
       "      <td>DallasPD</td>\n",
       "      <td>Reminder: Texas State Law prohibiting texting ...</td>\n",
       "      <td>NaN</td>\n",
       "    </tr>\n",
       "    <tr>\n",
       "      <th>1</th>\n",
       "      <td>1</td>\n",
       "      <td>2017-08-31 21:03:18+00:00</td>\n",
       "      <td>DallasPD</td>\n",
       "      <td>Brotherhood for the Fallen Charity Event</td>\n",
       "      <td>NaN</td>\n",
       "    </tr>\n",
       "    <tr>\n",
       "      <th>2</th>\n",
       "      <td>2</td>\n",
       "      <td>2017-08-31 17:16:43+00:00</td>\n",
       "      <td>DallasPD</td>\n",
       "      <td>FREE #TRINITY EVENT - Artisan Fair Market - Se...</td>\n",
       "      <td>#TRINITY #LaborDayWeekend</td>\n",
       "    </tr>\n",
       "    <tr>\n",
       "      <th>3</th>\n",
       "      <td>3</td>\n",
       "      <td>2017-08-31 17:13:36+00:00</td>\n",
       "      <td>DallasPD</td>\n",
       "      <td>Our thoughts and prayers are with the Sacramen...</td>\n",
       "      <td>NaN</td>\n",
       "    </tr>\n",
       "    <tr>\n",
       "      <th>4</th>\n",
       "      <td>4</td>\n",
       "      <td>2017-08-31 17:10:47+00:00</td>\n",
       "      <td>DallasPD</td>\n",
       "      <td>How can Dallas residents help animals affected...</td>\n",
       "      <td>#HurricaneHarvey</td>\n",
       "    </tr>\n",
       "  </tbody>\n",
       "</table>\n",
       "</div>"
      ],
      "text/plain": [
       "   Unnamed: 0                          0         1  \\\n",
       "0           0  2017-08-31 21:34:27+00:00  DallasPD   \n",
       "1           1  2017-08-31 21:03:18+00:00  DallasPD   \n",
       "2           2  2017-08-31 17:16:43+00:00  DallasPD   \n",
       "3           3  2017-08-31 17:13:36+00:00  DallasPD   \n",
       "4           4  2017-08-31 17:10:47+00:00  DallasPD   \n",
       "\n",
       "                                                   2  \\\n",
       "0  Reminder: Texas State Law prohibiting texting ...   \n",
       "1           Brotherhood for the Fallen Charity Event   \n",
       "2  FREE #TRINITY EVENT - Artisan Fair Market - Se...   \n",
       "3  Our thoughts and prayers are with the Sacramen...   \n",
       "4  How can Dallas residents help animals affected...   \n",
       "\n",
       "                           3  \n",
       "0                        NaN  \n",
       "1                        NaN  \n",
       "2  #TRINITY #LaborDayWeekend  \n",
       "3                        NaN  \n",
       "4           #HurricaneHarvey  "
      ]
     },
     "execution_count": 8,
     "metadata": {},
     "output_type": "execute_result"
    }
   ],
   "source": [
    "# Look at the first 5 rows\n",
    "test_df.head()"
   ]
  },
  {
   "cell_type": "code",
   "execution_count": 9,
   "metadata": {},
   "outputs": [
    {
     "data": {
      "text/html": [
       "<div>\n",
       "<style scoped>\n",
       "    .dataframe tbody tr th:only-of-type {\n",
       "        vertical-align: middle;\n",
       "    }\n",
       "\n",
       "    .dataframe tbody tr th {\n",
       "        vertical-align: top;\n",
       "    }\n",
       "\n",
       "    .dataframe thead th {\n",
       "        text-align: right;\n",
       "    }\n",
       "</style>\n",
       "<table border=\"1\" class=\"dataframe\">\n",
       "  <thead>\n",
       "    <tr style=\"text-align: right;\">\n",
       "      <th></th>\n",
       "      <th>0</th>\n",
       "      <th>1</th>\n",
       "      <th>2</th>\n",
       "    </tr>\n",
       "  </thead>\n",
       "  <tbody>\n",
       "    <tr>\n",
       "      <th>0</th>\n",
       "      <td>2017-08-31 21:34:27+00:00</td>\n",
       "      <td>DallasPD</td>\n",
       "      <td>Reminder: Texas State Law prohibiting texting ...</td>\n",
       "    </tr>\n",
       "    <tr>\n",
       "      <th>1</th>\n",
       "      <td>2017-08-31 21:03:18+00:00</td>\n",
       "      <td>DallasPD</td>\n",
       "      <td>Brotherhood for the Fallen Charity Event</td>\n",
       "    </tr>\n",
       "    <tr>\n",
       "      <th>2</th>\n",
       "      <td>2017-08-31 17:16:43+00:00</td>\n",
       "      <td>DallasPD</td>\n",
       "      <td>FREE #TRINITY EVENT - Artisan Fair Market - Se...</td>\n",
       "    </tr>\n",
       "    <tr>\n",
       "      <th>3</th>\n",
       "      <td>2017-08-31 17:13:36+00:00</td>\n",
       "      <td>DallasPD</td>\n",
       "      <td>Our thoughts and prayers are with the Sacramen...</td>\n",
       "    </tr>\n",
       "    <tr>\n",
       "      <th>4</th>\n",
       "      <td>2017-08-31 17:10:47+00:00</td>\n",
       "      <td>DallasPD</td>\n",
       "      <td>How can Dallas residents help animals affected...</td>\n",
       "    </tr>\n",
       "  </tbody>\n",
       "</table>\n",
       "</div>"
      ],
      "text/plain": [
       "                           0         1  \\\n",
       "0  2017-08-31 21:34:27+00:00  DallasPD   \n",
       "1  2017-08-31 21:03:18+00:00  DallasPD   \n",
       "2  2017-08-31 17:16:43+00:00  DallasPD   \n",
       "3  2017-08-31 17:13:36+00:00  DallasPD   \n",
       "4  2017-08-31 17:10:47+00:00  DallasPD   \n",
       "\n",
       "                                                   2  \n",
       "0  Reminder: Texas State Law prohibiting texting ...  \n",
       "1           Brotherhood for the Fallen Charity Event  \n",
       "2  FREE #TRINITY EVENT - Artisan Fair Market - Se...  \n",
       "3  Our thoughts and prayers are with the Sacramen...  \n",
       "4  How can Dallas residents help animals affected...  "
      ]
     },
     "execution_count": 9,
     "metadata": {},
     "output_type": "execute_result"
    }
   ],
   "source": [
    "# Drop 'Unnamed: 0' and hashtage ('3') columns\n",
    "test_df.drop(columns=['Unnamed: 0', '3'], inplace=True)\n",
    "test_df.head()"
   ]
  },
  {
   "cell_type": "code",
   "execution_count": 10,
   "metadata": {},
   "outputs": [
    {
     "data": {
      "text/html": [
       "<div>\n",
       "<style scoped>\n",
       "    .dataframe tbody tr th:only-of-type {\n",
       "        vertical-align: middle;\n",
       "    }\n",
       "\n",
       "    .dataframe tbody tr th {\n",
       "        vertical-align: top;\n",
       "    }\n",
       "\n",
       "    .dataframe thead th {\n",
       "        text-align: right;\n",
       "    }\n",
       "</style>\n",
       "<table border=\"1\" class=\"dataframe\">\n",
       "  <thead>\n",
       "    <tr style=\"text-align: right;\">\n",
       "      <th></th>\n",
       "      <th>dates&amp;time</th>\n",
       "      <th>user</th>\n",
       "      <th>tweet</th>\n",
       "    </tr>\n",
       "  </thead>\n",
       "  <tbody>\n",
       "    <tr>\n",
       "      <th>0</th>\n",
       "      <td>2017-08-31 21:34:27+00:00</td>\n",
       "      <td>DallasPD</td>\n",
       "      <td>Reminder: Texas State Law prohibiting texting ...</td>\n",
       "    </tr>\n",
       "    <tr>\n",
       "      <th>1</th>\n",
       "      <td>2017-08-31 21:03:18+00:00</td>\n",
       "      <td>DallasPD</td>\n",
       "      <td>Brotherhood for the Fallen Charity Event</td>\n",
       "    </tr>\n",
       "    <tr>\n",
       "      <th>2</th>\n",
       "      <td>2017-08-31 17:16:43+00:00</td>\n",
       "      <td>DallasPD</td>\n",
       "      <td>FREE #TRINITY EVENT - Artisan Fair Market - Se...</td>\n",
       "    </tr>\n",
       "    <tr>\n",
       "      <th>3</th>\n",
       "      <td>2017-08-31 17:13:36+00:00</td>\n",
       "      <td>DallasPD</td>\n",
       "      <td>Our thoughts and prayers are with the Sacramen...</td>\n",
       "    </tr>\n",
       "    <tr>\n",
       "      <th>4</th>\n",
       "      <td>2017-08-31 17:10:47+00:00</td>\n",
       "      <td>DallasPD</td>\n",
       "      <td>How can Dallas residents help animals affected...</td>\n",
       "    </tr>\n",
       "  </tbody>\n",
       "</table>\n",
       "</div>"
      ],
      "text/plain": [
       "                  dates&time      user  \\\n",
       "0  2017-08-31 21:34:27+00:00  DallasPD   \n",
       "1  2017-08-31 21:03:18+00:00  DallasPD   \n",
       "2  2017-08-31 17:16:43+00:00  DallasPD   \n",
       "3  2017-08-31 17:13:36+00:00  DallasPD   \n",
       "4  2017-08-31 17:10:47+00:00  DallasPD   \n",
       "\n",
       "                                               tweet  \n",
       "0  Reminder: Texas State Law prohibiting texting ...  \n",
       "1           Brotherhood for the Fallen Charity Event  \n",
       "2  FREE #TRINITY EVENT - Artisan Fair Market - Se...  \n",
       "3  Our thoughts and prayers are with the Sacramen...  \n",
       "4  How can Dallas residents help animals affected...  "
      ]
     },
     "execution_count": 10,
     "metadata": {},
     "output_type": "execute_result"
    }
   ],
   "source": [
    "# Rename columns\n",
    "test_df.rename(columns={'0': 'dates&time', '1': 'user', '2': 'tweet'}, inplace=True)\n",
    "test_df.head()"
   ]
  },
  {
   "cell_type": "code",
   "execution_count": 11,
   "metadata": {},
   "outputs": [
    {
     "data": {
      "text/plain": [
       "dates&time    0\n",
       "user          0\n",
       "tweet         9\n",
       "dtype: int64"
      ]
     },
     "execution_count": 11,
     "metadata": {},
     "output_type": "execute_result"
    }
   ],
   "source": [
    "# Check for nulls\n",
    "test_df.isnull().sum()"
   ]
  },
  {
   "cell_type": "code",
   "execution_count": 12,
   "metadata": {},
   "outputs": [
    {
     "data": {
      "text/plain": [
       "dates&time    0\n",
       "user          0\n",
       "tweet         0\n",
       "dtype: int64"
      ]
     },
     "execution_count": 12,
     "metadata": {},
     "output_type": "execute_result"
    }
   ],
   "source": [
    "# Remove rows will null values for 'tweet' and verify changes\n",
    "test_df = test_df[test_df['tweet'].notnull()]\n",
    "test_df.isnull().sum()"
   ]
  },
  {
   "cell_type": "code",
   "execution_count": 13,
   "metadata": {},
   "outputs": [],
   "source": [
    "# Export clean test data\n",
    "test_df.to_csv('./data/test_data/final_test_data.csv', index=False)"
   ]
  },
  {
   "cell_type": "markdown",
   "metadata": {},
   "source": [
    "## Pickle / Export Models"
   ]
  },
  {
   "cell_type": "code",
   "execution_count": 14,
   "metadata": {},
   "outputs": [],
   "source": [
    "import pickle"
   ]
  },
  {
   "cell_type": "markdown",
   "metadata": {},
   "source": [
    "### SVC / TfidfVectorizer"
   ]
  },
  {
   "cell_type": "code",
   "execution_count": 37,
   "metadata": {},
   "outputs": [],
   "source": [
    "# Instantiate and fit svc pipeline with best hyperparameters\n",
    "best_pipe = Pipeline([\n",
    "    ('tvec', TfidfVectorizer(max_features=500)),\n",
    "    ('svc', SVC(gamma='scale', C=7))\n",
    "])\n",
    "best_pipe.fit(X_train, y_train);"
   ]
  },
  {
   "cell_type": "code",
   "execution_count": 39,
   "metadata": {},
   "outputs": [
    {
     "name": "stdout",
     "output_type": "stream",
     "text": [
      "Train score: 0.9999273625335948\n",
      "Train cross val score: 0.9970460777980892\n",
      "Test score: 0.9973366262318104\n"
     ]
    }
   ],
   "source": [
    "# Get the score on train and test data\n",
    "print(f'Train score: {best_pipe.score(X_train, y_train)}')\n",
    "print(f'Train cross val score: {cross_val_score(best_pipe, X_train, y_train, cv=5).mean()}')\n",
    "print(f'Test score: {best_pipe.score(X_test, y_test)}')"
   ]
  },
  {
   "cell_type": "code",
   "execution_count": 40,
   "metadata": {
    "scrolled": true
   },
   "outputs": [
    {
     "data": {
      "text/plain": [
       "array([0, 0, 1, 0, 0])"
      ]
     },
     "execution_count": 40,
     "metadata": {},
     "output_type": "execute_result"
    }
   ],
   "source": [
    "# Get predictions on test set of train data\n",
    "y_pred = best_pipe.predict(X_test)\n",
    "y_pred[:5]"
   ]
  },
  {
   "cell_type": "code",
   "execution_count": 86,
   "metadata": {},
   "outputs": [
    {
     "data": {
      "text/plain": [
       "array([0, 0, 0, 0, 0])"
      ]
     },
     "execution_count": 86,
     "metadata": {},
     "output_type": "execute_result"
    }
   ],
   "source": [
    "# Define X and y for test data\n",
    "test_X = test_df['tweet']\n",
    "\n",
    "# Get predicitons on our true test data\n",
    "test_y_pred = best_pipe.predict(test_X)\n",
    "test_y_pred[:5]"
   ]
  },
  {
   "cell_type": "code",
   "execution_count": 87,
   "metadata": {},
   "outputs": [],
   "source": [
    "# Set filename and export\n",
    "filename = './assets/svc_tv.sav'\n",
    "pickle.dump(best_pipe, open(filename, 'wb'))"
   ]
  },
  {
   "cell_type": "code",
   "execution_count": 88,
   "metadata": {
    "scrolled": true
   },
   "outputs": [
    {
     "name": "stdout",
     "output_type": "stream",
     "text": [
      "[0 0 0 0 0]\n"
     ]
    }
   ],
   "source": [
    "# Get predictions on our true test data using the pickled model\n",
    "model = pickle.load(open('svc_tv.sav','rb'))\n",
    "print(model.predict(test_X)[:5])"
   ]
  },
  {
   "cell_type": "markdown",
   "metadata": {},
   "source": [
    "### Logistic Regression / CountVectorizer"
   ]
  },
  {
   "cell_type": "code",
   "execution_count": 15,
   "metadata": {},
   "outputs": [],
   "source": [
    "# Instantiate and fit svc pipeline with best hyperparameters\n",
    "best_pipe_lr = Pipeline([\n",
    "    ('cvec', CountVectorizer(max_features=500, ngram_range=(1,2))),\n",
    "    ('lr', LogisticRegression(solver='liblinear', penalty='l1'))\n",
    "])\n",
    "best_pipe_lr.fit(X_train, y_train);"
   ]
  },
  {
   "cell_type": "code",
   "execution_count": 16,
   "metadata": {},
   "outputs": [
    {
     "name": "stdout",
     "output_type": "stream",
     "text": [
      "Train score: 0.9979822925998564\n",
      "Train cross val score: 0.9971429268413905\n",
      "Test score: 0.9972882012542069\n"
     ]
    }
   ],
   "source": [
    "# Get the score on train and test data\n",
    "print(f'Train score: {best_pipe_lr.score(X_train, y_train)}')\n",
    "print(f'Train cross val score: {cross_val_score(best_pipe_lr, X_train, y_train, cv=5).mean()}')\n",
    "print(f'Test score: {best_pipe_lr.score(X_test, y_test)}')"
   ]
  },
  {
   "cell_type": "code",
   "execution_count": 17,
   "metadata": {
    "scrolled": true
   },
   "outputs": [
    {
     "data": {
      "text/plain": [
       "array([0, 0, 1, 0, 0])"
      ]
     },
     "execution_count": 17,
     "metadata": {},
     "output_type": "execute_result"
    }
   ],
   "source": [
    "# Get predictions on test set of train data\n",
    "y_pred_lr = best_pipe_lr.predict(X_test)\n",
    "y_pred_lr[:5]"
   ]
  },
  {
   "cell_type": "code",
   "execution_count": 18,
   "metadata": {},
   "outputs": [
    {
     "data": {
      "text/plain": [
       "array([0, 0, 0, 0, 0])"
      ]
     },
     "execution_count": 18,
     "metadata": {},
     "output_type": "execute_result"
    }
   ],
   "source": [
    "# Define X and y for test data\n",
    "test_X = test_df['tweet']\n",
    "\n",
    "# Get predicitons on our true test data\n",
    "test_y_pred_lr = best_pipe_lr.predict(test_X)\n",
    "test_y_pred_lr[:5]"
   ]
  },
  {
   "cell_type": "code",
   "execution_count": 68,
   "metadata": {},
   "outputs": [],
   "source": [
    "# Set filename and export\n",
    "filename = './assets/lr_cv.sav'\n",
    "pickle.dump(best_pipe_lr, open(filename, 'wb'))"
   ]
  },
  {
   "cell_type": "code",
   "execution_count": 90,
   "metadata": {
    "scrolled": true
   },
   "outputs": [
    {
     "name": "stdout",
     "output_type": "stream",
     "text": [
      "[0 0 0 0 0]\n"
     ]
    }
   ],
   "source": [
    "# Get predictions on our true test data using the pickled model\n",
    "model_lr = pickle.load(open('./assets/lr_cv.sav','rb'))\n",
    "print(model_lr.predict(test_X)[:5])"
   ]
  },
  {
   "cell_type": "markdown",
   "metadata": {},
   "source": [
    "## Compare Test Data Predictions"
   ]
  },
  {
   "cell_type": "code",
   "execution_count": 91,
   "metadata": {},
   "outputs": [
    {
     "data": {
      "text/plain": [
       "[(0, 0), (0, 0), (0, 0), (0, 0), (0, 0)]"
      ]
     },
     "execution_count": 91,
     "metadata": {},
     "output_type": "execute_result"
    }
   ],
   "source": [
    "pred_comparison = list(zip(model.predict(test_X), model_lr.predict(test_X)))\n",
    "pred_comparison[:5]"
   ]
  },
  {
   "cell_type": "code",
   "execution_count": 92,
   "metadata": {},
   "outputs": [
    {
     "data": {
      "text/plain": [
       "28"
      ]
     },
     "execution_count": 92,
     "metadata": {},
     "output_type": "execute_result"
    }
   ],
   "source": [
    "# How many tweets are labelled differently between the two models?\n",
    "count = 0\n",
    "for tup in pred_comparison:\n",
    "    svc, lr = tup\n",
    "    if svc != lr:\n",
    "        count +=1\n",
    "count"
   ]
  },
  {
   "cell_type": "code",
   "execution_count": 93,
   "metadata": {},
   "outputs": [
    {
     "data": {
      "text/plain": [
       "126"
      ]
     },
     "execution_count": 93,
     "metadata": {},
     "output_type": "execute_result"
    }
   ],
   "source": [
    "# How many tweets between the two models were labelled useful?\n",
    "count = 0\n",
    "for tup in pred_comparison:\n",
    "    svc, lr = tup\n",
    "    if svc == 1 or lr == 1:\n",
    "        count +=1\n",
    "count"
   ]
  },
  {
   "cell_type": "code",
   "execution_count": 94,
   "metadata": {},
   "outputs": [
    {
     "data": {
      "text/plain": [
       "98"
      ]
     },
     "execution_count": 94,
     "metadata": {},
     "output_type": "execute_result"
    }
   ],
   "source": [
    "# How many tweets were labelled useful in both models?\n",
    "count = 0\n",
    "for tup in pred_comparison:\n",
    "    svc, lr = tup\n",
    "    if svc == 1 and lr == 1:\n",
    "        count +=1\n",
    "count"
   ]
  },
  {
   "cell_type": "markdown",
   "metadata": {},
   "source": [
    "## Model Evaluation"
   ]
  },
  {
   "cell_type": "code",
   "execution_count": 19,
   "metadata": {},
   "outputs": [
    {
     "name": "stdout",
     "output_type": "stream",
     "text": [
      "[0 0 1 0 0]\n"
     ]
    }
   ],
   "source": [
    "# Get y predictions on test set of train data\n",
    "model_lr = pickle.load(open('./assets/lr_cv.sav','rb'))\n",
    "y_pred = model_lr.predict(X_test)\n",
    "print(model_lr.predict(X_test)[:5])"
   ]
  },
  {
   "cell_type": "code",
   "execution_count": 20,
   "metadata": {},
   "outputs": [
    {
     "data": {
      "text/html": [
       "<div>\n",
       "<style scoped>\n",
       "    .dataframe tbody tr th:only-of-type {\n",
       "        vertical-align: middle;\n",
       "    }\n",
       "\n",
       "    .dataframe tbody tr th {\n",
       "        vertical-align: top;\n",
       "    }\n",
       "\n",
       "    .dataframe thead th {\n",
       "        text-align: right;\n",
       "    }\n",
       "</style>\n",
       "<table border=\"1\" class=\"dataframe\">\n",
       "  <thead>\n",
       "    <tr style=\"text-align: right;\">\n",
       "      <th></th>\n",
       "      <th>predicted not useful</th>\n",
       "      <th>predicted useful</th>\n",
       "    </tr>\n",
       "  </thead>\n",
       "  <tbody>\n",
       "    <tr>\n",
       "      <th>actual not useful</th>\n",
       "      <td>39115</td>\n",
       "      <td>73</td>\n",
       "    </tr>\n",
       "    <tr>\n",
       "      <th>actual useful</th>\n",
       "      <td>39</td>\n",
       "      <td>2074</td>\n",
       "    </tr>\n",
       "  </tbody>\n",
       "</table>\n",
       "</div>"
      ],
      "text/plain": [
       "                   predicted not useful  predicted useful\n",
       "actual not useful                 39115                73\n",
       "actual useful                        39              2074"
      ]
     },
     "execution_count": 20,
     "metadata": {},
     "output_type": "execute_result"
    }
   ],
   "source": [
    "# Generate confusion matrix\n",
    "cm = confusion_matrix(y_test, y_pred)\n",
    "cm_df = pd.DataFrame(cm, \n",
    "             columns=['predicted not useful', 'predicted useful'], \n",
    "             index=['actual not useful', 'actual useful'])\n",
    "cm_df"
   ]
  },
  {
   "cell_type": "code",
   "execution_count": 23,
   "metadata": {},
   "outputs": [
    {
     "name": "stdout",
     "output_type": "stream",
     "text": [
      "Sensitivity: 0.9815428300993848\n",
      "Specificity: 0.9981371848525059\n",
      "Precision: 0.9659990684676293\n",
      "False negative rate: 0.999003933186903\n",
      "Accuracy: 0.9972882012542069\n"
     ]
    }
   ],
   "source": [
    "# Get tn, fp, fn, tp\n",
    "tn, fp, fn, tp = cm.ravel()\n",
    "\n",
    "# Calculate sensitivity\n",
    "print(f'Sensitivity: {tp / (tp + fn)}')\n",
    "\n",
    "# Calculate specificity\n",
    "print(f'Specificity: {tn / (tn + fp)}')\n",
    "\n",
    "# Calculate precision\n",
    "print(f'Precision: {tp / (tp + fp)}')\n",
    "\n",
    "# Calculate false negative rate\n",
    "print(f'False negative rate: {tn / (tn + fn)}')\n",
    "\n",
    "# Calculate accuracy\n",
    "print(f'Accuracy: {(tp + tn) / (tp + tn + fp + fn)}')\n"
   ]
  },
  {
   "cell_type": "markdown",
   "metadata": {},
   "source": [
    "## Explore Results"
   ]
  },
  {
   "cell_type": "code",
   "execution_count": 28,
   "metadata": {},
   "outputs": [
    {
     "data": {
      "text/html": [
       "<div>\n",
       "<style scoped>\n",
       "    .dataframe tbody tr th:only-of-type {\n",
       "        vertical-align: middle;\n",
       "    }\n",
       "\n",
       "    .dataframe tbody tr th {\n",
       "        vertical-align: top;\n",
       "    }\n",
       "\n",
       "    .dataframe thead th {\n",
       "        text-align: right;\n",
       "    }\n",
       "</style>\n",
       "<table border=\"1\" class=\"dataframe\">\n",
       "  <thead>\n",
       "    <tr style=\"text-align: right;\">\n",
       "      <th></th>\n",
       "      <th>tweet</th>\n",
       "      <th>class</th>\n",
       "    </tr>\n",
       "  </thead>\n",
       "  <tbody>\n",
       "    <tr>\n",
       "      <th>63790</th>\n",
       "      <td>Teen CPA class night  pictures Teens learned a...</td>\n",
       "      <td>0</td>\n",
       "    </tr>\n",
       "    <tr>\n",
       "      <th>136287</th>\n",
       "      <td>Preparation for the SH  at SH  groundbreaking ...</td>\n",
       "      <td>0</td>\n",
       "    </tr>\n",
       "    <tr>\n",
       "      <th>6656</th>\n",
       "      <td>The access roads on I closed both ways at the ...</td>\n",
       "      <td>1</td>\n",
       "    </tr>\n",
       "    <tr>\n",
       "      <th>93714</th>\n",
       "      <td>The sunny weather weve enjoyed this week is no...</td>\n",
       "      <td>0</td>\n",
       "    </tr>\n",
       "    <tr>\n",
       "      <th>84860</th>\n",
       "      <td>Neither the trooper or the suspects were injur...</td>\n",
       "      <td>0</td>\n",
       "    </tr>\n",
       "  </tbody>\n",
       "</table>\n",
       "</div>"
      ],
      "text/plain": [
       "                                                    tweet  class\n",
       "63790   Teen CPA class night  pictures Teens learned a...      0\n",
       "136287  Preparation for the SH  at SH  groundbreaking ...      0\n",
       "6656    The access roads on I closed both ways at the ...      1\n",
       "93714   The sunny weather weve enjoyed this week is no...      0\n",
       "84860   Neither the trooper or the suspects were injur...      0"
      ]
     },
     "execution_count": 28,
     "metadata": {},
     "output_type": "execute_result"
    }
   ],
   "source": [
    "# Create dataframe of test set of train data\n",
    "explore_df = pd.DataFrame(X_test)\n",
    "explore_df = pd.concat([explore_df, y_test], axis=1)\n",
    "explore_df.head()"
   ]
  },
  {
   "cell_type": "code",
   "execution_count": 29,
   "metadata": {},
   "outputs": [
    {
     "data": {
      "text/html": [
       "<div>\n",
       "<style scoped>\n",
       "    .dataframe tbody tr th:only-of-type {\n",
       "        vertical-align: middle;\n",
       "    }\n",
       "\n",
       "    .dataframe tbody tr th {\n",
       "        vertical-align: top;\n",
       "    }\n",
       "\n",
       "    .dataframe thead th {\n",
       "        text-align: right;\n",
       "    }\n",
       "</style>\n",
       "<table border=\"1\" class=\"dataframe\">\n",
       "  <thead>\n",
       "    <tr style=\"text-align: right;\">\n",
       "      <th></th>\n",
       "      <th>tweet</th>\n",
       "      <th>class</th>\n",
       "      <th>pred</th>\n",
       "    </tr>\n",
       "  </thead>\n",
       "  <tbody>\n",
       "    <tr>\n",
       "      <th>63790</th>\n",
       "      <td>Teen CPA class night  pictures Teens learned a...</td>\n",
       "      <td>0</td>\n",
       "      <td>0</td>\n",
       "    </tr>\n",
       "    <tr>\n",
       "      <th>136287</th>\n",
       "      <td>Preparation for the SH  at SH  groundbreaking ...</td>\n",
       "      <td>0</td>\n",
       "      <td>0</td>\n",
       "    </tr>\n",
       "    <tr>\n",
       "      <th>6656</th>\n",
       "      <td>The access roads on I closed both ways at the ...</td>\n",
       "      <td>1</td>\n",
       "      <td>1</td>\n",
       "    </tr>\n",
       "    <tr>\n",
       "      <th>93714</th>\n",
       "      <td>The sunny weather weve enjoyed this week is no...</td>\n",
       "      <td>0</td>\n",
       "      <td>0</td>\n",
       "    </tr>\n",
       "    <tr>\n",
       "      <th>84860</th>\n",
       "      <td>Neither the trooper or the suspects were injur...</td>\n",
       "      <td>0</td>\n",
       "      <td>0</td>\n",
       "    </tr>\n",
       "  </tbody>\n",
       "</table>\n",
       "</div>"
      ],
      "text/plain": [
       "                                                    tweet  class  pred\n",
       "63790   Teen CPA class night  pictures Teens learned a...      0     0\n",
       "136287  Preparation for the SH  at SH  groundbreaking ...      0     0\n",
       "6656    The access roads on I closed both ways at the ...      1     1\n",
       "93714   The sunny weather weve enjoyed this week is no...      0     0\n",
       "84860   Neither the trooper or the suspects were injur...      0     0"
      ]
     },
     "execution_count": 29,
     "metadata": {},
     "output_type": "execute_result"
    }
   ],
   "source": [
    "# Add predictions column\n",
    "explore_df['pred'] = y_pred\n",
    "explore_df.head()"
   ]
  },
  {
   "cell_type": "code",
   "execution_count": 31,
   "metadata": {},
   "outputs": [
    {
     "data": {
      "text/plain": [
       "112"
      ]
     },
     "execution_count": 31,
     "metadata": {},
     "output_type": "execute_result"
    }
   ],
   "source": [
    "# Create a column indicating misclassified tweet\n",
    "correct = []\n",
    "for x, y in zip(y_test, y_pred):\n",
    "    if x == y:\n",
    "        correct.append(1)\n",
    "    else:\n",
    "        correct.append(0)\n",
    "# Verify that list contains both 112 0s\n",
    "count = 0\n",
    "for num in correct:\n",
    "    if num == 0:\n",
    "        count += 1\n",
    "count"
   ]
  },
  {
   "cell_type": "code",
   "execution_count": 32,
   "metadata": {},
   "outputs": [
    {
     "data": {
      "text/html": [
       "<div>\n",
       "<style scoped>\n",
       "    .dataframe tbody tr th:only-of-type {\n",
       "        vertical-align: middle;\n",
       "    }\n",
       "\n",
       "    .dataframe tbody tr th {\n",
       "        vertical-align: top;\n",
       "    }\n",
       "\n",
       "    .dataframe thead th {\n",
       "        text-align: right;\n",
       "    }\n",
       "</style>\n",
       "<table border=\"1\" class=\"dataframe\">\n",
       "  <thead>\n",
       "    <tr style=\"text-align: right;\">\n",
       "      <th></th>\n",
       "      <th>tweet</th>\n",
       "      <th>class</th>\n",
       "      <th>pred</th>\n",
       "      <th>correct</th>\n",
       "    </tr>\n",
       "  </thead>\n",
       "  <tbody>\n",
       "    <tr>\n",
       "      <th>5966</th>\n",
       "      <td>SH  in Winkler County closed due to crash Traffic diverted at Highway  and at truck route in Kermit</td>\n",
       "      <td>1</td>\n",
       "      <td>0</td>\n",
       "      <td>0</td>\n",
       "    </tr>\n",
       "    <tr>\n",
       "      <th>6141</th>\n",
       "      <td>Goat traffic jam In  the Devils River bridge on US Highway  near DelRio closed to allow goats to be driven across TxDOT</td>\n",
       "      <td>1</td>\n",
       "      <td>0</td>\n",
       "      <td>0</td>\n",
       "    </tr>\n",
       "    <tr>\n",
       "      <th>6753</th>\n",
       "      <td>FM  closed in Bastrop Co due to wheeler crash at High Crossing ATXTraffic</td>\n",
       "      <td>1</td>\n",
       "      <td>0</td>\n",
       "      <td>0</td>\n",
       "    </tr>\n",
       "    <tr>\n",
       "      <th>47873</th>\n",
       "      <td>MERGE LanesDo not slow to a near stop or stop and abruptly cut across into traffic Instead use the merge lane to smoothly transition into the lane of travel Drivers in the traffic lane should maintain their lane and not cut off the merge lane</td>\n",
       "      <td>0</td>\n",
       "      <td>1</td>\n",
       "      <td>0</td>\n",
       "    </tr>\n",
       "    <tr>\n",
       "      <th>143370</th>\n",
       "      <td>Thank you Is is now closed Be safe</td>\n",
       "      <td>0</td>\n",
       "      <td>1</td>\n",
       "      <td>0</td>\n",
       "    </tr>\n",
       "    <tr>\n",
       "      <th>140685</th>\n",
       "      <td>FM  closed for an undetermined amt of timeTxDOT working on emergency contract Dont movego around barricades</td>\n",
       "      <td>0</td>\n",
       "      <td>1</td>\n",
       "      <td>0</td>\n",
       "    </tr>\n",
       "    <tr>\n",
       "      <th>143668</th>\n",
       "      <td>REMINDER Anthony overpass is closed tonight for bridge work Plan to exit Vinton then take Doniphan</td>\n",
       "      <td>0</td>\n",
       "      <td>1</td>\n",
       "      <td>0</td>\n",
       "    </tr>\n",
       "    <tr>\n",
       "      <th>162</th>\n",
       "      <td>Traffic Advisory APD Traffic Investigation Unit has west bound IH closed from Georgia to Western</td>\n",
       "      <td>1</td>\n",
       "      <td>0</td>\n",
       "      <td>0</td>\n",
       "    </tr>\n",
       "    <tr>\n",
       "      <th>146368</th>\n",
       "      <td>NB IW at CR  in Johnson County is closed due to a wreck Through traffic should use E</td>\n",
       "      <td>0</td>\n",
       "      <td>1</td>\n",
       "      <td>0</td>\n",
       "    </tr>\n",
       "    <tr>\n",
       "      <th>111523</th>\n",
       "      <td>Milo Interchange direct connector  currently closed until Feb  for concrete repair Please use alternate routes</td>\n",
       "      <td>0</td>\n",
       "      <td>1</td>\n",
       "      <td>0</td>\n",
       "    </tr>\n",
       "    <tr>\n",
       "      <th>60012</th>\n",
       "      <td>International Bridge  is closed due to a bomb threat Expect momentary delays as the bridge is made safe Use</td>\n",
       "      <td>0</td>\n",
       "      <td>1</td>\n",
       "      <td>0</td>\n",
       "    </tr>\n",
       "    <tr>\n",
       "      <th>117720</th>\n",
       "      <td>Crash has closed FM  approximately  miles north of I Traffic is getting turned around Please avoid area</td>\n",
       "      <td>0</td>\n",
       "      <td>1</td>\n",
       "      <td>0</td>\n",
       "    </tr>\n",
       "    <tr>\n",
       "      <th>6521</th>\n",
       "      <td>Southbound I at Woodland Avenue  crash has the right mainlane and shoulder closed atxtraffic My</td>\n",
       "      <td>1</td>\n",
       "      <td>0</td>\n",
       "      <td>0</td>\n",
       "    </tr>\n",
       "    <tr>\n",
       "      <th>73460</th>\n",
       "      <td>ATXtraffic Water main break just east of Exposition Blvd Officers currently have east and westbound traffic shutdown on W th St Watch for officers on scene WC</td>\n",
       "      <td>0</td>\n",
       "      <td>1</td>\n",
       "      <td>0</td>\n",
       "    </tr>\n",
       "    <tr>\n",
       "      <th>116257</th>\n",
       "      <td>FM  in San Jacinto County is closed due to high water Barriers are set TurnAroundDontDrown</td>\n",
       "      <td>0</td>\n",
       "      <td>1</td>\n",
       "      <td>0</td>\n",
       "    </tr>\n",
       "    <tr>\n",
       "      <th>7131</th>\n",
       "      <td>TxDOT offices will be closed in observance of NewYearsDay on Tuesday Jan  Well be back in the office on Wednesday Jan  Best wishes for the NewYear</td>\n",
       "      <td>1</td>\n",
       "      <td>0</td>\n",
       "      <td>0</td>\n",
       "    </tr>\n",
       "    <tr>\n",
       "      <th>3106</th>\n",
       "      <td>CORRECTION STI investigating serious collision at I and Artcraft I E and W closed Serious injuries dp</td>\n",
       "      <td>1</td>\n",
       "      <td>0</td>\n",
       "      <td>0</td>\n",
       "    </tr>\n",
       "    <tr>\n",
       "      <th>6421</th>\n",
       "      <td>NB I lower deck closed due to debris in the roadway Use upper deck My atxtraffic</td>\n",
       "      <td>1</td>\n",
       "      <td>0</td>\n",
       "      <td>0</td>\n",
       "    </tr>\n",
       "    <tr>\n",
       "      <th>125175</th>\n",
       "      <td>US  N of the Irion County line is closed due to crash Traffic is being diverted to Arden Rd</td>\n",
       "      <td>0</td>\n",
       "      <td>1</td>\n",
       "      <td>0</td>\n",
       "    </tr>\n",
       "    <tr>\n",
       "      <th>159</th>\n",
       "      <td>Unfortunately it is showing that the post is closed on our end and we cannot access the thread Maybe a screen shot would work</td>\n",
       "      <td>1</td>\n",
       "      <td>0</td>\n",
       "      <td>0</td>\n",
       "    </tr>\n",
       "    <tr>\n",
       "      <th>142613</th>\n",
       "      <td>UPDATE Loop  North Bob Hope collision left shoulder remains closed Bob Hope exit  B closed follow detour backup to I clearing time  hr</td>\n",
       "      <td>0</td>\n",
       "      <td>1</td>\n",
       "      <td>0</td>\n",
       "    </tr>\n",
       "    <tr>\n",
       "      <th>7309</th>\n",
       "      <td>FM  in San Patricio County closed for maintenance from FM  to FM  until at least late this afternoon Please use alternate routes</td>\n",
       "      <td>1</td>\n",
       "      <td>0</td>\n",
       "      <td>0</td>\n",
       "    </tr>\n",
       "    <tr>\n",
       "      <th>82543</th>\n",
       "      <td>Reminder City offices will be closed tomorrow for Fourth of July</td>\n",
       "      <td>0</td>\n",
       "      <td>1</td>\n",
       "      <td>0</td>\n",
       "    </tr>\n",
       "    <tr>\n",
       "      <th>27884</th>\n",
       "      <td>Papurt Dr bridge at IW will be PERMANENTLY closed beginning tonight</td>\n",
       "      <td>0</td>\n",
       "      <td>1</td>\n",
       "      <td>0</td>\n",
       "    </tr>\n",
       "    <tr>\n",
       "      <th>6623</th>\n",
       "      <td>NB I closed north of US  due to autopedestrian crash Traffic detoured to access rd my atxtraffic</td>\n",
       "      <td>1</td>\n",
       "      <td>0</td>\n",
       "      <td>0</td>\n",
       "    </tr>\n",
       "    <tr>\n",
       "      <th>144058</th>\n",
       "      <td>PLAN AHEAD I at Downtown will be closed Friday Aug  pmMonday Aug  am for rebuilding of damaged utility bridge In prep I EB will close Wed Aug  Thurs Aug pmamnightly More  epchihuahuas ElPasoLive utep DowntownEP</td>\n",
       "      <td>0</td>\n",
       "      <td>1</td>\n",
       "      <td>0</td>\n",
       "    </tr>\n",
       "    <tr>\n",
       "      <th>8442</th>\n",
       "      <td>Reminder This WKND IH  WB at IH  will be closed starting pm Friday night until am Monday morning for bridge work</td>\n",
       "      <td>1</td>\n",
       "      <td>0</td>\n",
       "      <td>0</td>\n",
       "    </tr>\n",
       "    <tr>\n",
       "      <th>37783</th>\n",
       "      <td>NB  at Legacy closed due to fatal multicar crash Traffic forced to exit at Spring Creek Seek alt route Avoid area for several hours</td>\n",
       "      <td>0</td>\n",
       "      <td>1</td>\n",
       "      <td>0</td>\n",
       "    </tr>\n",
       "    <tr>\n",
       "      <th>53719</th>\n",
       "      <td>US  North I Collision Right shoulder closed Backup to Alameda Clearing time  hr</td>\n",
       "      <td>0</td>\n",
       "      <td>1</td>\n",
       "      <td>0</td>\n",
       "    </tr>\n",
       "    <tr>\n",
       "      <th>5833</th>\n",
       "      <td>WARD COUNTY A bridge strike has forced closure of the southbound shoulder of the FM  overpass that spans I Please do not remove cones or drive on shoulder Removal of cones may result in bridge closure Shoulder will be closed until repairs can be made</td>\n",
       "      <td>1</td>\n",
       "      <td>0</td>\n",
       "      <td>0</td>\n",
       "    </tr>\n",
       "    <tr>\n",
       "      <th>130880</th>\n",
       "      <td>OLDHAM COUNTY US  is closed in both directions at mm  due to a wreck Northbound traffic is being diverted at RM  Southbound traffic will be diverted in Channing</td>\n",
       "      <td>0</td>\n",
       "      <td>1</td>\n",
       "      <td>0</td>\n",
       "    </tr>\n",
       "    <tr>\n",
       "      <th>120171</th>\n",
       "      <td>EB I to NB IC will be closed for  hours from pmam interchange in Pharr today for bridge inspection</td>\n",
       "      <td>0</td>\n",
       "      <td>1</td>\n",
       "      <td>0</td>\n",
       "    </tr>\n",
       "    <tr>\n",
       "      <th>135420</th>\n",
       "      <td>A crash has closed SB I near mm in Buda close to CR FM  Traffic detouring to the access rd atxtraffic my</td>\n",
       "      <td>0</td>\n",
       "      <td>1</td>\n",
       "      <td>0</td>\n",
       "    </tr>\n",
       "    <tr>\n",
       "      <th>116913</th>\n",
       "      <td>Incident on LP  near CR  A truck dumped drilling mud over both lanes of LP  service roads It is thick and Eastbound lanes can not safely be accessed All Eastbound traffic is being turned around at the Todd Road crossover No timeline for opening yet</td>\n",
       "      <td>0</td>\n",
       "      <td>1</td>\n",
       "      <td>0</td>\n",
       "    </tr>\n",
       "    <tr>\n",
       "      <th>49557</th>\n",
       "      <td>US  North at Transmountain collision Transmountain exit  right shoulder closed backup to Diana clearing time  hr</td>\n",
       "      <td>0</td>\n",
       "      <td>1</td>\n",
       "      <td>0</td>\n",
       "    </tr>\n",
       "    <tr>\n",
       "      <th>87939</th>\n",
       "      <td>Intersection will be closed for several hours avoid the area</td>\n",
       "      <td>0</td>\n",
       "      <td>1</td>\n",
       "      <td>0</td>\n",
       "    </tr>\n",
       "    <tr>\n",
       "      <th>5844</th>\n",
       "      <td>MIDLAND COUNTY FM  will be closed between CR  and SH  until further notice due to storm knocking down power lines Oncor on site but no timeline for repairs</td>\n",
       "      <td>1</td>\n",
       "      <td>0</td>\n",
       "      <td>0</td>\n",
       "    </tr>\n",
       "    <tr>\n",
       "      <th>132128</th>\n",
       "      <td>SH  from FM  to FM  is closed in Roberts and Ochiltree Co FM  from FM  to SH  is also closed</td>\n",
       "      <td>0</td>\n",
       "      <td>1</td>\n",
       "      <td>0</td>\n",
       "    </tr>\n",
       "    <tr>\n",
       "      <th>4273</th>\n",
       "      <td>Thanks to everyone who applied for APDs Citizen Police Academy Both Tuesday and Thursday classes are now full Registration closed Cant wait to see everyone in  OneAustinSaferTogether</td>\n",
       "      <td>1</td>\n",
       "      <td>0</td>\n",
       "      <td>0</td>\n",
       "    </tr>\n",
       "    <tr>\n",
       "      <th>48274</th>\n",
       "      <td>block of Doniphan will be closed due to head on collision Expected to remain closed into the evening hours</td>\n",
       "      <td>0</td>\n",
       "      <td>1</td>\n",
       "      <td>0</td>\n",
       "    </tr>\n",
       "    <tr>\n",
       "      <th>6573</th>\n",
       "      <td>FM  closed in both directions at Creeks Edge Parkway following a crash Consider alternate route atxtraffic</td>\n",
       "      <td>1</td>\n",
       "      <td>0</td>\n",
       "      <td>0</td>\n",
       "    </tr>\n",
       "    <tr>\n",
       "      <th>137833</th>\n",
       "      <td>BEAUMONTDowlen Rd and the turnarounds at US will be closed tonight and tomorrow night pmam to work on the overpass</td>\n",
       "      <td>0</td>\n",
       "      <td>1</td>\n",
       "      <td>0</td>\n",
       "    </tr>\n",
       "    <tr>\n",
       "      <th>5647</th>\n",
       "      <td>LA SALLE CO  IH  NB MM  right shoulder closed due to rail damage and repair thru end of August  Go slow and be safe</td>\n",
       "      <td>1</td>\n",
       "      <td>0</td>\n",
       "      <td>0</td>\n",
       "    </tr>\n",
       "    <tr>\n",
       "      <th>5642</th>\n",
       "      <td>LA SALLE CO  For safety reasons FM  closed bet SH  Los Angeles and IH  Millett due to explosion incident on private property not on TxDOT FM  right of way  EB traffic detour to IH  SB  WB traffic detour to SH   Expect travel delays</td>\n",
       "      <td>1</td>\n",
       "      <td>0</td>\n",
       "      <td>0</td>\n",
       "    </tr>\n",
       "    <tr>\n",
       "      <th>129264</th>\n",
       "      <td>cadpanacea KatherineABC iah HobbyAirport Yes I is closed I is encouraged for use as alternate route</td>\n",
       "      <td>0</td>\n",
       "      <td>1</td>\n",
       "      <td>0</td>\n",
       "    </tr>\n",
       "    <tr>\n",
       "      <th>14153</th>\n",
       "      <td>Street Closures for the North Central Section of the City Hillcrest RoadWalnut Hill Lane Hillcrest RoadRoyal Lane Westbound Royal Lane at St Michaels Drive Northbound St Michaels Drive at Royal Lane Preston RoadRoyal Lane</td>\n",
       "      <td>0</td>\n",
       "      <td>1</td>\n",
       "      <td>0</td>\n",
       "    </tr>\n",
       "    <tr>\n",
       "      <th>143908</th>\n",
       "      <td>US  closures Sat Sept  am Mon Oct  amUS  NB closed at Hondo Pass Traffic will exit at Hondo Pass and reenter at Transmtn amUS  SB closed at Transmtn Traffic will exit at Transmtn and reenter after Hondo Pass Crews pouring bridge deck over Diana Dr</td>\n",
       "      <td>0</td>\n",
       "      <td>1</td>\n",
       "      <td>0</td>\n",
       "    </tr>\n",
       "    <tr>\n",
       "      <th>116716</th>\n",
       "      <td>UPTON COUNTY Crash has closed SH from RM to RM DPS working scene No timeline available for reopening right now</td>\n",
       "      <td>0</td>\n",
       "      <td>1</td>\n",
       "      <td>0</td>\n",
       "    </tr>\n",
       "    <tr>\n",
       "      <th>140634</th>\n",
       "      <td>LP  in the City of Dickens will be closed today for a full width seal coat operation</td>\n",
       "      <td>0</td>\n",
       "      <td>1</td>\n",
       "      <td>0</td>\n",
       "    </tr>\n",
       "    <tr>\n",
       "      <th>159044</th>\n",
       "      <td>Crews will close all mainlanes and frontage road lanes on SH  in Montgomery County NB from Rollingwood St to Circle Lake Dr for road work starting pm Friday Dec  to am Mon Dec  Follow signs for detour</td>\n",
       "      <td>0</td>\n",
       "      <td>1</td>\n",
       "      <td>0</td>\n",
       "    </tr>\n",
       "    <tr>\n",
       "      <th>5858</th>\n",
       "      <td>MIDLAND COUNTY Crash closed SH at FM FM north also blocked at  Detours WB SHSH northFM westFM southSH EB SH to North FM to East FM to South SH back to SH East FM  North detoured to RM SouthFM SH SH</td>\n",
       "      <td>1</td>\n",
       "      <td>0</td>\n",
       "      <td>0</td>\n",
       "    </tr>\n",
       "    <tr>\n",
       "      <th>140500</th>\n",
       "      <td>GAINESVILLE I NB CLOSED at Red River bridge due to a hazmat spill in OK I will be closed for several hours Detour US  to Sherman</td>\n",
       "      <td>0</td>\n",
       "      <td>1</td>\n",
       "      <td>0</td>\n",
       "    </tr>\n",
       "    <tr>\n",
       "      <th>139</th>\n",
       "      <td>In observance of the Labor Day holiday the administrative offices of the Frisco Police Department will be closed Monday September  Normal business hours will resume on Tuesday September</td>\n",
       "      <td>1</td>\n",
       "      <td>0</td>\n",
       "      <td>0</td>\n",
       "    </tr>\n",
       "    <tr>\n",
       "      <th>6305</th>\n",
       "      <td>REMINDER FM  and FM  in Armstrong County remain closed to everyone except emergency personnel and land owners</td>\n",
       "      <td>1</td>\n",
       "      <td>0</td>\n",
       "      <td>0</td>\n",
       "    </tr>\n",
       "    <tr>\n",
       "      <th>4283</th>\n",
       "      <td>ATT is working on repairing downed phone lines that are lying across   at El Salido Parkway is closed Please avoid the area atxtraffic</td>\n",
       "      <td>1</td>\n",
       "      <td>0</td>\n",
       "      <td>0</td>\n",
       "    </tr>\n",
       "    <tr>\n",
       "      <th>6134</th>\n",
       "      <td>Hello Due to offices being closed today and minimal staff on Friday your request may not be answered until next week I will transfer this to the San Antonio District  Sydney TxDOT Media Relations</td>\n",
       "      <td>1</td>\n",
       "      <td>0</td>\n",
       "      <td>0</td>\n",
       "    </tr>\n",
       "    <tr>\n",
       "      <th>19822</th>\n",
       "      <td>Coming to the game Gates    are closed to cash All other gates are currently opened traffic TXvsOU</td>\n",
       "      <td>0</td>\n",
       "      <td>1</td>\n",
       "      <td>0</td>\n",
       "    </tr>\n",
       "    <tr>\n",
       "      <th>5751</th>\n",
       "      <td>Loop  btw N   th Streets in Tahoka is closed to traffic due to a downed power line Utility company on scene Traffic is detoured</td>\n",
       "      <td>1</td>\n",
       "      <td>0</td>\n",
       "      <td>0</td>\n",
       "    </tr>\n",
       "    <tr>\n",
       "      <th>48944</th>\n",
       "      <td>Loop  South New World Collision Right and left shoulders closed Backup to Montwood Clearing time  hr</td>\n",
       "      <td>0</td>\n",
       "      <td>1</td>\n",
       "      <td>0</td>\n",
       "    </tr>\n",
       "    <tr>\n",
       "      <th>131467</th>\n",
       "      <td>TRAFFIC ADVISORY Southbound Bell Street is reduced to one lane of traffic from just south of Plains Blvd to just past the Bell Street bridge over I for road widening work Please find alternate routes if possible</td>\n",
       "      <td>0</td>\n",
       "      <td>1</td>\n",
       "      <td>0</td>\n",
       "    </tr>\n",
       "    <tr>\n",
       "      <th>6777</th>\n",
       "      <td>themercurynews shtoll itsmeaganyo Itravel TxDOTSanAntonio Demo of Yarrington Rd finished early so I will NOT b closed nitemw</td>\n",
       "      <td>1</td>\n",
       "      <td>0</td>\n",
       "      <td>0</td>\n",
       "    </tr>\n",
       "    <tr>\n",
       "      <th>146999</th>\n",
       "      <td>NB and SB I at Randol Mil closed due to downed power lines SB detoured to SH  and NB to I</td>\n",
       "      <td>0</td>\n",
       "      <td>1</td>\n",
       "      <td>0</td>\n",
       "    </tr>\n",
       "    <tr>\n",
       "      <th>139085</th>\n",
       "      <td>Brazos County Watch  INTERSECTION AT FM  GREENS PRAIRIE TRAIL CLOSED THIS WEEKEND Closure needed to elevate the intersection</td>\n",
       "      <td>0</td>\n",
       "      <td>1</td>\n",
       "      <td>0</td>\n",
       "    </tr>\n",
       "    <tr>\n",
       "      <th>8102</th>\n",
       "      <td>you can find IW closures at  in Fort Worth It was probably closed due to construction</td>\n",
       "      <td>1</td>\n",
       "      <td>0</td>\n",
       "      <td>0</td>\n",
       "    </tr>\n",
       "    <tr>\n",
       "      <th>7541</th>\n",
       "      <td>TODAYGuardrail Repair Project Monday May   am pm throughout the day Desert Boulevard South turnaround will be closed at TransmountainAlternate lane closures on Desert Boulevard North at the Transmountain intersection Crews will be repairing damaged guardrail</td>\n",
       "      <td>1</td>\n",
       "      <td>0</td>\n",
       "      <td>0</td>\n",
       "    </tr>\n",
       "    <tr>\n",
       "      <th>454</th>\n",
       "      <td>Loop  Border Highway eastwest US to Oregon both directions closed continuously until Monday am</td>\n",
       "      <td>1</td>\n",
       "      <td>0</td>\n",
       "      <td>0</td>\n",
       "    </tr>\n",
       "    <tr>\n",
       "      <th>6666</th>\n",
       "      <td>Its Monday and the I SB right lane is closedstalled vehicle after US  my atxtraffic</td>\n",
       "      <td>1</td>\n",
       "      <td>0</td>\n",
       "      <td>0</td>\n",
       "    </tr>\n",
       "    <tr>\n",
       "      <th>140645</th>\n",
       "      <td>LP  in the City of Dickens will be closed today for a seal coat operation</td>\n",
       "      <td>0</td>\n",
       "      <td>1</td>\n",
       "      <td>0</td>\n",
       "    </tr>\n",
       "    <tr>\n",
       "      <th>159300</th>\n",
       "      <td>The ferry is operating but be mindful of high water issues near the ferry and leading up to the ferry Harborside leading up to the ferry is also closed</td>\n",
       "      <td>0</td>\n",
       "      <td>1</td>\n",
       "      <td>0</td>\n",
       "    </tr>\n",
       "    <tr>\n",
       "      <th>27252</th>\n",
       "      <td>HeadsUp  Summit between th ampth CLOSED for an undetermined amount of time due to low power lines and a pole that has to be replaced</td>\n",
       "      <td>0</td>\n",
       "      <td>1</td>\n",
       "      <td>0</td>\n",
       "    </tr>\n",
       "    <tr>\n",
       "      <th>125664</th>\n",
       "      <td>RM  is closed due to high water</td>\n",
       "      <td>0</td>\n",
       "      <td>1</td>\n",
       "      <td>0</td>\n",
       "    </tr>\n",
       "    <tr>\n",
       "      <th>135294</th>\n",
       "      <td>REMINDER NB I bw Woodward  Woodland begin closures at p tonight Fully closed pa Closed again Sun  My ATXtraffic</td>\n",
       "      <td>0</td>\n",
       "      <td>1</td>\n",
       "      <td>0</td>\n",
       "    </tr>\n",
       "    <tr>\n",
       "      <th>53323</th>\n",
       "      <td>US  Alameda collision right shoulder closed backup to LP  clearing time  hr</td>\n",
       "      <td>0</td>\n",
       "      <td>1</td>\n",
       "      <td>0</td>\n",
       "    </tr>\n",
       "    <tr>\n",
       "      <th>38170</th>\n",
       "      <td>DNT closed in Plano this weekend Visit  for details or follow TollTagTidbits for updates</td>\n",
       "      <td>0</td>\n",
       "      <td>1</td>\n",
       "      <td>0</td>\n",
       "    </tr>\n",
       "    <tr>\n",
       "      <th>52441</th>\n",
       "      <td>US  North Diana Collision Transmountain exit  closed Backup to Diana clearing time  hr</td>\n",
       "      <td>0</td>\n",
       "      <td>1</td>\n",
       "      <td>0</td>\n",
       "    </tr>\n",
       "    <tr>\n",
       "      <th>137585</th>\n",
       "      <td>ORANGEI EB SH will be closed tonight pa as crews work on the new overpass Traffic detoured to the frontage rd</td>\n",
       "      <td>0</td>\n",
       "      <td>1</td>\n",
       "      <td>0</td>\n",
       "    </tr>\n",
       "    <tr>\n",
       "      <th>7268</th>\n",
       "      <td>US  southbound closed in Kingsville due to crash involving two wheelers Traffic diverted to Business  Estimated to take four hours to clear scene Slow down and prepare for detour</td>\n",
       "      <td>1</td>\n",
       "      <td>0</td>\n",
       "      <td>0</td>\n",
       "    </tr>\n",
       "    <tr>\n",
       "      <th>29936</th>\n",
       "      <td>The parade starts on Dairy RdGarden Dr North on Dairy Rd to Highway  Ave D West left on Hwy Ave D to First St North right on First St to Hwy  Ave B West left on Hwy  Ave B to Fifth St North right on Fifth St to Austin St ends  North th St</td>\n",
       "      <td>0</td>\n",
       "      <td>1</td>\n",
       "      <td>0</td>\n",
       "    </tr>\n",
       "    <tr>\n",
       "      <th>71114</th>\n",
       "      <td>APD officers are working a crash at ParmerDessau the intersection is closed Please avoid the area at this time Incident ATXTraffic</td>\n",
       "      <td>0</td>\n",
       "      <td>1</td>\n",
       "      <td>0</td>\n",
       "    </tr>\n",
       "    <tr>\n",
       "      <th>132218</th>\n",
       "      <td>FM  will be closed over I in Harrison County Wednesday as crews make repairs to the bridge deck Detour route is signed</td>\n",
       "      <td>0</td>\n",
       "      <td>1</td>\n",
       "      <td>0</td>\n",
       "    </tr>\n",
       "    <tr>\n",
       "      <th>160148</th>\n",
       "      <td>As soon as the bridge was closed crews went to work to demo the FM  bridge over I</td>\n",
       "      <td>0</td>\n",
       "      <td>1</td>\n",
       "      <td>0</td>\n",
       "    </tr>\n",
       "    <tr>\n",
       "      <th>113346</th>\n",
       "      <td>UPDATE  FM  closed in Kinney Co  FM  and FM  remain closed in Kinney Co due to flooding</td>\n",
       "      <td>0</td>\n",
       "      <td>1</td>\n",
       "      <td>0</td>\n",
       "    </tr>\n",
       "    <tr>\n",
       "      <th>141356</th>\n",
       "      <td>FM  in Karnes County closed to thru traffic from US  to SH  for oil spill cleanup This section of FM  closed til further notice</td>\n",
       "      <td>0</td>\n",
       "      <td>1</td>\n",
       "      <td>0</td>\n",
       "    </tr>\n",
       "    <tr>\n",
       "      <th>1063</th>\n",
       "      <td>Special Traffic Investigations unit responding to a serious collision involving a Motorcycle and car at I and Artcraft I closed E and W bound dp</td>\n",
       "      <td>1</td>\n",
       "      <td>0</td>\n",
       "      <td>0</td>\n",
       "    </tr>\n",
       "    <tr>\n",
       "      <th>38166</th>\n",
       "      <td>Multiple Traffic crashes NB US bt  and Park with left and HOV closed Expect delays in the area</td>\n",
       "      <td>0</td>\n",
       "      <td>1</td>\n",
       "      <td>0</td>\n",
       "    </tr>\n",
       "    <tr>\n",
       "      <th>136748</th>\n",
       "      <td>BEAUMONT SH  at Hillebrandt Bayou is currently closed in order for crews to do an in depth inspection of the bridge</td>\n",
       "      <td>0</td>\n",
       "      <td>1</td>\n",
       "      <td>0</td>\n",
       "    </tr>\n",
       "    <tr>\n",
       "      <th>77429</th>\n",
       "      <td>ATXtraffic alert wheeler hit bridge on Hwy  over Colorado River SB  closed at bridge WB Hwy  closed  Pls use alt rts</td>\n",
       "      <td>0</td>\n",
       "      <td>1</td>\n",
       "      <td>0</td>\n",
       "    </tr>\n",
       "    <tr>\n",
       "      <th>142285</th>\n",
       "      <td>NB US  HOV to close next week tween Galatyn and Park SB already closed between Bethany and Galatyn Remain closed until</td>\n",
       "      <td>0</td>\n",
       "      <td>1</td>\n",
       "      <td>0</td>\n",
       "    </tr>\n",
       "    <tr>\n",
       "      <th>49227</th>\n",
       "      <td>Gateway North Montana Collision Intersection Closed Minor Backup Clearing Time  Hour</td>\n",
       "      <td>0</td>\n",
       "      <td>1</td>\n",
       "      <td>0</td>\n",
       "    </tr>\n",
       "    <tr>\n",
       "      <th>4272</th>\n",
       "      <td>APD is working a SWAT Callout that started at  am  Wagon Crossing Path is closed Traffic is blocked at Wagon Bend Trail Broken Spoke Trail and Dove Springs Dr Please avoid the area atxtraffic</td>\n",
       "      <td>1</td>\n",
       "      <td>0</td>\n",
       "      <td>0</td>\n",
       "    </tr>\n",
       "    <tr>\n",
       "      <th>5657</th>\n",
       "      <td>DIMMIT CO  Apr  ap daily  FM  closed daily ap in AshertonDimmit Co bet Carter StS th St  FM FM  for const</td>\n",
       "      <td>1</td>\n",
       "      <td>0</td>\n",
       "      <td>0</td>\n",
       "    </tr>\n",
       "    <tr>\n",
       "      <th>159041</th>\n",
       "      <td>Crews will close all mainlanes and frontage road lanes on SH  in Montgomery County NB from Rollingwood St to Circle Lake Dr for road work starting tonight at pm until am Mon Dec  Follow signs for detour</td>\n",
       "      <td>0</td>\n",
       "      <td>1</td>\n",
       "      <td>0</td>\n",
       "    </tr>\n",
       "    <tr>\n",
       "      <th>6609</th>\n",
       "      <td>Cesar Chavez closed in both direction at I due to autoped crash ATXtraffic</td>\n",
       "      <td>1</td>\n",
       "      <td>0</td>\n",
       "      <td>0</td>\n",
       "    </tr>\n",
       "    <tr>\n",
       "      <th>158764</th>\n",
       "      <td>The office will be closed Wednesday March ndThe ferry operations will be running as normal For s</td>\n",
       "      <td>0</td>\n",
       "      <td>1</td>\n",
       "      <td>0</td>\n",
       "    </tr>\n",
       "    <tr>\n",
       "      <th>135186</th>\n",
       "      <td>SB I closed near SH  due to truck fire Likely closed until am Consider options and allow extra time my atxtraffic</td>\n",
       "      <td>0</td>\n",
       "      <td>1</td>\n",
       "      <td>0</td>\n",
       "    </tr>\n",
       "    <tr>\n",
       "      <th>6104</th>\n",
       "      <td>LP  in Christoval is closed due to flooding of the South Concho River</td>\n",
       "      <td>1</td>\n",
       "      <td>0</td>\n",
       "      <td>0</td>\n",
       "    </tr>\n",
       "    <tr>\n",
       "      <th>70253</th>\n",
       "      <td>TRAFFIC ADVISORY Intersections of Springdale Rd w Pecan Brook Dr Old Manor Rd closed due to a gas line break PD on scene please avoid the area No ETA for reopening at this time ATXTraffic</td>\n",
       "      <td>0</td>\n",
       "      <td>1</td>\n",
       "      <td>0</td>\n",
       "    </tr>\n",
       "    <tr>\n",
       "      <th>129240</th>\n",
       "      <td>TPWDparks Game Wardens helped survey the scene on I at TXLA border on their airboats I remains closed</td>\n",
       "      <td>0</td>\n",
       "      <td>1</td>\n",
       "      <td>0</td>\n",
       "    </tr>\n",
       "    <tr>\n",
       "      <th>107718</th>\n",
       "      <td>Waco  University Parks Dr EB Connector I  Connector closed tonight PM to AM  My</td>\n",
       "      <td>0</td>\n",
       "      <td>1</td>\n",
       "      <td>0</td>\n",
       "    </tr>\n",
       "    <tr>\n",
       "      <th>40195</th>\n",
       "      <td>On this SquirrelAppreciationDay show some love for your favorite nut loving critter by doing the PMRoutine Get the valuables and guns out of your car and lock it up Then make sure your garage is closed and turn on your outside lights Your Community Your Commitment YC</td>\n",
       "      <td>0</td>\n",
       "      <td>1</td>\n",
       "      <td>0</td>\n",
       "    </tr>\n",
       "    <tr>\n",
       "      <th>117872</th>\n",
       "      <td>Northbound FM  while be closed between mile markers  for repairs Wednesday  in Midland County Please obey flaggers</td>\n",
       "      <td>0</td>\n",
       "      <td>1</td>\n",
       "      <td>0</td>\n",
       "    </tr>\n",
       "    <tr>\n",
       "      <th>81730</th>\n",
       "      <td>Dont forget City offices will be closed for the th of July If you need to swing by City Hall do it today or Friday</td>\n",
       "      <td>0</td>\n",
       "      <td>1</td>\n",
       "      <td>0</td>\n",
       "    </tr>\n",
       "    <tr>\n",
       "      <th>6760</th>\n",
       "      <td>ErickaMiller no word on how long SB I will be closed Star Flight called to the scene as well</td>\n",
       "      <td>1</td>\n",
       "      <td>0</td>\n",
       "      <td>0</td>\n",
       "    </tr>\n",
       "    <tr>\n",
       "      <th>145742</th>\n",
       "      <td>Transmountain will be completely closed from US  to I toniteFeb pm thru Tues am Crews will repair potholes</td>\n",
       "      <td>0</td>\n",
       "      <td>1</td>\n",
       "      <td>0</td>\n",
       "    </tr>\n",
       "    <tr>\n",
       "      <th>30660</th>\n",
       "      <td>Major Acident at Shiloh and Apollo Shiloh closed to all northbound traffic Use alternate route if possible</td>\n",
       "      <td>0</td>\n",
       "      <td>1</td>\n",
       "      <td>0</td>\n",
       "    </tr>\n",
       "    <tr>\n",
       "      <th>34014</th>\n",
       "      <td>TRAFFIC ADVISORY APD  AFD working a serious crash at westbound I just west of Matlock All westbound lanes are being diverted to the frontage road Investigation may go through rush hour so plan accordingly Alternate routes include I Pioneer Pkwy  or Green Oaks</td>\n",
       "      <td>0</td>\n",
       "      <td>1</td>\n",
       "      <td>0</td>\n",
       "    </tr>\n",
       "    <tr>\n",
       "      <th>113133</th>\n",
       "      <td>FM  FM   FM  closed in Kinney Co due to high water over low water crossings  Use alternate routes  Turn AroundDont Drown</td>\n",
       "      <td>0</td>\n",
       "      <td>1</td>\n",
       "      <td>0</td>\n",
       "    </tr>\n",
       "    <tr>\n",
       "      <th>8001</th>\n",
       "      <td>WB I at Eastchase closed due to a wreck</td>\n",
       "      <td>1</td>\n",
       "      <td>0</td>\n",
       "      <td>0</td>\n",
       "    </tr>\n",
       "    <tr>\n",
       "      <th>125227</th>\n",
       "      <td>RM  E of Mertzon is closed at RM  due to high water over the draw</td>\n",
       "      <td>0</td>\n",
       "      <td>1</td>\n",
       "      <td>0</td>\n",
       "    </tr>\n",
       "    <tr>\n",
       "      <th>112963</th>\n",
       "      <td>LAREDO  Dec  beg  am  SL  NB to SB turnaround under KCS bridge closed for excavation work  Seek alternate route</td>\n",
       "      <td>0</td>\n",
       "      <td>1</td>\n",
       "      <td>0</td>\n",
       "    </tr>\n",
       "    <tr>\n",
       "      <th>4284</th>\n",
       "      <td>Suspect is described as a White male  about  lbs He was wearing a dark blue hoodie and left with an undisclosed amount of cash Suspect left on foot unknown direction of travel Anyone with information is asked to call Robbery Hotline at</td>\n",
       "      <td>1</td>\n",
       "      <td>0</td>\n",
       "      <td>0</td>\n",
       "    </tr>\n",
       "    <tr>\n",
       "      <th>8447</th>\n",
       "      <td>Dont forget we have IH  EB at IH  closed Use IH  as an alternate</td>\n",
       "      <td>1</td>\n",
       "      <td>0</td>\n",
       "      <td>0</td>\n",
       "    </tr>\n",
       "  </tbody>\n",
       "</table>\n",
       "</div>"
      ],
      "text/plain": [
       "                                                                                                                                                                                                                                                                              tweet  \\\n",
       "5966    SH  in Winkler County closed due to crash Traffic diverted at Highway  and at truck route in Kermit                                                                                                                                                                           \n",
       "6141    Goat traffic jam In  the Devils River bridge on US Highway  near DelRio closed to allow goats to be driven across TxDOT                                                                                                                                                       \n",
       "6753    FM  closed in Bastrop Co due to wheeler crash at High Crossing ATXTraffic                                                                                                                                                                                                     \n",
       "47873    MERGE LanesDo not slow to a near stop or stop and abruptly cut across into traffic Instead use the merge lane to smoothly transition into the lane of travel Drivers in the traffic lane should maintain their lane and not cut off the merge lane                           \n",
       "143370  Thank you Is is now closed Be safe                                                                                                                                                                                                                                            \n",
       "140685  FM  closed for an undetermined amt of timeTxDOT working on emergency contract Dont movego around barricades                                                                                                                                                                   \n",
       "143668  REMINDER Anthony overpass is closed tonight for bridge work Plan to exit Vinton then take Doniphan                                                                                                                                                                            \n",
       "162     Traffic Advisory APD Traffic Investigation Unit has west bound IH closed from Georgia to Western                                                                                                                                                                              \n",
       "146368  NB IW at CR  in Johnson County is closed due to a wreck Through traffic should use E                                                                                                                                                                                          \n",
       "111523  Milo Interchange direct connector  currently closed until Feb  for concrete repair Please use alternate routes                                                                                                                                                                \n",
       "60012   International Bridge  is closed due to a bomb threat Expect momentary delays as the bridge is made safe Use                                                                                                                                                                   \n",
       "117720  Crash has closed FM  approximately  miles north of I Traffic is getting turned around Please avoid area                                                                                                                                                                       \n",
       "6521    Southbound I at Woodland Avenue  crash has the right mainlane and shoulder closed atxtraffic My                                                                                                                                                                               \n",
       "73460   ATXtraffic Water main break just east of Exposition Blvd Officers currently have east and westbound traffic shutdown on W th St Watch for officers on scene WC                                                                                                                \n",
       "116257  FM  in San Jacinto County is closed due to high water Barriers are set TurnAroundDontDrown                                                                                                                                                                                    \n",
       "7131    TxDOT offices will be closed in observance of NewYearsDay on Tuesday Jan  Well be back in the office on Wednesday Jan  Best wishes for the NewYear                                                                                                                            \n",
       "3106    CORRECTION STI investigating serious collision at I and Artcraft I E and W closed Serious injuries dp                                                                                                                                                                         \n",
       "6421    NB I lower deck closed due to debris in the roadway Use upper deck My atxtraffic                                                                                                                                                                                              \n",
       "125175  US  N of the Irion County line is closed due to crash Traffic is being diverted to Arden Rd                                                                                                                                                                                   \n",
       "159     Unfortunately it is showing that the post is closed on our end and we cannot access the thread Maybe a screen shot would work                                                                                                                                                 \n",
       "142613  UPDATE Loop  North Bob Hope collision left shoulder remains closed Bob Hope exit  B closed follow detour backup to I clearing time  hr                                                                                                                                        \n",
       "7309    FM  in San Patricio County closed for maintenance from FM  to FM  until at least late this afternoon Please use alternate routes                                                                                                                                              \n",
       "82543   Reminder City offices will be closed tomorrow for Fourth of July                                                                                                                                                                                                              \n",
       "27884   Papurt Dr bridge at IW will be PERMANENTLY closed beginning tonight                                                                                                                                                                                                           \n",
       "6623    NB I closed north of US  due to autopedestrian crash Traffic detoured to access rd my atxtraffic                                                                                                                                                                              \n",
       "144058  PLAN AHEAD I at Downtown will be closed Friday Aug  pmMonday Aug  am for rebuilding of damaged utility bridge In prep I EB will close Wed Aug  Thurs Aug pmamnightly More  epchihuahuas ElPasoLive utep DowntownEP                                                            \n",
       "8442    Reminder This WKND IH  WB at IH  will be closed starting pm Friday night until am Monday morning for bridge work                                                                                                                                                              \n",
       "37783   NB  at Legacy closed due to fatal multicar crash Traffic forced to exit at Spring Creek Seek alt route Avoid area for several hours                                                                                                                                           \n",
       "53719   US  North I Collision Right shoulder closed Backup to Alameda Clearing time  hr                                                                                                                                                                                               \n",
       "5833    WARD COUNTY A bridge strike has forced closure of the southbound shoulder of the FM  overpass that spans I Please do not remove cones or drive on shoulder Removal of cones may result in bridge closure Shoulder will be closed until repairs can be made                    \n",
       "130880  OLDHAM COUNTY US  is closed in both directions at mm  due to a wreck Northbound traffic is being diverted at RM  Southbound traffic will be diverted in Channing                                                                                                              \n",
       "120171  EB I to NB IC will be closed for  hours from pmam interchange in Pharr today for bridge inspection                                                                                                                                                                            \n",
       "135420  A crash has closed SB I near mm in Buda close to CR FM  Traffic detouring to the access rd atxtraffic my                                                                                                                                                                      \n",
       "116913  Incident on LP  near CR  A truck dumped drilling mud over both lanes of LP  service roads It is thick and Eastbound lanes can not safely be accessed All Eastbound traffic is being turned around at the Todd Road crossover No timeline for opening yet                      \n",
       "49557   US  North at Transmountain collision Transmountain exit  right shoulder closed backup to Diana clearing time  hr                                                                                                                                                              \n",
       "87939   Intersection will be closed for several hours avoid the area                                                                                                                                                                                                                  \n",
       "5844    MIDLAND COUNTY FM  will be closed between CR  and SH  until further notice due to storm knocking down power lines Oncor on site but no timeline for repairs                                                                                                                   \n",
       "132128  SH  from FM  to FM  is closed in Roberts and Ochiltree Co FM  from FM  to SH  is also closed                                                                                                                                                                                  \n",
       "4273    Thanks to everyone who applied for APDs Citizen Police Academy Both Tuesday and Thursday classes are now full Registration closed Cant wait to see everyone in  OneAustinSaferTogether                                                                                        \n",
       "48274    block of Doniphan will be closed due to head on collision Expected to remain closed into the evening hours                                                                                                                                                                   \n",
       "6573    FM  closed in both directions at Creeks Edge Parkway following a crash Consider alternate route atxtraffic                                                                                                                                                                    \n",
       "137833  BEAUMONTDowlen Rd and the turnarounds at US will be closed tonight and tomorrow night pmam to work on the overpass                                                                                                                                                            \n",
       "5647    LA SALLE CO  IH  NB MM  right shoulder closed due to rail damage and repair thru end of August  Go slow and be safe                                                                                                                                                           \n",
       "5642    LA SALLE CO  For safety reasons FM  closed bet SH  Los Angeles and IH  Millett due to explosion incident on private property not on TxDOT FM  right of way  EB traffic detour to IH  SB  WB traffic detour to SH   Expect travel delays                                       \n",
       "129264  cadpanacea KatherineABC iah HobbyAirport Yes I is closed I is encouraged for use as alternate route                                                                                                                                                                           \n",
       "14153   Street Closures for the North Central Section of the City Hillcrest RoadWalnut Hill Lane Hillcrest RoadRoyal Lane Westbound Royal Lane at St Michaels Drive Northbound St Michaels Drive at Royal Lane Preston RoadRoyal Lane                                                 \n",
       "143908  US  closures Sat Sept  am Mon Oct  amUS  NB closed at Hondo Pass Traffic will exit at Hondo Pass and reenter at Transmtn amUS  SB closed at Transmtn Traffic will exit at Transmtn and reenter after Hondo Pass Crews pouring bridge deck over Diana Dr                       \n",
       "116716  UPTON COUNTY Crash has closed SH from RM to RM DPS working scene No timeline available for reopening right now                                                                                                                                                                \n",
       "140634  LP  in the City of Dickens will be closed today for a full width seal coat operation                                                                                                                                                                                          \n",
       "159044  Crews will close all mainlanes and frontage road lanes on SH  in Montgomery County NB from Rollingwood St to Circle Lake Dr for road work starting pm Friday Dec  to am Mon Dec  Follow signs for detour                                                                      \n",
       "5858    MIDLAND COUNTY Crash closed SH at FM FM north also blocked at  Detours WB SHSH northFM westFM southSH EB SH to North FM to East FM to South SH back to SH East FM  North detoured to RM SouthFM SH SH                                                                         \n",
       "140500  GAINESVILLE I NB CLOSED at Red River bridge due to a hazmat spill in OK I will be closed for several hours Detour US  to Sherman                                                                                                                                              \n",
       "139     In observance of the Labor Day holiday the administrative offices of the Frisco Police Department will be closed Monday September  Normal business hours will resume on Tuesday September                                                                                     \n",
       "6305    REMINDER FM  and FM  in Armstrong County remain closed to everyone except emergency personnel and land owners                                                                                                                                                                 \n",
       "4283    ATT is working on repairing downed phone lines that are lying across   at El Salido Parkway is closed Please avoid the area atxtraffic                                                                                                                                        \n",
       "6134    Hello Due to offices being closed today and minimal staff on Friday your request may not be answered until next week I will transfer this to the San Antonio District  Sydney TxDOT Media Relations                                                                           \n",
       "19822   Coming to the game Gates    are closed to cash All other gates are currently opened traffic TXvsOU                                                                                                                                                                            \n",
       "5751    Loop  btw N   th Streets in Tahoka is closed to traffic due to a downed power line Utility company on scene Traffic is detoured                                                                                                                                               \n",
       "48944   Loop  South New World Collision Right and left shoulders closed Backup to Montwood Clearing time  hr                                                                                                                                                                          \n",
       "131467  TRAFFIC ADVISORY Southbound Bell Street is reduced to one lane of traffic from just south of Plains Blvd to just past the Bell Street bridge over I for road widening work Please find alternate routes if possible                                                           \n",
       "6777    themercurynews shtoll itsmeaganyo Itravel TxDOTSanAntonio Demo of Yarrington Rd finished early so I will NOT b closed nitemw                                                                                                                                                  \n",
       "146999  NB and SB I at Randol Mil closed due to downed power lines SB detoured to SH  and NB to I                                                                                                                                                                                     \n",
       "139085  Brazos County Watch  INTERSECTION AT FM  GREENS PRAIRIE TRAIL CLOSED THIS WEEKEND Closure needed to elevate the intersection                                                                                                                                                  \n",
       "8102    you can find IW closures at  in Fort Worth It was probably closed due to construction                                                                                                                                                                                         \n",
       "7541    TODAYGuardrail Repair Project Monday May   am pm throughout the day Desert Boulevard South turnaround will be closed at TransmountainAlternate lane closures on Desert Boulevard North at the Transmountain intersection Crews will be repairing damaged guardrail            \n",
       "454     Loop  Border Highway eastwest US to Oregon both directions closed continuously until Monday am                                                                                                                                                                                \n",
       "6666    Its Monday and the I SB right lane is closedstalled vehicle after US  my atxtraffic                                                                                                                                                                                           \n",
       "140645  LP  in the City of Dickens will be closed today for a seal coat operation                                                                                                                                                                                                     \n",
       "159300  The ferry is operating but be mindful of high water issues near the ferry and leading up to the ferry Harborside leading up to the ferry is also closed                                                                                                                       \n",
       "27252   HeadsUp  Summit between th ampth CLOSED for an undetermined amount of time due to low power lines and a pole that has to be replaced                                                                                                                                          \n",
       "125664  RM  is closed due to high water                                                                                                                                                                                                                                               \n",
       "135294  REMINDER NB I bw Woodward  Woodland begin closures at p tonight Fully closed pa Closed again Sun  My ATXtraffic                                                                                                                                                               \n",
       "53323   US  Alameda collision right shoulder closed backup to LP  clearing time  hr                                                                                                                                                                                                   \n",
       "38170   DNT closed in Plano this weekend Visit  for details or follow TollTagTidbits for updates                                                                                                                                                                                      \n",
       "52441   US  North Diana Collision Transmountain exit  closed Backup to Diana clearing time  hr                                                                                                                                                                                        \n",
       "137585  ORANGEI EB SH will be closed tonight pa as crews work on the new overpass Traffic detoured to the frontage rd                                                                                                                                                                 \n",
       "7268    US  southbound closed in Kingsville due to crash involving two wheelers Traffic diverted to Business  Estimated to take four hours to clear scene Slow down and prepare for detour                                                                                            \n",
       "29936   The parade starts on Dairy RdGarden Dr North on Dairy Rd to Highway  Ave D West left on Hwy Ave D to First St North right on First St to Hwy  Ave B West left on Hwy  Ave B to Fifth St North right on Fifth St to Austin St ends  North th St                                \n",
       "71114   APD officers are working a crash at ParmerDessau the intersection is closed Please avoid the area at this time Incident ATXTraffic                                                                                                                                            \n",
       "132218  FM  will be closed over I in Harrison County Wednesday as crews make repairs to the bridge deck Detour route is signed                                                                                                                                                        \n",
       "160148  As soon as the bridge was closed crews went to work to demo the FM  bridge over I                                                                                                                                                                                             \n",
       "113346  UPDATE  FM  closed in Kinney Co  FM  and FM  remain closed in Kinney Co due to flooding                                                                                                                                                                                       \n",
       "141356  FM  in Karnes County closed to thru traffic from US  to SH  for oil spill cleanup This section of FM  closed til further notice                                                                                                                                               \n",
       "1063    Special Traffic Investigations unit responding to a serious collision involving a Motorcycle and car at I and Artcraft I closed E and W bound dp                                                                                                                              \n",
       "38166   Multiple Traffic crashes NB US bt  and Park with left and HOV closed Expect delays in the area                                                                                                                                                                                \n",
       "136748  BEAUMONT SH  at Hillebrandt Bayou is currently closed in order for crews to do an in depth inspection of the bridge                                                                                                                                                           \n",
       "77429   ATXtraffic alert wheeler hit bridge on Hwy  over Colorado River SB  closed at bridge WB Hwy  closed  Pls use alt rts                                                                                                                                                          \n",
       "142285  NB US  HOV to close next week tween Galatyn and Park SB already closed between Bethany and Galatyn Remain closed until                                                                                                                                                        \n",
       "49227   Gateway North Montana Collision Intersection Closed Minor Backup Clearing Time  Hour                                                                                                                                                                                          \n",
       "4272    APD is working a SWAT Callout that started at  am  Wagon Crossing Path is closed Traffic is blocked at Wagon Bend Trail Broken Spoke Trail and Dove Springs Dr Please avoid the area atxtraffic                                                                               \n",
       "5657    DIMMIT CO  Apr  ap daily  FM  closed daily ap in AshertonDimmit Co bet Carter StS th St  FM FM  for const                                                                                                                                                                     \n",
       "159041  Crews will close all mainlanes and frontage road lanes on SH  in Montgomery County NB from Rollingwood St to Circle Lake Dr for road work starting tonight at pm until am Mon Dec  Follow signs for detour                                                                    \n",
       "6609    Cesar Chavez closed in both direction at I due to autoped crash ATXtraffic                                                                                                                                                                                                    \n",
       "158764  The office will be closed Wednesday March ndThe ferry operations will be running as normal For s                                                                                                                                                                              \n",
       "135186  SB I closed near SH  due to truck fire Likely closed until am Consider options and allow extra time my atxtraffic                                                                                                                                                             \n",
       "6104    LP  in Christoval is closed due to flooding of the South Concho River                                                                                                                                                                                                         \n",
       "70253   TRAFFIC ADVISORY Intersections of Springdale Rd w Pecan Brook Dr Old Manor Rd closed due to a gas line break PD on scene please avoid the area No ETA for reopening at this time ATXTraffic                                                                                   \n",
       "129240  TPWDparks Game Wardens helped survey the scene on I at TXLA border on their airboats I remains closed                                                                                                                                                                         \n",
       "107718  Waco  University Parks Dr EB Connector I  Connector closed tonight PM to AM  My                                                                                                                                                                                               \n",
       "40195   On this SquirrelAppreciationDay show some love for your favorite nut loving critter by doing the PMRoutine Get the valuables and guns out of your car and lock it up Then make sure your garage is closed and turn on your outside lights Your Community Your Commitment YC   \n",
       "117872  Northbound FM  while be closed between mile markers  for repairs Wednesday  in Midland County Please obey flaggers                                                                                                                                                            \n",
       "81730   Dont forget City offices will be closed for the th of July If you need to swing by City Hall do it today or Friday                                                                                                                                                            \n",
       "6760    ErickaMiller no word on how long SB I will be closed Star Flight called to the scene as well                                                                                                                                                                                  \n",
       "145742  Transmountain will be completely closed from US  to I toniteFeb pm thru Tues am Crews will repair potholes                                                                                                                                                                    \n",
       "30660   Major Acident at Shiloh and Apollo Shiloh closed to all northbound traffic Use alternate route if possible                                                                                                                                                                    \n",
       "34014   TRAFFIC ADVISORY APD  AFD working a serious crash at westbound I just west of Matlock All westbound lanes are being diverted to the frontage road Investigation may go through rush hour so plan accordingly Alternate routes include I Pioneer Pkwy  or Green Oaks           \n",
       "113133  FM  FM   FM  closed in Kinney Co due to high water over low water crossings  Use alternate routes  Turn AroundDont Drown                                                                                                                                                      \n",
       "8001    WB I at Eastchase closed due to a wreck                                                                                                                                                                                                                                       \n",
       "125227  RM  E of Mertzon is closed at RM  due to high water over the draw                                                                                                                                                                                                             \n",
       "112963  LAREDO  Dec  beg  am  SL  NB to SB turnaround under KCS bridge closed for excavation work  Seek alternate route                                                                                                                                                               \n",
       "4284    Suspect is described as a White male  about  lbs He was wearing a dark blue hoodie and left with an undisclosed amount of cash Suspect left on foot unknown direction of travel Anyone with information is asked to call Robbery Hotline at                                   \n",
       "8447    Dont forget we have IH  EB at IH  closed Use IH  as an alternate                                                                                                                                                                                                              \n",
       "\n",
       "        class  pred  correct  \n",
       "5966    1      0     0        \n",
       "6141    1      0     0        \n",
       "6753    1      0     0        \n",
       "47873   0      1     0        \n",
       "143370  0      1     0        \n",
       "140685  0      1     0        \n",
       "143668  0      1     0        \n",
       "162     1      0     0        \n",
       "146368  0      1     0        \n",
       "111523  0      1     0        \n",
       "60012   0      1     0        \n",
       "117720  0      1     0        \n",
       "6521    1      0     0        \n",
       "73460   0      1     0        \n",
       "116257  0      1     0        \n",
       "7131    1      0     0        \n",
       "3106    1      0     0        \n",
       "6421    1      0     0        \n",
       "125175  0      1     0        \n",
       "159     1      0     0        \n",
       "142613  0      1     0        \n",
       "7309    1      0     0        \n",
       "82543   0      1     0        \n",
       "27884   0      1     0        \n",
       "6623    1      0     0        \n",
       "144058  0      1     0        \n",
       "8442    1      0     0        \n",
       "37783   0      1     0        \n",
       "53719   0      1     0        \n",
       "5833    1      0     0        \n",
       "130880  0      1     0        \n",
       "120171  0      1     0        \n",
       "135420  0      1     0        \n",
       "116913  0      1     0        \n",
       "49557   0      1     0        \n",
       "87939   0      1     0        \n",
       "5844    1      0     0        \n",
       "132128  0      1     0        \n",
       "4273    1      0     0        \n",
       "48274   0      1     0        \n",
       "6573    1      0     0        \n",
       "137833  0      1     0        \n",
       "5647    1      0     0        \n",
       "5642    1      0     0        \n",
       "129264  0      1     0        \n",
       "14153   0      1     0        \n",
       "143908  0      1     0        \n",
       "116716  0      1     0        \n",
       "140634  0      1     0        \n",
       "159044  0      1     0        \n",
       "5858    1      0     0        \n",
       "140500  0      1     0        \n",
       "139     1      0     0        \n",
       "6305    1      0     0        \n",
       "4283    1      0     0        \n",
       "6134    1      0     0        \n",
       "19822   0      1     0        \n",
       "5751    1      0     0        \n",
       "48944   0      1     0        \n",
       "131467  0      1     0        \n",
       "6777    1      0     0        \n",
       "146999  0      1     0        \n",
       "139085  0      1     0        \n",
       "8102    1      0     0        \n",
       "7541    1      0     0        \n",
       "454     1      0     0        \n",
       "6666    1      0     0        \n",
       "140645  0      1     0        \n",
       "159300  0      1     0        \n",
       "27252   0      1     0        \n",
       "125664  0      1     0        \n",
       "135294  0      1     0        \n",
       "53323   0      1     0        \n",
       "38170   0      1     0        \n",
       "52441   0      1     0        \n",
       "137585  0      1     0        \n",
       "7268    1      0     0        \n",
       "29936   0      1     0        \n",
       "71114   0      1     0        \n",
       "132218  0      1     0        \n",
       "160148  0      1     0        \n",
       "113346  0      1     0        \n",
       "141356  0      1     0        \n",
       "1063    1      0     0        \n",
       "38166   0      1     0        \n",
       "136748  0      1     0        \n",
       "77429   0      1     0        \n",
       "142285  0      1     0        \n",
       "49227   0      1     0        \n",
       "4272    1      0     0        \n",
       "5657    1      0     0        \n",
       "159041  0      1     0        \n",
       "6609    1      0     0        \n",
       "158764  0      1     0        \n",
       "135186  0      1     0        \n",
       "6104    1      0     0        \n",
       "70253   0      1     0        \n",
       "129240  0      1     0        \n",
       "107718  0      1     0        \n",
       "40195   0      1     0        \n",
       "117872  0      1     0        \n",
       "81730   0      1     0        \n",
       "6760    1      0     0        \n",
       "145742  0      1     0        \n",
       "30660   0      1     0        \n",
       "34014   0      1     0        \n",
       "113133  0      1     0        \n",
       "8001    1      0     0        \n",
       "125227  0      1     0        \n",
       "112963  0      1     0        \n",
       "4284    1      0     0        \n",
       "8447    1      0     0        "
      ]
     },
     "execution_count": 32,
     "metadata": {},
     "output_type": "execute_result"
    }
   ],
   "source": [
    "# Return a dataframe of misclassified tweets\n",
    "explore_df['correct'] = correct\n",
    "misclassified = explore_df[explore_df['correct'] == 0]\n",
    "\n",
    "# Set view options and look at misclassified tweets\n",
    "pd.set_option('display.max_rows', None)\n",
    "pd.set_option('display.max_columns', None)\n",
    "pd.set_option('display.width', None)\n",
    "pd.set_option('display.max_colwidth', -1)\n",
    "misclassified"
   ]
  },
  {
   "cell_type": "code",
   "execution_count": null,
   "metadata": {},
   "outputs": [],
   "source": []
  }
 ],
 "metadata": {
  "kernelspec": {
   "display_name": "Python 3",
   "language": "python",
   "name": "python3"
  },
  "language_info": {
   "codemirror_mode": {
    "name": "ipython",
    "version": 3
   },
   "file_extension": ".py",
   "mimetype": "text/x-python",
   "name": "python",
   "nbconvert_exporter": "python",
   "pygments_lexer": "ipython3",
   "version": "3.7.5"
  }
 },
 "nbformat": 4,
 "nbformat_minor": 2
}
