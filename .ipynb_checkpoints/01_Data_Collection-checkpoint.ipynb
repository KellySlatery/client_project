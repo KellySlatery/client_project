{
 "cells": [
  {
   "cell_type": "markdown",
   "metadata": {},
   "source": [
    "# Project 5: Optimizing Evacuation Routes using Real-Time Traffic Information"
   ]
  },
  {
   "cell_type": "markdown",
   "metadata": {},
   "source": [
    "Song May, Michael Daugherty, Kelly Slatery | US-DSI-10 | 02.21.2020"
   ]
  },
  {
   "cell_type": "markdown",
   "metadata": {},
   "source": [
    "## Problem Statement"
   ]
  },
  {
   "cell_type": "code",
   "execution_count": null,
   "metadata": {},
   "outputs": [],
   "source": []
  },
  {
   "cell_type": "markdown",
   "metadata": {},
   "source": [
    "## Executive Summary"
   ]
  },
  {
   "cell_type": "code",
   "execution_count": null,
   "metadata": {},
   "outputs": [],
   "source": []
  },
  {
   "cell_type": "markdown",
   "metadata": {},
   "source": [
    "## Data Dictionary"
   ]
  },
  {
   "cell_type": "code",
   "execution_count": null,
   "metadata": {},
   "outputs": [],
   "source": []
  },
  {
   "cell_type": "markdown",
   "metadata": {},
   "source": [
    "## Contents"
   ]
  },
  {
   "cell_type": "code",
   "execution_count": null,
   "metadata": {},
   "outputs": [],
   "source": []
  },
  {
   "cell_type": "markdown",
   "metadata": {},
   "source": [
    "# Data Collection"
   ]
  },
  {
   "cell_type": "code",
   "execution_count": 28,
   "metadata": {},
   "outputs": [],
   "source": [
    "# Imports\n",
    "import pandas as pd\n",
    "import numpy as np\n",
    "import seaborn as sns\n",
    "import matplotlib.pyplot as plt\n",
    "%matplotlib inline\n",
    "\n",
    "import GetOldTweets3 as got\n",
    "import time\n",
    "import requests"
   ]
  },
  {
   "cell_type": "code",
   "execution_count": 12,
   "metadata": {},
   "outputs": [],
   "source": [
    "# Credits (using GetOldTweets3 package): Martin Beck, 01.12.2020\n",
    "# https://towardsdatascience.com/how-to-scrape-tweets-from-twitter-59287e20f0f1\n",
    "\n",
    "# Set up variables for first Twitter pull\n",
    "username = 'TxDOT'\n",
    "since_date = '2016-01-01'\n",
    "until_date = '2020-02-10'\n",
    "max_tweets = 18000\n",
    "\n",
    "# Create first query object\n",
    "tweetCriteria = got.manager.TweetCriteria().setUsername(username).setSince(since_date).setUntil(until_date).setMaxTweets(max_tweets)\n",
    "\n",
    "# Greate first list of all tweets\n",
    "tweets = got.manager.TweetManager.getTweets(tweetCriteria)\n",
    "\n",
    "# Create filtered list of tweet data\n",
    "user_tweets = [[tweet.date, tweet.username, tweet.text, tweet.hashtags] for tweet in tweets]\n",
    "\n",
    "# Transform list into the base tweet collection dataframe\n",
    "all_tweets = pd.DataFrame(user_tweets)"
   ]
  },
  {
   "cell_type": "code",
   "execution_count": 13,
   "metadata": {
    "scrolled": false
   },
   "outputs": [
    {
     "data": {
      "text/html": [
       "<div>\n",
       "<style scoped>\n",
       "    .dataframe tbody tr th:only-of-type {\n",
       "        vertical-align: middle;\n",
       "    }\n",
       "\n",
       "    .dataframe tbody tr th {\n",
       "        vertical-align: top;\n",
       "    }\n",
       "\n",
       "    .dataframe thead th {\n",
       "        text-align: right;\n",
       "    }\n",
       "</style>\n",
       "<table border=\"1\" class=\"dataframe\">\n",
       "  <thead>\n",
       "    <tr style=\"text-align: right;\">\n",
       "      <th></th>\n",
       "      <th>0</th>\n",
       "      <th>1</th>\n",
       "    </tr>\n",
       "  </thead>\n",
       "  <tbody>\n",
       "    <tr>\n",
       "      <th>0</th>\n",
       "      <td>2020-02-07 22:20:09+00:00</td>\n",
       "      <td>When you drink and drive in Texas, our officer...</td>\n",
       "    </tr>\n",
       "    <tr>\n",
       "      <th>1</th>\n",
       "      <td>2020-02-07 18:05:12+00:00</td>\n",
       "      <td>Want to help traffic instead of sitting in it?...</td>\n",
       "    </tr>\n",
       "    <tr>\n",
       "      <th>2</th>\n",
       "      <td>2020-02-07 01:10:04+00:00</td>\n",
       "      <td>Are you skilled in automotive work? We'd love ...</td>\n",
       "    </tr>\n",
       "    <tr>\n",
       "      <th>3</th>\n",
       "      <td>2020-02-07 00:15:25+00:00</td>\n",
       "      <td>From a shout to a whisper, we can’t emphasize ...</td>\n",
       "    </tr>\n",
       "    <tr>\n",
       "      <th>4</th>\n",
       "      <td>2020-02-06 22:14:22+00:00</td>\n",
       "      <td>We love seeing all the nice things y’all have ...</td>\n",
       "    </tr>\n",
       "  </tbody>\n",
       "</table>\n",
       "</div>"
      ],
      "text/plain": [
       "                          0                                                  1\n",
       "0 2020-02-07 22:20:09+00:00  When you drink and drive in Texas, our officer...\n",
       "1 2020-02-07 18:05:12+00:00  Want to help traffic instead of sitting in it?...\n",
       "2 2020-02-07 01:10:04+00:00  Are you skilled in automotive work? We'd love ...\n",
       "3 2020-02-07 00:15:25+00:00  From a shout to a whisper, we can’t emphasize ...\n",
       "4 2020-02-06 22:14:22+00:00  We love seeing all the nice things y’all have ..."
      ]
     },
     "execution_count": 13,
     "metadata": {},
     "output_type": "execute_result"
    }
   ],
   "source": [
    "# Look at first 5 tweets from 'TxDOT'\n",
    "pd.DataFrame(user_tweets).head()"
   ]
  },
  {
   "cell_type": "code",
   "execution_count": 14,
   "metadata": {
    "scrolled": true
   },
   "outputs": [
    {
     "data": {
      "text/html": [
       "<div>\n",
       "<style scoped>\n",
       "    .dataframe tbody tr th:only-of-type {\n",
       "        vertical-align: middle;\n",
       "    }\n",
       "\n",
       "    .dataframe tbody tr th {\n",
       "        vertical-align: top;\n",
       "    }\n",
       "\n",
       "    .dataframe thead th {\n",
       "        text-align: right;\n",
       "    }\n",
       "</style>\n",
       "<table border=\"1\" class=\"dataframe\">\n",
       "  <thead>\n",
       "    <tr style=\"text-align: right;\">\n",
       "      <th></th>\n",
       "      <th>0</th>\n",
       "      <th>1</th>\n",
       "    </tr>\n",
       "  </thead>\n",
       "  <tbody>\n",
       "    <tr>\n",
       "      <th>4080</th>\n",
       "      <td>2016-01-04 00:08:24+00:00</td>\n",
       "      <td>I-35 Alert: 10 vehicle crash closed down all m...</td>\n",
       "    </tr>\n",
       "    <tr>\n",
       "      <th>4081</th>\n",
       "      <td>2016-01-01 16:20:21+00:00</td>\n",
       "      <td>Make a #resolution to start 2016 right. #PlanW...</td>\n",
       "    </tr>\n",
       "    <tr>\n",
       "      <th>4082</th>\n",
       "      <td>2016-01-01 13:30:35+00:00</td>\n",
       "      <td>TxDOT offices will be closed today, Jan. 1 in ...</td>\n",
       "    </tr>\n",
       "    <tr>\n",
       "      <th>4083</th>\n",
       "      <td>2016-01-01 05:55:08+00:00</td>\n",
       "      <td>#HappyNewYear from #TxDOT! We hope everyone ha...</td>\n",
       "    </tr>\n",
       "    <tr>\n",
       "      <th>4084</th>\n",
       "      <td>2016-01-01 00:10:13+00:00</td>\n",
       "      <td>Don't start the #NewYear w/ a DWI. #PlanWhileY...</td>\n",
       "    </tr>\n",
       "  </tbody>\n",
       "</table>\n",
       "</div>"
      ],
      "text/plain": [
       "                             0  \\\n",
       "4080 2016-01-04 00:08:24+00:00   \n",
       "4081 2016-01-01 16:20:21+00:00   \n",
       "4082 2016-01-01 13:30:35+00:00   \n",
       "4083 2016-01-01 05:55:08+00:00   \n",
       "4084 2016-01-01 00:10:13+00:00   \n",
       "\n",
       "                                                      1  \n",
       "4080  I-35 Alert: 10 vehicle crash closed down all m...  \n",
       "4081  Make a #resolution to start 2016 right. #PlanW...  \n",
       "4082  TxDOT offices will be closed today, Jan. 1 in ...  \n",
       "4083  #HappyNewYear from #TxDOT! We hope everyone ha...  \n",
       "4084  Don't start the #NewYear w/ a DWI. #PlanWhileY...  "
      ]
     },
     "execution_count": 14,
     "metadata": {},
     "output_type": "execute_result"
    }
   ],
   "source": [
    "# Look at last 5 tweets from 'TxDOT'\n",
    "pd.DataFrame(user_tweets).tail()"
   ]
  },
  {
   "cell_type": "code",
   "execution_count": 40,
   "metadata": {},
   "outputs": [],
   "source": [
    "# Define list of Twitter usernames to scrape, exclusing first Twitter user ('TxDOT')\n",
    "# From: https://www.txdot.gov/driver/weather/txdot-twitter-feeds.html\n",
    "twitter_users = ['TxDOTAbilene', 'TxDOTAmarillo', 'TxDOTAtlanta', 'TxDOTAustin', \n",
    "                 'TxDOTBeaumont', 'TxDOTBWD', 'TxDOTBryan', 'TxDOTChildress', 'TxDOT_CRP', \n",
    "                 'TxDOTDallas', 'TxDOTELP', 'TxDOTFortWorth', 'GalvestonFerry', 'TxDOTHouston', \n",
    "                 'HoustonTranstar', 'I35Travel', 'TxDOTLaredo', 'TxDOTLubbock', 'TxDOTLufkin', \n",
    "                 'TxDOTOdessa', 'TxDOTParis', 'TxDOTPharr', 'PortA_Ferry', 'TxDOTSanAngelo', \n",
    "                 'TxDOTSanAntonio', 'TexasHighways', 'TxDOTTyler', 'TxDOTWacoPIO', 'TXDOTWF', \n",
    "                 'TxDOTYoakum', 'ImproveMopac', 'ManorExpressway', 'DFWConnector', 'DriveMidtown', \n",
    "                 'Drive360South', 'LBJexpress', 'NTExpress', 'my290Houston']"
   ]
  },
  {
   "cell_type": "code",
   "execution_count": 41,
   "metadata": {},
   "outputs": [
    {
     "data": {
      "text/plain": [
       "38"
      ]
     },
     "execution_count": 41,
     "metadata": {},
     "output_type": "execute_result"
    }
   ],
   "source": [
    "len(twitter_users)"
   ]
  },
  {
   "cell_type": "code",
   "execution_count": 54,
   "metadata": {},
   "outputs": [],
   "source": [
    "# Define a function to pull remaining users' tweets from the same time period\n",
    "def update_tweets(base_df, user):\n",
    "    \n",
    "    # Set up variables for first Twitter pull\n",
    "    username = user\n",
    "    since_date = '2016-01-01'\n",
    "    until_date = '2020-02-10'\n",
    "    max_tweets = 18000\n",
    "\n",
    "    # Create first query object\n",
    "    tweetCriteria = got.manager.TweetCriteria().setUsername(username).setSince(since_date).setUntil(until_date).setMaxTweets(max_tweets)\n",
    "\n",
    "    # Greate first list of all tweets\n",
    "    tweets = got.manager.TweetManager.getTweets(tweetCriteria)\n",
    "\n",
    "    # Create filtered list of tweet data\n",
    "    user_tweets = [[tweet.date, tweet.username, tweet.text, tweet.hashtags] for tweet in tweets]\n",
    "\n",
    "    # Transform list into the base tweet collection dataframe\n",
    "    tweets_df = pd.DataFrame(user_tweets)\n",
    "    \n",
    "    # Concatenate new tweets with old tweets\n",
    "    updated = pd.concat([base_df, tweets_df], axis=0, ignore_index=True, sort=True)\n",
    "    \n",
    "    # Export the new dataframe individually\n",
    "    tweets_df.to_csvv(f'./data/data_by_user/{user}_tweets', index=False)\n",
    "    \n",
    "    # Print progress update\n",
    "    print(f'Done scraping. We added {len(user_tweets)} new tweets. Current df shape: {df.shape}')\n",
    "    print()\n",
    "    \n",
    "    # Return updated dataframe of all tweets\n",
    "    return updated"
   ]
  },
  {
   "cell_type": "code",
   "execution_count": null,
   "metadata": {},
   "outputs": [],
   "source": [
    "# Get tweets from above 38 twitters users and add to the all_tweets dataframe\n",
    "\n",
    "# Set up count\n",
    "i = 0\n",
    "\n",
    "# Loop through all twitter users to scrape and add to the all_tweets dataframe, according to Twitter API limits\n",
    "for user in twitter_users:\n",
    "\n",
    "    # Count twitters as they are scraped and get the initial time\n",
    "    i += 1\n",
    "    t0 = time.time()\n",
    "    \n",
    "    # Print progress update\n",
    "    print(f'Twitter #{i} now scraping...')\n",
    "    \n",
    "    # Get the tweets and update the dataframe\n",
    "    all_tweets = update_tweets(all_tweets, user)\n",
    "    \n",
    "    # Wait the the remainder of 15 minutes\n",
    "    time.sleep((15*60) - (time.time() - t0))\n",
    "    "
   ]
  },
  {
   "cell_type": "code",
   "execution_count": 53,
   "metadata": {},
   "outputs": [
    {
     "ename": "NameError",
     "evalue": "name 'all_tweets' is not defined",
     "output_type": "error",
     "traceback": [
      "\u001b[0;31m---------------------------------------------------------------------------\u001b[0m",
      "\u001b[0;31mNameError\u001b[0m                                 Traceback (most recent call last)",
      "\u001b[0;32m<ipython-input-53-b28f9850687b>\u001b[0m in \u001b[0;36m<module>\u001b[0;34m\u001b[0m\n\u001b[1;32m      1\u001b[0m \u001b[0;31m# Look at first 5 tweets\u001b[0m\u001b[0;34m\u001b[0m\u001b[0;34m\u001b[0m\u001b[0;34m\u001b[0m\u001b[0m\n\u001b[0;32m----> 2\u001b[0;31m \u001b[0mall_tweets\u001b[0m\u001b[0;34m.\u001b[0m\u001b[0mhead\u001b[0m\u001b[0;34m(\u001b[0m\u001b[0;34m)\u001b[0m\u001b[0;34m\u001b[0m\u001b[0;34m\u001b[0m\u001b[0m\n\u001b[0m",
      "\u001b[0;31mNameError\u001b[0m: name 'all_tweets' is not defined"
     ]
    }
   ],
   "source": [
    "# Look at first 5 tweets\n",
    "all_tweets.head()"
   ]
  },
  {
   "cell_type": "code",
   "execution_count": null,
   "metadata": {},
   "outputs": [],
   "source": [
    "# Look at last 5 tweets\n",
    "all_tweets.tail()"
   ]
  },
  {
   "cell_type": "markdown",
   "metadata": {},
   "source": [
    "# Export data"
   ]
  },
  {
   "cell_type": "code",
   "execution_count": null,
   "metadata": {},
   "outputs": [],
   "source": [
    "all_tweets.to_csv('./data/DOT_tweets.csv', index=False)"
   ]
  }
 ],
 "metadata": {
  "kernelspec": {
   "display_name": "Python 3",
   "language": "python",
   "name": "python3"
  },
  "language_info": {
   "codemirror_mode": {
    "name": "ipython",
    "version": 3
   },
   "file_extension": ".py",
   "mimetype": "text/x-python",
   "name": "python",
   "nbconvert_exporter": "python",
   "pygments_lexer": "ipython3",
   "version": "3.7.5"
  }
 },
 "nbformat": 4,
 "nbformat_minor": 2
}
