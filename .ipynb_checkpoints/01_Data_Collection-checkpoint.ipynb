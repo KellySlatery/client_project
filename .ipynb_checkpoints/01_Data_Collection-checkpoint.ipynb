{
 "cells": [
  {
   "cell_type": "markdown",
   "metadata": {},
   "source": [
    "# Project 5: Optimizing Evacuation Routes using Real-Time Traffic Information"
   ]
  },
  {
   "cell_type": "markdown",
   "metadata": {},
   "source": [
    "Song May, Michael Daugherty, Kelly Slatery | US-DSI-10 | 02.21.2020"
   ]
  },
  {
   "cell_type": "markdown",
   "metadata": {},
   "source": [
    "## Problem Statement"
   ]
  },
  {
   "cell_type": "code",
   "execution_count": null,
   "metadata": {},
   "outputs": [],
   "source": []
  },
  {
   "cell_type": "markdown",
   "metadata": {},
   "source": [
    "## Executive Summary"
   ]
  },
  {
   "cell_type": "code",
   "execution_count": null,
   "metadata": {},
   "outputs": [],
   "source": []
  },
  {
   "cell_type": "markdown",
   "metadata": {},
   "source": [
    "## Data Dictionary"
   ]
  },
  {
   "cell_type": "code",
   "execution_count": null,
   "metadata": {},
   "outputs": [],
   "source": []
  },
  {
   "cell_type": "markdown",
   "metadata": {},
   "source": [
    "## Contents"
   ]
  },
  {
   "cell_type": "code",
   "execution_count": null,
   "metadata": {},
   "outputs": [],
   "source": []
  },
  {
   "cell_type": "markdown",
   "metadata": {},
   "source": [
    "# Data Collection"
   ]
  },
  {
   "cell_type": "code",
   "execution_count": 1,
   "metadata": {},
   "outputs": [],
   "source": [
    "# Imports\n",
    "import pandas as pd\n",
    "import numpy as np\n",
    "import seaborn as sns\n",
    "import matplotlib.pyplot as plt\n",
    "%matplotlib inline\n",
    "\n",
    "import GetOldTweets3 as got\n",
    "import time\n",
    "import requests"
   ]
  },
  {
   "cell_type": "code",
   "execution_count": 2,
   "metadata": {},
   "outputs": [
    {
     "name": "stdout",
     "output_type": "stream",
     "text": [
      "An error occured during an HTTP request: HTTP Error 429: Too Many Requests\n",
      "Try to open in browser: https://twitter.com/search?q=%20from%3Atxdot%20since%3A2016-01-01%20until%3A2020-02-10&src=typd\n"
     ]
    },
    {
     "ename": "SystemExit",
     "evalue": "",
     "output_type": "error",
     "traceback": [
      "An exception has occurred, use %tb to see the full traceback.\n",
      "\u001b[0;31mSystemExit\u001b[0m\n"
     ]
    },
    {
     "name": "stderr",
     "output_type": "stream",
     "text": [
      "/Users/kelly/anaconda3/envs/dsi/lib/python3.7/site-packages/IPython/core/interactiveshell.py:3327: UserWarning: To exit: use 'exit', 'quit', or Ctrl-D.\n",
      "  warn(\"To exit: use 'exit', 'quit', or Ctrl-D.\", stacklevel=1)\n"
     ]
    }
   ],
   "source": [
    "# Credits (using GetOldTweets3 package): Martin Beck, 01.12.2020\n",
    "# https://towardsdatascience.com/how-to-scrape-tweets-from-twitter-59287e20f0f1\n",
    "\n",
    "# Set up variables for first Twitter pull\n",
    "username = 'TxDOT'\n",
    "since_date = '2016-01-01'\n",
    "until_date = '2020-02-10'\n",
    "max_tweets = 18000\n",
    "\n",
    "# Create first query object\n",
    "tweetCriteria = got.manager.TweetCriteria().setUsername(username).setSince(since_date).setUntil(until_date).setMaxTweets(max_tweets)\n",
    "\n",
    "# Greate first list of all tweets\n",
    "tweets = got.manager.TweetManager.getTweets(tweetCriteria)\n",
    "\n",
    "# Create filtered list of tweet data\n",
    "user_tweets = [[tweet.date, tweet.username, tweet.text, tweet.hashtags] for tweet in tweets]\n",
    "\n",
    "# Transform list into the base tweet collection dataframe\n",
    "all_tweets = pd.DataFrame(user_tweets)"
   ]
  },
  {
   "cell_type": "code",
   "execution_count": null,
   "metadata": {
    "scrolled": false
   },
   "outputs": [],
   "source": [
    "# Look at first 5 tweets from 'TxDOT'\n",
    "pd.DataFrame(user_tweets).head()"
   ]
  },
  {
   "cell_type": "code",
   "execution_count": null,
   "metadata": {
    "scrolled": true
   },
   "outputs": [],
   "source": [
    "# Look at last 5 tweets from 'TxDOT'\n",
    "pd.DataFrame(user_tweets).tail()"
   ]
  },
  {
   "cell_type": "code",
   "execution_count": null,
   "metadata": {},
   "outputs": [],
   "source": [
    "# Define list of Twitter usernames to scrape, exclusing first Twitter user ('TxDOT')\n",
    "# From: https://www.txdot.gov/driver/weather/txdot-twitter-feeds.html\n",
    "twitter_users = ['TxDOTAbilene', 'TxDOTAmarillo', 'TxDOTAtlanta', 'TxDOTAustin', \n",
    "                 'TxDOTBeaumont', 'TxDOTBWD', 'TxDOTBryan', 'TxDOTChildress', 'TxDOT_CRP', \n",
    "                 'TxDOTDallas', 'TxDOTELP', 'TxDOTFortWorth', 'GalvestonFerry', 'TxDOTHouston', \n",
    "                 'HoustonTranstar', 'I35Travel', 'TxDOTLaredo', 'TxDOTLubbock', 'TxDOTLufkin', \n",
    "                 'TxDOTOdessa', 'TxDOTParis', 'TxDOTPharr', 'PortA_Ferry', 'TxDOTSanAngelo', \n",
    "                 'TxDOTSanAntonio', 'TexasHighways', 'TxDOTTyler', 'TxDOTWacoPIO', 'TXDOTWF', \n",
    "                 'TxDOTYoakum', 'ImproveMopac', 'ManorExpressway', 'DFWConnector', 'DriveMidtown', \n",
    "                 'Drive360South', 'LBJexpress', 'NTExpress', 'my290Houston']"
   ]
  },
  {
   "cell_type": "code",
   "execution_count": null,
   "metadata": {},
   "outputs": [],
   "source": [
    "len(twitter_users)"
   ]
  },
  {
   "cell_type": "code",
   "execution_count": null,
   "metadata": {},
   "outputs": [],
   "source": [
    "# Define a function to pull remaining users' tweets from the same time period\n",
    "def update_tweets(base_df, user):\n",
    "    \n",
    "    # Set up variables for first Twitter pull\n",
    "    username = user\n",
    "    since_date = '2016-01-01'\n",
    "    until_date = '2020-02-10'\n",
    "    max_tweets = 18000\n",
    "\n",
    "    # Create first query object\n",
    "    tweetCriteria = got.manager.TweetCriteria().setUsername(username).setSince(since_date).setUntil(until_date).setMaxTweets(max_tweets)\n",
    "\n",
    "    # Greate first list of all tweets\n",
    "    tweets = got.manager.TweetManager.getTweets(tweetCriteria)\n",
    "\n",
    "    # Create filtered list of tweet data\n",
    "    user_tweets = [[tweet.date, tweet.username, tweet.text, tweet.hashtags] for tweet in tweets]\n",
    "\n",
    "    # Transform list into the base tweet collection dataframe\n",
    "    tweets_df = pd.DataFrame(user_tweets)\n",
    "    \n",
    "    # Concatenate new tweets with old tweets\n",
    "    updated = pd.concat([base_df, tweets_df], axis=0, ignore_index=True, sort=True)\n",
    "    \n",
    "    # Export the new dataframe individually\n",
    "    tweets_df.to_csv(f'./data/data_by_user/{user}_tweets', index=False)\n",
    "    \n",
    "    # Print progress update\n",
    "    print(f'Done scraping. We added {len(user_tweets)} new tweets. Current df shape: {updated.shape}')\n",
    "    print()\n",
    "    \n",
    "    # Return updated dataframe of all tweets\n",
    "    return updated"
   ]
  },
  {
   "cell_type": "code",
   "execution_count": null,
   "metadata": {},
   "outputs": [],
   "source": [
    "# Get tweets from above 38 twitters users and add to the all_tweets dataframe\n",
    "\n",
    "# Set up count\n",
    "i = 0\n",
    "\n",
    "# Loop through all twitter users to scrape and add to the all_tweets dataframe, according to Twitter API limits\n",
    "for user in twitter_users:\n",
    "\n",
    "    # Count twitters as they are scraped and get the initial time\n",
    "    i += 1\n",
    "    t0 = time.time()\n",
    "    \n",
    "    # Print progress update\n",
    "    print(f'Twitter #{i} now scraping...')\n",
    "    \n",
    "    # Get the tweets and update the dataframe\n",
    "    all_tweets = update_tweets(all_tweets, user)\n",
    "    \n",
    "    # Wait the the remainder of 15 minutes\n",
    "    print(f'Time elapsed: {time.time() - t0}')\n",
    "    time.sleep((15*60) - (time.time() - t0))\n",
    "    "
   ]
  },
  {
   "cell_type": "code",
   "execution_count": null,
   "metadata": {},
   "outputs": [],
   "source": [
    "# Look at first 5 tweets\n",
    "all_tweets.head()"
   ]
  },
  {
   "cell_type": "code",
   "execution_count": null,
   "metadata": {},
   "outputs": [],
   "source": [
    "# Look at last 5 tweets\n",
    "all_tweets.tail()"
   ]
  },
  {
   "cell_type": "markdown",
   "metadata": {},
   "source": [
    "# Export data"
   ]
  },
  {
   "cell_type": "code",
   "execution_count": null,
   "metadata": {},
   "outputs": [],
   "source": [
    "all_tweets.to_csv('./data/DOT_tweets.csv', index=False)"
   ]
  }
 ],
 "metadata": {
  "kernelspec": {
   "display_name": "Python 3",
   "language": "python",
   "name": "python3"
  },
  "language_info": {
   "codemirror_mode": {
    "name": "ipython",
    "version": 3
   },
   "file_extension": ".py",
   "mimetype": "text/x-python",
   "name": "python",
   "nbconvert_exporter": "python",
   "pygments_lexer": "ipython3",
   "version": "3.7.5"
  }
 },
 "nbformat": 4,
 "nbformat_minor": 2
}
