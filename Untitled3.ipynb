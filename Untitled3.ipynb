{
 "cells": [
  {
   "cell_type": "code",
   "execution_count": 1,
   "metadata": {},
   "outputs": [],
   "source": [
    "import pandas as pd"
   ]
  },
  {
   "cell_type": "code",
   "execution_count": 4,
   "metadata": {},
   "outputs": [],
   "source": [
    "import os"
   ]
  },
  {
   "cell_type": "code",
   "execution_count": 5,
   "metadata": {},
   "outputs": [],
   "source": [
    "files = os.listdir(\"data\")"
   ]
  },
  {
   "cell_type": "code",
   "execution_count": 7,
   "metadata": {},
   "outputs": [],
   "source": [
    "dfs = [pd.read_csv(f\"./data/{file}\") for file in files]"
   ]
  },
  {
   "cell_type": "code",
   "execution_count": 8,
   "metadata": {},
   "outputs": [
    {
     "data": {
      "text/plain": [
       "[(4951, 5),\n",
       " (9768, 5),\n",
       " (578, 5),\n",
       " (4949, 5),\n",
       " (1880, 5),\n",
       " (1259, 5),\n",
       " (1223, 5),\n",
       " (1185, 5),\n",
       " (3787, 5),\n",
       " (1287, 5),\n",
       " (1858, 5),\n",
       " (3471, 5),\n",
       " (2561, 5),\n",
       " (1028, 5),\n",
       " (13227, 5),\n",
       " (93449, 5),\n",
       " (742, 5),\n",
       " (1617, 5),\n",
       " (2430, 5),\n",
       " (1383, 5),\n",
       " (2497, 5),\n",
       " (856, 5),\n",
       " (775, 5),\n",
       " (1059, 5),\n",
       " (2357, 5),\n",
       " (2982, 5),\n",
       " (11663, 5),\n",
       " (3249, 5),\n",
       " (0, 1),\n",
       " (109, 5),\n",
       " (8718, 5)]"
      ]
     },
     "execution_count": 8,
     "metadata": {},
     "output_type": "execute_result"
    }
   ],
   "source": [
    "[df.shape for df in dfs]"
   ]
  },
  {
   "cell_type": "code",
   "execution_count": null,
   "metadata": {},
   "outputs": [],
   "source": []
  }
 ],
 "metadata": {
  "kernelspec": {
   "display_name": "Python 3",
   "language": "python",
   "name": "python3"
  },
  "language_info": {
   "codemirror_mode": {
    "name": "ipython",
    "version": 3
   },
   "file_extension": ".py",
   "mimetype": "text/x-python",
   "name": "python",
   "nbconvert_exporter": "python",
   "pygments_lexer": "ipython3",
   "version": "3.7.6"
  }
 },
 "nbformat": 4,
 "nbformat_minor": 4
}
