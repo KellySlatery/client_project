{
 "cells": [
  {
   "cell_type": "markdown",
   "metadata": {},
   "source": [
    "# Project 5: Optimizing Evacuation Routes using Real-Time Traffic Information"
   ]
  },
  {
   "cell_type": "markdown",
   "metadata": {},
   "source": [
    "Song May, Michael Daugherty, Kelly Slatery | US-DSI-10 | 02.21.2020"
   ]
  },
  {
   "cell_type": "markdown",
   "metadata": {},
   "source": [
    "## Problem Statement"
   ]
  },
  {
   "cell_type": "code",
   "execution_count": null,
   "metadata": {},
   "outputs": [],
   "source": []
  },
  {
   "cell_type": "markdown",
   "metadata": {},
   "source": [
    "## Executive Summary"
   ]
  },
  {
   "cell_type": "code",
   "execution_count": null,
   "metadata": {},
   "outputs": [],
   "source": []
  },
  {
   "cell_type": "markdown",
   "metadata": {},
   "source": [
    "## Data Dictionary"
   ]
  },
  {
   "cell_type": "code",
   "execution_count": null,
   "metadata": {},
   "outputs": [],
   "source": []
  },
  {
   "cell_type": "markdown",
   "metadata": {},
   "source": [
    "## Contents"
   ]
  },
  {
   "cell_type": "code",
   "execution_count": null,
   "metadata": {},
   "outputs": [],
   "source": []
  },
  {
   "cell_type": "markdown",
   "metadata": {},
   "source": [
    "# Data Collection"
   ]
  },
  {
   "cell_type": "code",
   "execution_count": 1,
   "metadata": {},
   "outputs": [],
   "source": [
    "# Imports\n",
    "import pandas as pd\n",
    "import numpy as np\n",
    "import seaborn as sns\n",
    "import matplotlib.pyplot as plt\n",
    "%matplotlib inline\n",
    "\n",
    "import GetOldTweets3 as got\n",
    "import time\n",
    "import requests"
   ]
  },
  {
   "cell_type": "code",
   "execution_count": 2,
   "metadata": {},
   "outputs": [],
   "source": [
    "# Credits (using GetOldTweets3 package): Martin Beck, 01.12.2020\n",
    "# https://towardsdatascience.com/how-to-scrape-tweets-from-twitter-59287e20f0f1\n",
    "\n",
    "# Set up variables for first Twitter pull (user = 'TxDOT')\n",
    "username = 'TxDOT'\n",
    "since_date = '2017-08-25'\n",
    "until_date = '2017-09-02'\n",
    "max_tweets = 10000\n",
    "\n",
    "# Create first query object\n",
    "tweetCriteria = got.manager.TweetCriteria().setUsername(username).setSince(since_date).setUntil(until_date).setMaxTweets(max_tweets)\n",
    "\n",
    "# Greate first list of all tweets\n",
    "tweets = got.manager.TweetManager.getTweets(tweetCriteria)\n",
    "\n",
    "# Create filtered list of tweet data\n",
    "user_tweets = [[tweet.date, tweet.username, tweet.text, tweet.hashtags] for tweet in tweets]\n",
    "\n",
    "# Transform list into the base tweet collection dataframe\n",
    "all_tweets = pd.DataFrame(user_tweets)\n",
    "\n",
    "# Export dataframe to csv\n",
    "all_tweets.to_csv(f'./data/project_data/project_data_by_user/TxDOT_HH_tweets.csv', index=False)\n"
   ]
  },
  {
   "cell_type": "code",
   "execution_count": 3,
   "metadata": {},
   "outputs": [],
   "source": [
    "# Define a function to pull users' tweets from the Hurricane Harvey time period\n",
    "def update_tweets(base_df, user):\n",
    "    \n",
    "    # Set up variables for first Twitter pull\n",
    "    username = user\n",
    "    since_date = '2017-08-25'\n",
    "    until_date = '2017-09-02'\n",
    "    max_tweets = 10000\n",
    "\n",
    "    # Create first query object\n",
    "    tweetCriteria = got.manager.TweetCriteria().setUsername(username).setSince(since_date).setUntil(until_date).setMaxTweets(max_tweets)\n",
    "\n",
    "    # Greate first list of all tweets\n",
    "    tweets = got.manager.TweetManager.getTweets(tweetCriteria)\n",
    "\n",
    "    # Create filtered list of tweet data\n",
    "    user_tweets = [[tweet.date, tweet.username, tweet.text, tweet.hashtags] for tweet in tweets]\n",
    "\n",
    "    # Transform list into the base tweet collection dataframe\n",
    "    tweets_df = pd.DataFrame(user_tweets)\n",
    "    \n",
    "    # Concatenate new tweets with old tweets\n",
    "    updated = pd.concat([base_df, tweets_df], axis=0, ignore_index=True, sort=True)\n",
    "    \n",
    "    # Export the new dataframe individually\n",
    "    tweets_df.to_csv(f'./data/project_data/project_data_by_user/{user}_HH_tweets.csv', index=False)\n",
    "    \n",
    "    # Print progress update\n",
    "    print(f'Done scraping. We added {len(user_tweets)} new tweets. Current df shape: {updated.shape}')\n",
    "    \n",
    "    # Return updated dataframe of all tweets\n",
    "    return updated"
   ]
  },
  {
   "cell_type": "code",
   "execution_count": 4,
   "metadata": {},
   "outputs": [],
   "source": [
    "# Create a list of user accounts to scrape for tweets\n",
    "twitter_users = []\n",
    "\n",
    "# Define list of Twitter usernames to scrape, exclusing first Twitter user ('TxDOT')\n",
    "# From: https://www.txdot.gov/driver/weather/txdot-twitter-feeds.html\n",
    "twitter_users = ['TxDOTBeaumont', 'TxDOTBryan', 'TxDOT_CRP', 'GalvestonFerry', 'TxDOTHouston', \n",
    "                 'HoustonTranstar', 'I35Travel', 'TxDOTLufkin', 'PortA_Ferry', 'TexasHighways', 'my290Houston']"
   ]
  },
  {
   "cell_type": "code",
   "execution_count": 5,
   "metadata": {},
   "outputs": [
    {
     "name": "stdout",
     "output_type": "stream",
     "text": [
      "Twitter #1 now scraping...\n",
      "Done scraping. We added 155 new tweets. Current df shape: (213, 4)\n",
      "Time elapsed: 3.7070138454437256\n",
      "Twitter #2 now scraping...\n",
      "Done scraping. We added 46 new tweets. Current df shape: (259, 4)\n",
      "Time elapsed: 1.3906941413879395\n",
      "Twitter #3 now scraping...\n",
      "Done scraping. We added 31 new tweets. Current df shape: (290, 4)\n",
      "Time elapsed: 1.2062499523162842\n",
      "Twitter #4 now scraping...\n",
      "Done scraping. We added 55 new tweets. Current df shape: (345, 4)\n",
      "Time elapsed: 1.7799689769744873\n",
      "Twitter #5 now scraping...\n",
      "Done scraping. We added 144 new tweets. Current df shape: (489, 4)\n",
      "Time elapsed: 3.8016021251678467\n",
      "Twitter #6 now scraping...\n",
      "Done scraping. We added 1199 new tweets. Current df shape: (1688, 4)\n",
      "Time elapsed: 23.973681211471558\n",
      "Twitter #7 now scraping...\n",
      "Done scraping. We added 469 new tweets. Current df shape: (2157, 4)\n",
      "Time elapsed: 10.262969970703125\n",
      "Twitter #8 now scraping...\n",
      "Done scraping. We added 79 new tweets. Current df shape: (2236, 4)\n",
      "Time elapsed: 1.8906748294830322\n",
      "Twitter #9 now scraping...\n",
      "Done scraping. We added 1 new tweets. Current df shape: (2237, 4)\n",
      "Time elapsed: 0.43697190284729004\n",
      "Twitter #10 now scraping...\n",
      "Done scraping. We added 6 new tweets. Current df shape: (2243, 4)\n",
      "Time elapsed: 0.4779341220855713\n",
      "Twitter #11 now scraping...\n",
      "Done scraping. We added 56 new tweets. Current df shape: (2299, 4)\n",
      "Time elapsed: 1.3392748832702637\n"
     ]
    }
   ],
   "source": [
    "# Get tweets from 11 twitters relevant to Hurricane Harvey location and time period\n",
    "\n",
    "# Set up count\n",
    "i = 0\n",
    "\n",
    "# Loop through all twitter users to scrape and add to the all_tweets dataframe, according to Twitter API limits\n",
    "for user in twitter_users:\n",
    "\n",
    "    # Count twitters as they are scraped and get the initial time\n",
    "    i += 1\n",
    "    t0 = time.time()\n",
    "    \n",
    "    # Print progress update\n",
    "    print(f'Twitter #{i} now scraping...')\n",
    "    \n",
    "    # Get the tweets and update the dataframe\n",
    "    all_tweets = update_tweets(all_tweets, user)\n",
    "    \n",
    "    # Wait the the remainder of 15 minutes\n",
    "    print(f'Time elapsed: {time.time() - t0}')\n",
    "    time.sleep((15*60) - (time.time() - t0))\n",
    "    "
   ]
  },
  {
   "cell_type": "markdown",
   "metadata": {},
   "source": [
    "# Export Final DataFrame"
   ]
  },
  {
   "cell_type": "code",
   "execution_count": 6,
   "metadata": {},
   "outputs": [],
   "source": [
    "# Export all DOT tweets to use for analysis\n",
    "all_tweets.to_csv('./data/project_data/TxDOT_HH_tweets.csv', index=False)"
   ]
  }
 ],
 "metadata": {
  "kernelspec": {
   "display_name": "Python 3",
   "language": "python",
   "name": "python3"
  },
  "language_info": {
   "codemirror_mode": {
    "name": "ipython",
    "version": 3
   },
   "file_extension": ".py",
   "mimetype": "text/x-python",
   "name": "python",
   "nbconvert_exporter": "python",
   "pygments_lexer": "ipython3",
   "version": "3.7.5"
  }
 },
 "nbformat": 4,
 "nbformat_minor": 2
}
