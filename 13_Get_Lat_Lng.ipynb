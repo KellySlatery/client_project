{
 "cells": [
  {
   "cell_type": "markdown",
   "metadata": {},
   "source": [
    "# Project 5: Optimizing Evacuation Routes using Real-Time Traffic Information"
   ]
  },
  {
   "cell_type": "markdown",
   "metadata": {},
   "source": [
    "Song May, Michael Daugherty, Kelly Slatery | US-DSI-10 | 02.21.2020"
   ]
  },
  {
   "cell_type": "code",
   "execution_count": 1,
   "metadata": {},
   "outputs": [],
   "source": [
    "# Imports\n",
    "import pandas as pd"
   ]
  },
  {
   "cell_type": "markdown",
   "metadata": {},
   "source": [
    "# Import Data"
   ]
  },
  {
   "cell_type": "code",
   "execution_count": 2,
   "metadata": {},
   "outputs": [
    {
     "data": {
      "text/plain": [
       "(43, 3)"
      ]
     },
     "execution_count": 2,
     "metadata": {},
     "output_type": "execute_result"
    }
   ],
   "source": [
    "# Import file with locations and coordinates\n",
    "ll = pd.read_csv('./data/locations_w_LL.csv')\n",
    "ll.shape"
   ]
  },
  {
   "cell_type": "code",
   "execution_count": 3,
   "metadata": {
    "scrolled": true
   },
   "outputs": [
    {
     "data": {
      "text/html": [
       "<div>\n",
       "<style scoped>\n",
       "    .dataframe tbody tr th:only-of-type {\n",
       "        vertical-align: middle;\n",
       "    }\n",
       "\n",
       "    .dataframe tbody tr th {\n",
       "        vertical-align: top;\n",
       "    }\n",
       "\n",
       "    .dataframe thead th {\n",
       "        text-align: right;\n",
       "    }\n",
       "</style>\n",
       "<table border=\"1\" class=\"dataframe\">\n",
       "  <thead>\n",
       "    <tr style=\"text-align: right;\">\n",
       "      <th></th>\n",
       "      <th>Unnamed: 0</th>\n",
       "      <th>location</th>\n",
       "      <th>latlng</th>\n",
       "    </tr>\n",
       "  </thead>\n",
       "  <tbody>\n",
       "    <tr>\n",
       "      <th>0</th>\n",
       "      <td>0</td>\n",
       "      <td>I-10 East at Airway, Texas</td>\n",
       "      <td>(31.77851238297871, -106.39274056382978)</td>\n",
       "    </tr>\n",
       "    <tr>\n",
       "      <th>1</th>\n",
       "      <td>1</td>\n",
       "      <td>I-10 East at Mesa, Texas</td>\n",
       "      <td>(31.76263800000001, -106.49052)</td>\n",
       "    </tr>\n",
       "    <tr>\n",
       "      <th>2</th>\n",
       "      <td>2</td>\n",
       "      <td>I-10 East at Asarco, Texas</td>\n",
       "      <td>(31.152728536211036, -97.45027245045877)</td>\n",
       "    </tr>\n",
       "    <tr>\n",
       "      <th>3</th>\n",
       "      <td>3</td>\n",
       "      <td>I-10 West at Lomaland, Texas</td>\n",
       "      <td>(31.744404000000007, -106.33187249999999)</td>\n",
       "    </tr>\n",
       "    <tr>\n",
       "      <th>4</th>\n",
       "      <td>4</td>\n",
       "      <td>I-10 East at Sunland, Texas</td>\n",
       "      <td>(31.816627713233906, -106.55121538620033)</td>\n",
       "    </tr>\n",
       "  </tbody>\n",
       "</table>\n",
       "</div>"
      ],
      "text/plain": [
       "   Unnamed: 0                      location  \\\n",
       "0           0    I-10 East at Airway, Texas   \n",
       "1           1      I-10 East at Mesa, Texas   \n",
       "2           2    I-10 East at Asarco, Texas   \n",
       "3           3  I-10 West at Lomaland, Texas   \n",
       "4           4   I-10 East at Sunland, Texas   \n",
       "\n",
       "                                      latlng  \n",
       "0   (31.77851238297871, -106.39274056382978)  \n",
       "1            (31.76263800000001, -106.49052)  \n",
       "2   (31.152728536211036, -97.45027245045877)  \n",
       "3  (31.744404000000007, -106.33187249999999)  \n",
       "4  (31.816627713233906, -106.55121538620033)  "
      ]
     },
     "execution_count": 3,
     "metadata": {},
     "output_type": "execute_result"
    }
   ],
   "source": [
    "ll.head()"
   ]
  },
  {
   "cell_type": "code",
   "execution_count": 4,
   "metadata": {},
   "outputs": [
    {
     "data": {
      "text/html": [
       "<div>\n",
       "<style scoped>\n",
       "    .dataframe tbody tr th:only-of-type {\n",
       "        vertical-align: middle;\n",
       "    }\n",
       "\n",
       "    .dataframe tbody tr th {\n",
       "        vertical-align: top;\n",
       "    }\n",
       "\n",
       "    .dataframe thead th {\n",
       "        text-align: right;\n",
       "    }\n",
       "</style>\n",
       "<table border=\"1\" class=\"dataframe\">\n",
       "  <thead>\n",
       "    <tr style=\"text-align: right;\">\n",
       "      <th></th>\n",
       "      <th>location</th>\n",
       "      <th>latlng</th>\n",
       "    </tr>\n",
       "  </thead>\n",
       "  <tbody>\n",
       "    <tr>\n",
       "      <th>0</th>\n",
       "      <td>I-10 East at Airway, Texas</td>\n",
       "      <td>(31.77851238297871, -106.39274056382978)</td>\n",
       "    </tr>\n",
       "    <tr>\n",
       "      <th>1</th>\n",
       "      <td>I-10 East at Mesa, Texas</td>\n",
       "      <td>(31.76263800000001, -106.49052)</td>\n",
       "    </tr>\n",
       "    <tr>\n",
       "      <th>2</th>\n",
       "      <td>I-10 East at Asarco, Texas</td>\n",
       "      <td>(31.152728536211036, -97.45027245045877)</td>\n",
       "    </tr>\n",
       "    <tr>\n",
       "      <th>3</th>\n",
       "      <td>I-10 West at Lomaland, Texas</td>\n",
       "      <td>(31.744404000000007, -106.33187249999999)</td>\n",
       "    </tr>\n",
       "    <tr>\n",
       "      <th>4</th>\n",
       "      <td>I-10 East at Sunland, Texas</td>\n",
       "      <td>(31.816627713233906, -106.55121538620033)</td>\n",
       "    </tr>\n",
       "  </tbody>\n",
       "</table>\n",
       "</div>"
      ],
      "text/plain": [
       "                       location                                     latlng\n",
       "0    I-10 East at Airway, Texas   (31.77851238297871, -106.39274056382978)\n",
       "1      I-10 East at Mesa, Texas            (31.76263800000001, -106.49052)\n",
       "2    I-10 East at Asarco, Texas   (31.152728536211036, -97.45027245045877)\n",
       "3  I-10 West at Lomaland, Texas  (31.744404000000007, -106.33187249999999)\n",
       "4   I-10 East at Sunland, Texas  (31.816627713233906, -106.55121538620033)"
      ]
     },
     "execution_count": 4,
     "metadata": {},
     "output_type": "execute_result"
    }
   ],
   "source": [
    "# Drop unnecessary column\n",
    "ll.drop(columns='Unnamed: 0', inplace=True)\n",
    "ll.head()"
   ]
  },
  {
   "cell_type": "code",
   "execution_count": 5,
   "metadata": {},
   "outputs": [
    {
     "name": "stdout",
     "output_type": "stream",
     "text": [
      "[31.77851238297871, 31.76263800000001, 31.152728536211036, 31.744404000000007, 31.816627713233906]\n",
      "[-106.39274056382978, -106.49052, -97.45027245045877, -106.33187249999999, -106.55121538620033]\n"
     ]
    }
   ],
   "source": [
    "# Split up latitude and longitude\n",
    "lats = []\n",
    "lngs = []\n",
    "\n",
    "for coords in ll['latlng']:\n",
    "    coords = coords.strip().replace('(', '').replace(')', '')\n",
    "    lat, lng = coords.split()\n",
    "    lats.append(float(lat.strip(',')))\n",
    "    lngs.append(float(lng))\n",
    "\n",
    "# Verify that lists line up with dataframe values\n",
    "print(lats[:5])\n",
    "print(lngs[:5])"
   ]
  },
  {
   "cell_type": "code",
   "execution_count": 6,
   "metadata": {},
   "outputs": [
    {
     "data": {
      "text/html": [
       "<div>\n",
       "<style scoped>\n",
       "    .dataframe tbody tr th:only-of-type {\n",
       "        vertical-align: middle;\n",
       "    }\n",
       "\n",
       "    .dataframe tbody tr th {\n",
       "        vertical-align: top;\n",
       "    }\n",
       "\n",
       "    .dataframe thead th {\n",
       "        text-align: right;\n",
       "    }\n",
       "</style>\n",
       "<table border=\"1\" class=\"dataframe\">\n",
       "  <thead>\n",
       "    <tr style=\"text-align: right;\">\n",
       "      <th></th>\n",
       "      <th>location</th>\n",
       "      <th>latlng</th>\n",
       "      <th>lat</th>\n",
       "      <th>lng</th>\n",
       "    </tr>\n",
       "  </thead>\n",
       "  <tbody>\n",
       "    <tr>\n",
       "      <th>0</th>\n",
       "      <td>I-10 East at Airway, Texas</td>\n",
       "      <td>(31.77851238297871, -106.39274056382978)</td>\n",
       "      <td>31.778512</td>\n",
       "      <td>-106.392741</td>\n",
       "    </tr>\n",
       "    <tr>\n",
       "      <th>1</th>\n",
       "      <td>I-10 East at Mesa, Texas</td>\n",
       "      <td>(31.76263800000001, -106.49052)</td>\n",
       "      <td>31.762638</td>\n",
       "      <td>-106.490520</td>\n",
       "    </tr>\n",
       "    <tr>\n",
       "      <th>2</th>\n",
       "      <td>I-10 East at Asarco, Texas</td>\n",
       "      <td>(31.152728536211036, -97.45027245045877)</td>\n",
       "      <td>31.152729</td>\n",
       "      <td>-97.450272</td>\n",
       "    </tr>\n",
       "    <tr>\n",
       "      <th>3</th>\n",
       "      <td>I-10 West at Lomaland, Texas</td>\n",
       "      <td>(31.744404000000007, -106.33187249999999)</td>\n",
       "      <td>31.744404</td>\n",
       "      <td>-106.331872</td>\n",
       "    </tr>\n",
       "    <tr>\n",
       "      <th>4</th>\n",
       "      <td>I-10 East at Sunland, Texas</td>\n",
       "      <td>(31.816627713233906, -106.55121538620033)</td>\n",
       "      <td>31.816628</td>\n",
       "      <td>-106.551215</td>\n",
       "    </tr>\n",
       "  </tbody>\n",
       "</table>\n",
       "</div>"
      ],
      "text/plain": [
       "                       location                                     latlng  \\\n",
       "0    I-10 East at Airway, Texas   (31.77851238297871, -106.39274056382978)   \n",
       "1      I-10 East at Mesa, Texas            (31.76263800000001, -106.49052)   \n",
       "2    I-10 East at Asarco, Texas   (31.152728536211036, -97.45027245045877)   \n",
       "3  I-10 West at Lomaland, Texas  (31.744404000000007, -106.33187249999999)   \n",
       "4   I-10 East at Sunland, Texas  (31.816627713233906, -106.55121538620033)   \n",
       "\n",
       "         lat         lng  \n",
       "0  31.778512 -106.392741  \n",
       "1  31.762638 -106.490520  \n",
       "2  31.152729  -97.450272  \n",
       "3  31.744404 -106.331872  \n",
       "4  31.816628 -106.551215  "
      ]
     },
     "execution_count": 6,
     "metadata": {},
     "output_type": "execute_result"
    }
   ],
   "source": [
    "# Create new columns for lats and longs\n",
    "ll['lat'] = lats\n",
    "ll['lng'] = lngs\n",
    "\n",
    "# Verify that columns were created\n",
    "ll.head()"
   ]
  },
  {
   "cell_type": "code",
   "execution_count": 7,
   "metadata": {
    "scrolled": true
   },
   "outputs": [
    {
     "name": "stdout",
     "output_type": "stream",
     "text": [
      "(43, 2)\n"
     ]
    },
    {
     "data": {
      "text/html": [
       "<div>\n",
       "<style scoped>\n",
       "    .dataframe tbody tr th:only-of-type {\n",
       "        vertical-align: middle;\n",
       "    }\n",
       "\n",
       "    .dataframe tbody tr th {\n",
       "        vertical-align: top;\n",
       "    }\n",
       "\n",
       "    .dataframe thead th {\n",
       "        text-align: right;\n",
       "    }\n",
       "</style>\n",
       "<table border=\"1\" class=\"dataframe\">\n",
       "  <thead>\n",
       "    <tr style=\"text-align: right;\">\n",
       "      <th></th>\n",
       "      <th>lat</th>\n",
       "      <th>lng</th>\n",
       "    </tr>\n",
       "  </thead>\n",
       "  <tbody>\n",
       "    <tr>\n",
       "      <th>0</th>\n",
       "      <td>31.778512</td>\n",
       "      <td>-106.392741</td>\n",
       "    </tr>\n",
       "    <tr>\n",
       "      <th>1</th>\n",
       "      <td>31.762638</td>\n",
       "      <td>-106.490520</td>\n",
       "    </tr>\n",
       "    <tr>\n",
       "      <th>2</th>\n",
       "      <td>31.152729</td>\n",
       "      <td>-97.450272</td>\n",
       "    </tr>\n",
       "    <tr>\n",
       "      <th>3</th>\n",
       "      <td>31.744404</td>\n",
       "      <td>-106.331872</td>\n",
       "    </tr>\n",
       "    <tr>\n",
       "      <th>4</th>\n",
       "      <td>31.816628</td>\n",
       "      <td>-106.551215</td>\n",
       "    </tr>\n",
       "  </tbody>\n",
       "</table>\n",
       "</div>"
      ],
      "text/plain": [
       "         lat         lng\n",
       "0  31.778512 -106.392741\n",
       "1  31.762638 -106.490520\n",
       "2  31.152729  -97.450272\n",
       "3  31.744404 -106.331872\n",
       "4  31.816628 -106.551215"
      ]
     },
     "execution_count": 7,
     "metadata": {},
     "output_type": "execute_result"
    }
   ],
   "source": [
    "# Drop all non-lat/lng columns\n",
    "ll.drop(columns=['location', 'latlng'], inplace=True)\n",
    "print(ll.shape)\n",
    "ll.head()"
   ]
  },
  {
   "cell_type": "code",
   "execution_count": 8,
   "metadata": {},
   "outputs": [
    {
     "data": {
      "text/plain": [
       "lat    float64\n",
       "lng    float64\n",
       "dtype: object"
      ]
     },
     "execution_count": 8,
     "metadata": {},
     "output_type": "execute_result"
    }
   ],
   "source": [
    "# Check data types (float)\n",
    "ll.dtypes"
   ]
  },
  {
   "cell_type": "markdown",
   "metadata": {},
   "source": [
    "## Export Latitudes / Longitudes"
   ]
  },
  {
   "cell_type": "code",
   "execution_count": 9,
   "metadata": {},
   "outputs": [],
   "source": [
    "ll.to_csv('./data/lat_lng.csv', index=False)"
   ]
  },
  {
   "cell_type": "code",
   "execution_count": null,
   "metadata": {},
   "outputs": [],
   "source": []
  }
 ],
 "metadata": {
  "kernelspec": {
   "display_name": "Python 3",
   "language": "python",
   "name": "python3"
  },
  "language_info": {
   "codemirror_mode": {
    "name": "ipython",
    "version": 3
   },
   "file_extension": ".py",
   "mimetype": "text/x-python",
   "name": "python",
   "nbconvert_exporter": "python",
   "pygments_lexer": "ipython3",
   "version": "3.7.5"
  }
 },
 "nbformat": 4,
 "nbformat_minor": 2
}
