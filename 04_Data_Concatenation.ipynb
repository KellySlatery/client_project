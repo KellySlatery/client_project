{
 "cells": [
  {
   "cell_type": "markdown",
   "metadata": {},
   "source": [
    "# Project 5: Optimizing Evacuation Routes using Real-Time Traffic Information"
   ]
  },
  {
   "cell_type": "markdown",
   "metadata": {},
   "source": [
    "Kelly Slatery | US-DSI-10 | 02.21.2020"
   ]
  },
  {
   "cell_type": "code",
   "execution_count": 1,
   "metadata": {},
   "outputs": [],
   "source": [
    "# Imports\n",
    "import pandas as pd"
   ]
  },
  {
   "cell_type": "markdown",
   "metadata": {},
   "source": [
    "## Combine Data: Test"
   ]
  },
  {
   "cell_type": "code",
   "execution_count": 2,
   "metadata": {
    "scrolled": true
   },
   "outputs": [
    {
     "data": {
      "text/html": [
       "<div>\n",
       "<style scoped>\n",
       "    .dataframe tbody tr th:only-of-type {\n",
       "        vertical-align: middle;\n",
       "    }\n",
       "\n",
       "    .dataframe tbody tr th {\n",
       "        vertical-align: top;\n",
       "    }\n",
       "\n",
       "    .dataframe thead th {\n",
       "        text-align: right;\n",
       "    }\n",
       "</style>\n",
       "<table border=\"1\" class=\"dataframe\">\n",
       "  <thead>\n",
       "    <tr style=\"text-align: right;\">\n",
       "      <th></th>\n",
       "      <th>Unnamed: 0</th>\n",
       "      <th>0</th>\n",
       "      <th>1</th>\n",
       "      <th>2</th>\n",
       "      <th>3</th>\n",
       "    </tr>\n",
       "  </thead>\n",
       "  <tbody>\n",
       "    <tr>\n",
       "      <th>0</th>\n",
       "      <td>9427</td>\n",
       "      <td>2017-08-31 21:34:27+00:00</td>\n",
       "      <td>DallasPD</td>\n",
       "      <td>Reminder: Texas State Law prohibiting texting ...</td>\n",
       "      <td>NaN</td>\n",
       "    </tr>\n",
       "    <tr>\n",
       "      <th>1</th>\n",
       "      <td>9428</td>\n",
       "      <td>2017-08-31 21:03:18+00:00</td>\n",
       "      <td>DallasPD</td>\n",
       "      <td>Brotherhood for the Fallen Charity Event</td>\n",
       "      <td>NaN</td>\n",
       "    </tr>\n",
       "    <tr>\n",
       "      <th>2</th>\n",
       "      <td>9429</td>\n",
       "      <td>2017-08-31 17:16:43+00:00</td>\n",
       "      <td>DallasPD</td>\n",
       "      <td>FREE #TRINITY EVENT - Artisan Fair Market - Se...</td>\n",
       "      <td>#TRINITY #LaborDayWeekend</td>\n",
       "    </tr>\n",
       "    <tr>\n",
       "      <th>3</th>\n",
       "      <td>9430</td>\n",
       "      <td>2017-08-31 17:13:36+00:00</td>\n",
       "      <td>DallasPD</td>\n",
       "      <td>Our thoughts and prayers are with the Sacramen...</td>\n",
       "      <td>NaN</td>\n",
       "    </tr>\n",
       "    <tr>\n",
       "      <th>4</th>\n",
       "      <td>9431</td>\n",
       "      <td>2017-08-31 17:10:47+00:00</td>\n",
       "      <td>DallasPD</td>\n",
       "      <td>How can Dallas residents help animals affected...</td>\n",
       "      <td>#HurricaneHarvey</td>\n",
       "    </tr>\n",
       "  </tbody>\n",
       "</table>\n",
       "</div>"
      ],
      "text/plain": [
       "   Unnamed: 0                          0         1  \\\n",
       "0        9427  2017-08-31 21:34:27+00:00  DallasPD   \n",
       "1        9428  2017-08-31 21:03:18+00:00  DallasPD   \n",
       "2        9429  2017-08-31 17:16:43+00:00  DallasPD   \n",
       "3        9430  2017-08-31 17:13:36+00:00  DallasPD   \n",
       "4        9431  2017-08-31 17:10:47+00:00  DallasPD   \n",
       "\n",
       "                                                   2  \\\n",
       "0  Reminder: Texas State Law prohibiting texting ...   \n",
       "1           Brotherhood for the Fallen Charity Event   \n",
       "2  FREE #TRINITY EVENT - Artisan Fair Market - Se...   \n",
       "3  Our thoughts and prayers are with the Sacramen...   \n",
       "4  How can Dallas residents help animals affected...   \n",
       "\n",
       "                           3  \n",
       "0                        NaN  \n",
       "1                        NaN  \n",
       "2  #TRINITY #LaborDayWeekend  \n",
       "3                        NaN  \n",
       "4           #HurricaneHarvey  "
      ]
     },
     "execution_count": 2,
     "metadata": {},
     "output_type": "execute_result"
    }
   ],
   "source": [
    "# Import datasets to concatenate\n",
    "pd_test = pd.read_csv('./data/test_data/PD_HH_tweets.csv')\n",
    "pd_test.head()"
   ]
  },
  {
   "cell_type": "code",
   "execution_count": 3,
   "metadata": {},
   "outputs": [],
   "source": [
    "pd_test.drop(columns='Unnamed: 0', inplace=True)"
   ]
  },
  {
   "cell_type": "code",
   "execution_count": 4,
   "metadata": {},
   "outputs": [
    {
     "data": {
      "text/html": [
       "<div>\n",
       "<style scoped>\n",
       "    .dataframe tbody tr th:only-of-type {\n",
       "        vertical-align: middle;\n",
       "    }\n",
       "\n",
       "    .dataframe tbody tr th {\n",
       "        vertical-align: top;\n",
       "    }\n",
       "\n",
       "    .dataframe thead th {\n",
       "        text-align: right;\n",
       "    }\n",
       "</style>\n",
       "<table border=\"1\" class=\"dataframe\">\n",
       "  <thead>\n",
       "    <tr style=\"text-align: right;\">\n",
       "      <th></th>\n",
       "      <th>0</th>\n",
       "      <th>1</th>\n",
       "      <th>2</th>\n",
       "      <th>3</th>\n",
       "    </tr>\n",
       "  </thead>\n",
       "  <tbody>\n",
       "    <tr>\n",
       "      <th>0</th>\n",
       "      <td>2017-09-01 19:02:56+00:00</td>\n",
       "      <td>TxDOT</td>\n",
       "      <td>Please check http://www.drivetexas.org for the...</td>\n",
       "      <td>NaN</td>\n",
       "    </tr>\n",
       "    <tr>\n",
       "      <th>1</th>\n",
       "      <td>2017-09-01 17:15:30+00:00</td>\n",
       "      <td>TxDOT</td>\n",
       "      <td>Please visit http://drivetexas.org for the lat...</td>\n",
       "      <td>NaN</td>\n",
       "    </tr>\n",
       "    <tr>\n",
       "      <th>2</th>\n",
       "      <td>2017-09-01 17:12:12+00:00</td>\n",
       "      <td>TxDOT</td>\n",
       "      <td>Texting and driving kills. And starting today,...</td>\n",
       "      <td>#TalkTextCrash</td>\n",
       "    </tr>\n",
       "    <tr>\n",
       "      <th>3</th>\n",
       "      <td>2017-09-01 15:01:00+00:00</td>\n",
       "      <td>TxDOT</td>\n",
       "      <td>Tolls on Grand Parkway from IH 10 to IH 69 con...</td>\n",
       "      <td>NaN</td>\n",
       "    </tr>\n",
       "    <tr>\n",
       "      <th>4</th>\n",
       "      <td>2017-09-01 13:30:24+00:00</td>\n",
       "      <td>TxDOT</td>\n",
       "      <td>As #Harvey continues to impact Texas roadways,...</td>\n",
       "      <td>#Harvey</td>\n",
       "    </tr>\n",
       "  </tbody>\n",
       "</table>\n",
       "</div>"
      ],
      "text/plain": [
       "                           0      1  \\\n",
       "0  2017-09-01 19:02:56+00:00  TxDOT   \n",
       "1  2017-09-01 17:15:30+00:00  TxDOT   \n",
       "2  2017-09-01 17:12:12+00:00  TxDOT   \n",
       "3  2017-09-01 15:01:00+00:00  TxDOT   \n",
       "4  2017-09-01 13:30:24+00:00  TxDOT   \n",
       "\n",
       "                                                   2               3  \n",
       "0  Please check http://www.drivetexas.org for the...             NaN  \n",
       "1  Please visit http://drivetexas.org for the lat...             NaN  \n",
       "2  Texting and driving kills. And starting today,...  #TalkTextCrash  \n",
       "3  Tolls on Grand Parkway from IH 10 to IH 69 con...             NaN  \n",
       "4  As #Harvey continues to impact Texas roadways,...         #Harvey  "
      ]
     },
     "execution_count": 4,
     "metadata": {},
     "output_type": "execute_result"
    }
   ],
   "source": [
    "dot_test = pd.read_csv('./data/test_data/TxDOT_HH_tweets.csv')\n",
    "dot_test.head()"
   ]
  },
  {
   "cell_type": "code",
   "execution_count": 5,
   "metadata": {
    "scrolled": true
   },
   "outputs": [
    {
     "data": {
      "text/html": [
       "<div>\n",
       "<style scoped>\n",
       "    .dataframe tbody tr th:only-of-type {\n",
       "        vertical-align: middle;\n",
       "    }\n",
       "\n",
       "    .dataframe tbody tr th {\n",
       "        vertical-align: top;\n",
       "    }\n",
       "\n",
       "    .dataframe thead th {\n",
       "        text-align: right;\n",
       "    }\n",
       "</style>\n",
       "<table border=\"1\" class=\"dataframe\">\n",
       "  <thead>\n",
       "    <tr style=\"text-align: right;\">\n",
       "      <th></th>\n",
       "      <th>0</th>\n",
       "      <th>1</th>\n",
       "      <th>2</th>\n",
       "      <th>3</th>\n",
       "    </tr>\n",
       "  </thead>\n",
       "  <tbody>\n",
       "    <tr>\n",
       "      <th>0</th>\n",
       "      <td>2017-08-31 21:34:27+00:00</td>\n",
       "      <td>DallasPD</td>\n",
       "      <td>Reminder: Texas State Law prohibiting texting ...</td>\n",
       "      <td>NaN</td>\n",
       "    </tr>\n",
       "    <tr>\n",
       "      <th>1</th>\n",
       "      <td>2017-08-31 21:03:18+00:00</td>\n",
       "      <td>DallasPD</td>\n",
       "      <td>Brotherhood for the Fallen Charity Event</td>\n",
       "      <td>NaN</td>\n",
       "    </tr>\n",
       "    <tr>\n",
       "      <th>2</th>\n",
       "      <td>2017-08-31 17:16:43+00:00</td>\n",
       "      <td>DallasPD</td>\n",
       "      <td>FREE #TRINITY EVENT - Artisan Fair Market - Se...</td>\n",
       "      <td>#TRINITY #LaborDayWeekend</td>\n",
       "    </tr>\n",
       "    <tr>\n",
       "      <th>3</th>\n",
       "      <td>2017-08-31 17:13:36+00:00</td>\n",
       "      <td>DallasPD</td>\n",
       "      <td>Our thoughts and prayers are with the Sacramen...</td>\n",
       "      <td>NaN</td>\n",
       "    </tr>\n",
       "    <tr>\n",
       "      <th>4</th>\n",
       "      <td>2017-08-31 17:10:47+00:00</td>\n",
       "      <td>DallasPD</td>\n",
       "      <td>How can Dallas residents help animals affected...</td>\n",
       "      <td>#HurricaneHarvey</td>\n",
       "    </tr>\n",
       "  </tbody>\n",
       "</table>\n",
       "</div>"
      ],
      "text/plain": [
       "                           0         1  \\\n",
       "0  2017-08-31 21:34:27+00:00  DallasPD   \n",
       "1  2017-08-31 21:03:18+00:00  DallasPD   \n",
       "2  2017-08-31 17:16:43+00:00  DallasPD   \n",
       "3  2017-08-31 17:13:36+00:00  DallasPD   \n",
       "4  2017-08-31 17:10:47+00:00  DallasPD   \n",
       "\n",
       "                                                   2  \\\n",
       "0  Reminder: Texas State Law prohibiting texting ...   \n",
       "1           Brotherhood for the Fallen Charity Event   \n",
       "2  FREE #TRINITY EVENT - Artisan Fair Market - Se...   \n",
       "3  Our thoughts and prayers are with the Sacramen...   \n",
       "4  How can Dallas residents help animals affected...   \n",
       "\n",
       "                           3  \n",
       "0                        NaN  \n",
       "1                        NaN  \n",
       "2  #TRINITY #LaborDayWeekend  \n",
       "3                        NaN  \n",
       "4           #HurricaneHarvey  "
      ]
     },
     "execution_count": 5,
     "metadata": {},
     "output_type": "execute_result"
    }
   ],
   "source": [
    "# Concatenate dataframes\n",
    "test_data = pd.concat([pd_test, dot_test], axis=0, ignore_index=True, sort=True)\n",
    "test_data.head()"
   ]
  },
  {
   "cell_type": "markdown",
   "metadata": {},
   "source": [
    "## Export Data: Test"
   ]
  },
  {
   "cell_type": "code",
   "execution_count": 6,
   "metadata": {},
   "outputs": [],
   "source": [
    "test_data.to_csv('./data/test_data/combined_test_data.csv')"
   ]
  },
  {
   "cell_type": "markdown",
   "metadata": {},
   "source": [
    "## Combine Data: Train"
   ]
  },
  {
   "cell_type": "code",
   "execution_count": 7,
   "metadata": {
    "scrolled": true
   },
   "outputs": [
    {
     "data": {
      "text/html": [
       "<div>\n",
       "<style scoped>\n",
       "    .dataframe tbody tr th:only-of-type {\n",
       "        vertical-align: middle;\n",
       "    }\n",
       "\n",
       "    .dataframe tbody tr th {\n",
       "        vertical-align: top;\n",
       "    }\n",
       "\n",
       "    .dataframe thead th {\n",
       "        text-align: right;\n",
       "    }\n",
       "</style>\n",
       "<table border=\"1\" class=\"dataframe\">\n",
       "  <thead>\n",
       "    <tr style=\"text-align: right;\">\n",
       "      <th></th>\n",
       "      <th>Unnamed: 0</th>\n",
       "      <th>0</th>\n",
       "      <th>1</th>\n",
       "      <th>2</th>\n",
       "      <th>3</th>\n",
       "    </tr>\n",
       "  </thead>\n",
       "  <tbody>\n",
       "    <tr>\n",
       "      <th>0</th>\n",
       "      <td>0</td>\n",
       "      <td>2016-10-30 20:51:45+00:00</td>\n",
       "      <td>DentonPolice</td>\n",
       "      <td>Investigating mismatch of name / photo. Until ...</td>\n",
       "      <td>NaN</td>\n",
       "    </tr>\n",
       "    <tr>\n",
       "      <th>1</th>\n",
       "      <td>1</td>\n",
       "      <td>2016-10-30 16:59:03+00:00</td>\n",
       "      <td>DentonPolice</td>\n",
       "      <td>10/30/2016 08:44:23 Regina, 39 yrs old Bond: $...</td>\n",
       "      <td>NaN</td>\n",
       "    </tr>\n",
       "    <tr>\n",
       "      <th>2</th>\n",
       "      <td>2</td>\n",
       "      <td>2016-10-30 13:52:19+00:00</td>\n",
       "      <td>DentonPolice</td>\n",
       "      <td>10/29/2016 17:03:18 Steven, 26 yrs old Bond: $...</td>\n",
       "      <td>NaN</td>\n",
       "    </tr>\n",
       "    <tr>\n",
       "      <th>3</th>\n",
       "      <td>3</td>\n",
       "      <td>2016-10-26 21:45:57+00:00</td>\n",
       "      <td>DentonPolice</td>\n",
       "      <td>10/25/2016 22:59:57 Monique, 39 yrs old Bond: ...</td>\n",
       "      <td>NaN</td>\n",
       "    </tr>\n",
       "    <tr>\n",
       "      <th>4</th>\n",
       "      <td>4</td>\n",
       "      <td>2016-10-26 21:09:45+00:00</td>\n",
       "      <td>DentonPolice</td>\n",
       "      <td>10/25/2016 21:37:00 Katelyn, 24 yrs old Bond: ...</td>\n",
       "      <td>NaN</td>\n",
       "    </tr>\n",
       "  </tbody>\n",
       "</table>\n",
       "</div>"
      ],
      "text/plain": [
       "   Unnamed: 0                          0             1  \\\n",
       "0           0  2016-10-30 20:51:45+00:00  DentonPolice   \n",
       "1           1  2016-10-30 16:59:03+00:00  DentonPolice   \n",
       "2           2  2016-10-30 13:52:19+00:00  DentonPolice   \n",
       "3           3  2016-10-26 21:45:57+00:00  DentonPolice   \n",
       "4           4  2016-10-26 21:09:45+00:00  DentonPolice   \n",
       "\n",
       "                                                   2    3  \n",
       "0  Investigating mismatch of name / photo. Until ...  NaN  \n",
       "1  10/30/2016 08:44:23 Regina, 39 yrs old Bond: $...  NaN  \n",
       "2  10/29/2016 17:03:18 Steven, 26 yrs old Bond: $...  NaN  \n",
       "3  10/25/2016 22:59:57 Monique, 39 yrs old Bond: ...  NaN  \n",
       "4  10/25/2016 21:37:00 Katelyn, 24 yrs old Bond: ...  NaN  "
      ]
     },
     "execution_count": 7,
     "metadata": {},
     "output_type": "execute_result"
    }
   ],
   "source": [
    "# Import datasets to concatenate\n",
    "pd_train = pd.read_csv('./data/train_data/PD_full_tweets.csv')\n",
    "pd_train.head()"
   ]
  },
  {
   "cell_type": "code",
   "execution_count": 8,
   "metadata": {},
   "outputs": [],
   "source": [
    "pd_train.drop(columns='Unnamed: 0', inplace=True)"
   ]
  },
  {
   "cell_type": "code",
   "execution_count": 9,
   "metadata": {
    "scrolled": true
   },
   "outputs": [
    {
     "name": "stderr",
     "output_type": "stream",
     "text": [
      "/Users/kelly/anaconda3/envs/dsi/lib/python3.7/site-packages/IPython/core/interactiveshell.py:3051: DtypeWarning: Columns (4,5,6,7) have mixed types. Specify dtype option on import or set low_memory=False.\n",
      "  interactivity=interactivity, compiler=compiler, result=result)\n"
     ]
    },
    {
     "data": {
      "text/html": [
       "<div>\n",
       "<style scoped>\n",
       "    .dataframe tbody tr th:only-of-type {\n",
       "        vertical-align: middle;\n",
       "    }\n",
       "\n",
       "    .dataframe tbody tr th {\n",
       "        vertical-align: top;\n",
       "    }\n",
       "\n",
       "    .dataframe thead th {\n",
       "        text-align: right;\n",
       "    }\n",
       "</style>\n",
       "<table border=\"1\" class=\"dataframe\">\n",
       "  <thead>\n",
       "    <tr style=\"text-align: right;\">\n",
       "      <th></th>\n",
       "      <th>0</th>\n",
       "      <th>1</th>\n",
       "      <th>2</th>\n",
       "      <th>3</th>\n",
       "      <th>one</th>\n",
       "      <th>three</th>\n",
       "      <th>two</th>\n",
       "      <th>zero</th>\n",
       "    </tr>\n",
       "  </thead>\n",
       "  <tbody>\n",
       "    <tr>\n",
       "      <th>0</th>\n",
       "      <td>NaN</td>\n",
       "      <td>NaN</td>\n",
       "      <td>NaN</td>\n",
       "      <td>NaN</td>\n",
       "      <td>TxDOT</td>\n",
       "      <td>#PlanWhileYouCan #EndTheStreakTX</td>\n",
       "      <td>When you drink and drive in Texas, our officer...</td>\n",
       "      <td>2020-02-07 22:20:09+00:00</td>\n",
       "    </tr>\n",
       "    <tr>\n",
       "      <th>1</th>\n",
       "      <td>NaN</td>\n",
       "      <td>NaN</td>\n",
       "      <td>NaN</td>\n",
       "      <td>NaN</td>\n",
       "      <td>TxDOT</td>\n",
       "      <td>#TxDOTCareers</td>\n",
       "      <td>Want to help traffic instead of sitting in it?...</td>\n",
       "      <td>2020-02-07 18:05:12+00:00</td>\n",
       "    </tr>\n",
       "    <tr>\n",
       "      <th>2</th>\n",
       "      <td>NaN</td>\n",
       "      <td>NaN</td>\n",
       "      <td>NaN</td>\n",
       "      <td>NaN</td>\n",
       "      <td>TxDOT</td>\n",
       "      <td>#TxDOTCareers</td>\n",
       "      <td>Are you skilled in automotive work? We'd love ...</td>\n",
       "      <td>2020-02-07 01:10:04+00:00</td>\n",
       "    </tr>\n",
       "    <tr>\n",
       "      <th>3</th>\n",
       "      <td>NaN</td>\n",
       "      <td>NaN</td>\n",
       "      <td>NaN</td>\n",
       "      <td>NaN</td>\n",
       "      <td>TxDOT</td>\n",
       "      <td>#EndTheStreakTX #ClickItOrTicket</td>\n",
       "      <td>From a shout to a whisper, we can’t emphasize ...</td>\n",
       "      <td>2020-02-07 00:15:25+00:00</td>\n",
       "    </tr>\n",
       "    <tr>\n",
       "      <th>4</th>\n",
       "      <td>NaN</td>\n",
       "      <td>NaN</td>\n",
       "      <td>NaN</td>\n",
       "      <td>NaN</td>\n",
       "      <td>TxDOT</td>\n",
       "      <td>#txwx</td>\n",
       "      <td>We love seeing all the nice things y’all have ...</td>\n",
       "      <td>2020-02-06 22:14:22+00:00</td>\n",
       "    </tr>\n",
       "  </tbody>\n",
       "</table>\n",
       "</div>"
      ],
      "text/plain": [
       "     0    1    2    3    one                             three  \\\n",
       "0  NaN  NaN  NaN  NaN  TxDOT  #PlanWhileYouCan #EndTheStreakTX   \n",
       "1  NaN  NaN  NaN  NaN  TxDOT                     #TxDOTCareers   \n",
       "2  NaN  NaN  NaN  NaN  TxDOT                     #TxDOTCareers   \n",
       "3  NaN  NaN  NaN  NaN  TxDOT  #EndTheStreakTX #ClickItOrTicket   \n",
       "4  NaN  NaN  NaN  NaN  TxDOT                             #txwx   \n",
       "\n",
       "                                                 two  \\\n",
       "0  When you drink and drive in Texas, our officer...   \n",
       "1  Want to help traffic instead of sitting in it?...   \n",
       "2  Are you skilled in automotive work? We'd love ...   \n",
       "3  From a shout to a whisper, we can’t emphasize ...   \n",
       "4  We love seeing all the nice things y’all have ...   \n",
       "\n",
       "                        zero  \n",
       "0  2020-02-07 22:20:09+00:00  \n",
       "1  2020-02-07 18:05:12+00:00  \n",
       "2  2020-02-07 01:10:04+00:00  \n",
       "3  2020-02-07 00:15:25+00:00  \n",
       "4  2020-02-06 22:14:22+00:00  "
      ]
     },
     "execution_count": 9,
     "metadata": {},
     "output_type": "execute_result"
    }
   ],
   "source": [
    "dot_train = pd.read_csv('./data/train_data/DOT_full_tweets.csv')\n",
    "dot_train.head()"
   ]
  },
  {
   "cell_type": "code",
   "execution_count": 10,
   "metadata": {},
   "outputs": [
    {
     "data": {
      "text/plain": [
       "0        45079\n",
       "1        45079\n",
       "2        45159\n",
       "3        68619\n",
       "one      35758\n",
       "three    68125\n",
       "two      35987\n",
       "zero     35758\n",
       "dtype: int64"
      ]
     },
     "execution_count": 10,
     "metadata": {},
     "output_type": "execute_result"
    }
   ],
   "source": [
    "# Look at NaNs in dot_train\n",
    "dot_train.isnull().sum()"
   ]
  },
  {
   "cell_type": "code",
   "execution_count": 11,
   "metadata": {},
   "outputs": [
    {
     "data": {
      "text/plain": [
       "(80837, 8)"
      ]
     },
     "execution_count": 11,
     "metadata": {},
     "output_type": "execute_result"
    }
   ],
   "source": [
    "# Look at initial shape\n",
    "dot_train.shape"
   ]
  },
  {
   "cell_type": "code",
   "execution_count": 12,
   "metadata": {},
   "outputs": [
    {
     "data": {
      "text/html": [
       "<div>\n",
       "<style scoped>\n",
       "    .dataframe tbody tr th:only-of-type {\n",
       "        vertical-align: middle;\n",
       "    }\n",
       "\n",
       "    .dataframe tbody tr th {\n",
       "        vertical-align: top;\n",
       "    }\n",
       "\n",
       "    .dataframe thead th {\n",
       "        text-align: right;\n",
       "    }\n",
       "</style>\n",
       "<table border=\"1\" class=\"dataframe\">\n",
       "  <thead>\n",
       "    <tr style=\"text-align: right;\">\n",
       "      <th></th>\n",
       "      <th>0</th>\n",
       "      <th>1</th>\n",
       "      <th>2</th>\n",
       "      <th>3</th>\n",
       "    </tr>\n",
       "  </thead>\n",
       "  <tbody>\n",
       "    <tr>\n",
       "      <th>45079</th>\n",
       "      <td>2020-02-07 22:17:07+00:00</td>\n",
       "      <td>houstontranstar</td>\n",
       "      <td>http://traffic.houstontranstar.org/layers/</td>\n",
       "      <td>NaN</td>\n",
       "    </tr>\n",
       "    <tr>\n",
       "      <th>45080</th>\n",
       "      <td>2020-02-07 17:48:31+00:00</td>\n",
       "      <td>houstontranstar</td>\n",
       "      <td>REMINDER: All mainlanes of I-610 West Loop (NB...</td>\n",
       "      <td>NaN</td>\n",
       "    </tr>\n",
       "    <tr>\n",
       "      <th>45081</th>\n",
       "      <td>2020-02-07 15:53:52+00:00</td>\n",
       "      <td>houstontranstar</td>\n",
       "      <td>http://traffic.houstontranstar.org/layers/</td>\n",
       "      <td>NaN</td>\n",
       "    </tr>\n",
       "    <tr>\n",
       "      <th>45082</th>\n",
       "      <td>2020-02-07 15:38:03+00:00</td>\n",
       "      <td>houstontranstar</td>\n",
       "      <td>http://traffic.houstontranstar.org/layers/</td>\n",
       "      <td>NaN</td>\n",
       "    </tr>\n",
       "    <tr>\n",
       "      <th>45083</th>\n",
       "      <td>2020-02-06 16:04:45+00:00</td>\n",
       "      <td>houstontranstar</td>\n",
       "      <td>More information related to this closure can b...</td>\n",
       "      <td>#HoustonTranStar</td>\n",
       "    </tr>\n",
       "  </tbody>\n",
       "</table>\n",
       "</div>"
      ],
      "text/plain": [
       "                               0                1  \\\n",
       "45079  2020-02-07 22:17:07+00:00  houstontranstar   \n",
       "45080  2020-02-07 17:48:31+00:00  houstontranstar   \n",
       "45081  2020-02-07 15:53:52+00:00  houstontranstar   \n",
       "45082  2020-02-07 15:38:03+00:00  houstontranstar   \n",
       "45083  2020-02-06 16:04:45+00:00  houstontranstar   \n",
       "\n",
       "                                                       2                 3  \n",
       "45079         http://traffic.houstontranstar.org/layers/               NaN  \n",
       "45080  REMINDER: All mainlanes of I-610 West Loop (NB...               NaN  \n",
       "45081         http://traffic.houstontranstar.org/layers/               NaN  \n",
       "45082         http://traffic.houstontranstar.org/layers/               NaN  \n",
       "45083  More information related to this closure can b...  #HoustonTranStar  "
      ]
     },
     "execution_count": 12,
     "metadata": {},
     "output_type": "execute_result"
    }
   ],
   "source": [
    "# Create dataframe for first non-NaN rows\n",
    "dot1 = dot_train.drop(columns=['one', 'two', 'three', 'zero'])\n",
    "dot1.dropna(axis=0, how='all', inplace=True)\n",
    "dot1.head()"
   ]
  },
  {
   "cell_type": "code",
   "execution_count": 13,
   "metadata": {
    "scrolled": true
   },
   "outputs": [
    {
     "data": {
      "text/plain": [
       "0        0\n",
       "1        0\n",
       "2       80\n",
       "3    23540\n",
       "dtype: int64"
      ]
     },
     "execution_count": 13,
     "metadata": {},
     "output_type": "execute_result"
    }
   ],
   "source": [
    "# Look for nulls\n",
    "dot1.isnull().sum()"
   ]
  },
  {
   "cell_type": "code",
   "execution_count": 14,
   "metadata": {
    "scrolled": true
   },
   "outputs": [],
   "source": [
    "# Drop all rows where column 2 is NaN\n",
    "dot1 = dot1.loc[dot1['2'].notnull()]"
   ]
  },
  {
   "cell_type": "code",
   "execution_count": 15,
   "metadata": {},
   "outputs": [
    {
     "data": {
      "text/plain": [
       "(35678, 4)"
      ]
     },
     "execution_count": 15,
     "metadata": {},
     "output_type": "execute_result"
    }
   ],
   "source": [
    "dot1.shape"
   ]
  },
  {
   "cell_type": "code",
   "execution_count": 16,
   "metadata": {},
   "outputs": [
    {
     "data": {
      "text/html": [
       "<div>\n",
       "<style scoped>\n",
       "    .dataframe tbody tr th:only-of-type {\n",
       "        vertical-align: middle;\n",
       "    }\n",
       "\n",
       "    .dataframe tbody tr th {\n",
       "        vertical-align: top;\n",
       "    }\n",
       "\n",
       "    .dataframe thead th {\n",
       "        text-align: right;\n",
       "    }\n",
       "</style>\n",
       "<table border=\"1\" class=\"dataframe\">\n",
       "  <thead>\n",
       "    <tr style=\"text-align: right;\">\n",
       "      <th></th>\n",
       "      <th>one</th>\n",
       "      <th>three</th>\n",
       "      <th>two</th>\n",
       "      <th>zero</th>\n",
       "    </tr>\n",
       "  </thead>\n",
       "  <tbody>\n",
       "    <tr>\n",
       "      <th>0</th>\n",
       "      <td>TxDOT</td>\n",
       "      <td>#PlanWhileYouCan #EndTheStreakTX</td>\n",
       "      <td>When you drink and drive in Texas, our officer...</td>\n",
       "      <td>2020-02-07 22:20:09+00:00</td>\n",
       "    </tr>\n",
       "    <tr>\n",
       "      <th>1</th>\n",
       "      <td>TxDOT</td>\n",
       "      <td>#TxDOTCareers</td>\n",
       "      <td>Want to help traffic instead of sitting in it?...</td>\n",
       "      <td>2020-02-07 18:05:12+00:00</td>\n",
       "    </tr>\n",
       "    <tr>\n",
       "      <th>2</th>\n",
       "      <td>TxDOT</td>\n",
       "      <td>#TxDOTCareers</td>\n",
       "      <td>Are you skilled in automotive work? We'd love ...</td>\n",
       "      <td>2020-02-07 01:10:04+00:00</td>\n",
       "    </tr>\n",
       "    <tr>\n",
       "      <th>3</th>\n",
       "      <td>TxDOT</td>\n",
       "      <td>#EndTheStreakTX #ClickItOrTicket</td>\n",
       "      <td>From a shout to a whisper, we can’t emphasize ...</td>\n",
       "      <td>2020-02-07 00:15:25+00:00</td>\n",
       "    </tr>\n",
       "    <tr>\n",
       "      <th>4</th>\n",
       "      <td>TxDOT</td>\n",
       "      <td>#txwx</td>\n",
       "      <td>We love seeing all the nice things y’all have ...</td>\n",
       "      <td>2020-02-06 22:14:22+00:00</td>\n",
       "    </tr>\n",
       "  </tbody>\n",
       "</table>\n",
       "</div>"
      ],
      "text/plain": [
       "     one                             three  \\\n",
       "0  TxDOT  #PlanWhileYouCan #EndTheStreakTX   \n",
       "1  TxDOT                     #TxDOTCareers   \n",
       "2  TxDOT                     #TxDOTCareers   \n",
       "3  TxDOT  #EndTheStreakTX #ClickItOrTicket   \n",
       "4  TxDOT                             #txwx   \n",
       "\n",
       "                                                 two  \\\n",
       "0  When you drink and drive in Texas, our officer...   \n",
       "1  Want to help traffic instead of sitting in it?...   \n",
       "2  Are you skilled in automotive work? We'd love ...   \n",
       "3  From a shout to a whisper, we can’t emphasize ...   \n",
       "4  We love seeing all the nice things y’all have ...   \n",
       "\n",
       "                        zero  \n",
       "0  2020-02-07 22:20:09+00:00  \n",
       "1  2020-02-07 18:05:12+00:00  \n",
       "2  2020-02-07 01:10:04+00:00  \n",
       "3  2020-02-07 00:15:25+00:00  \n",
       "4  2020-02-06 22:14:22+00:00  "
      ]
     },
     "execution_count": 16,
     "metadata": {},
     "output_type": "execute_result"
    }
   ],
   "source": [
    "# Create dataframe for second non-NaN rows\n",
    "dot2 = dot_train.drop(columns=['1', '2', '3', '0'])\n",
    "dot2.dropna(axis=0, how='all', inplace=True)\n",
    "dot2.head()"
   ]
  },
  {
   "cell_type": "code",
   "execution_count": 17,
   "metadata": {},
   "outputs": [
    {
     "data": {
      "text/plain": [
       "one          0\n",
       "three    32367\n",
       "two        229\n",
       "zero         0\n",
       "dtype: int64"
      ]
     },
     "execution_count": 17,
     "metadata": {},
     "output_type": "execute_result"
    }
   ],
   "source": [
    "# Look for nulls\n",
    "dot2.isnull().sum()"
   ]
  },
  {
   "cell_type": "code",
   "execution_count": 18,
   "metadata": {},
   "outputs": [],
   "source": [
    "# Drop all rows where column 2 is NaN\n",
    "dot2 = dot2.loc[dot2['two'].notnull()]"
   ]
  },
  {
   "cell_type": "code",
   "execution_count": 19,
   "metadata": {},
   "outputs": [
    {
     "data": {
      "text/plain": [
       "(44850, 4)"
      ]
     },
     "execution_count": 19,
     "metadata": {},
     "output_type": "execute_result"
    }
   ],
   "source": [
    "dot2.shape"
   ]
  },
  {
   "cell_type": "code",
   "execution_count": 20,
   "metadata": {},
   "outputs": [
    {
     "name": "stdout",
     "output_type": "stream",
     "text": [
      "(35678, 4)\n",
      "(44850, 4)\n"
     ]
    }
   ],
   "source": [
    "# Check the shapes of the two dataframes to concatenate\n",
    "print(dot1.shape)\n",
    "print(dot2.shape)"
   ]
  },
  {
   "cell_type": "code",
   "execution_count": 21,
   "metadata": {},
   "outputs": [
    {
     "data": {
      "text/html": [
       "<div>\n",
       "<style scoped>\n",
       "    .dataframe tbody tr th:only-of-type {\n",
       "        vertical-align: middle;\n",
       "    }\n",
       "\n",
       "    .dataframe tbody tr th {\n",
       "        vertical-align: top;\n",
       "    }\n",
       "\n",
       "    .dataframe thead th {\n",
       "        text-align: right;\n",
       "    }\n",
       "</style>\n",
       "<table border=\"1\" class=\"dataframe\">\n",
       "  <thead>\n",
       "    <tr style=\"text-align: right;\">\n",
       "      <th></th>\n",
       "      <th>zero</th>\n",
       "      <th>one</th>\n",
       "      <th>two</th>\n",
       "      <th>three</th>\n",
       "    </tr>\n",
       "  </thead>\n",
       "  <tbody>\n",
       "    <tr>\n",
       "      <th>45079</th>\n",
       "      <td>2020-02-07 22:17:07+00:00</td>\n",
       "      <td>houstontranstar</td>\n",
       "      <td>http://traffic.houstontranstar.org/layers/</td>\n",
       "      <td>NaN</td>\n",
       "    </tr>\n",
       "    <tr>\n",
       "      <th>45080</th>\n",
       "      <td>2020-02-07 17:48:31+00:00</td>\n",
       "      <td>houstontranstar</td>\n",
       "      <td>REMINDER: All mainlanes of I-610 West Loop (NB...</td>\n",
       "      <td>NaN</td>\n",
       "    </tr>\n",
       "    <tr>\n",
       "      <th>45081</th>\n",
       "      <td>2020-02-07 15:53:52+00:00</td>\n",
       "      <td>houstontranstar</td>\n",
       "      <td>http://traffic.houstontranstar.org/layers/</td>\n",
       "      <td>NaN</td>\n",
       "    </tr>\n",
       "    <tr>\n",
       "      <th>45082</th>\n",
       "      <td>2020-02-07 15:38:03+00:00</td>\n",
       "      <td>houstontranstar</td>\n",
       "      <td>http://traffic.houstontranstar.org/layers/</td>\n",
       "      <td>NaN</td>\n",
       "    </tr>\n",
       "    <tr>\n",
       "      <th>45083</th>\n",
       "      <td>2020-02-06 16:04:45+00:00</td>\n",
       "      <td>houstontranstar</td>\n",
       "      <td>More information related to this closure can b...</td>\n",
       "      <td>#HoustonTranStar</td>\n",
       "    </tr>\n",
       "  </tbody>\n",
       "</table>\n",
       "</div>"
      ],
      "text/plain": [
       "                            zero              one  \\\n",
       "45079  2020-02-07 22:17:07+00:00  houstontranstar   \n",
       "45080  2020-02-07 17:48:31+00:00  houstontranstar   \n",
       "45081  2020-02-07 15:53:52+00:00  houstontranstar   \n",
       "45082  2020-02-07 15:38:03+00:00  houstontranstar   \n",
       "45083  2020-02-06 16:04:45+00:00  houstontranstar   \n",
       "\n",
       "                                                     two             three  \n",
       "45079         http://traffic.houstontranstar.org/layers/               NaN  \n",
       "45080  REMINDER: All mainlanes of I-610 West Loop (NB...               NaN  \n",
       "45081         http://traffic.houstontranstar.org/layers/               NaN  \n",
       "45082         http://traffic.houstontranstar.org/layers/               NaN  \n",
       "45083  More information related to this closure can b...  #HoustonTranStar  "
      ]
     },
     "execution_count": 21,
     "metadata": {},
     "output_type": "execute_result"
    }
   ],
   "source": [
    "# Rename dot1 columns \n",
    "dot1.rename(columns={'0': 'zero', '1': 'one', '2': 'two', '3': 'three'}, inplace=True)\n",
    "dot1.head()"
   ]
  },
  {
   "cell_type": "code",
   "execution_count": 22,
   "metadata": {},
   "outputs": [
    {
     "data": {
      "text/html": [
       "<div>\n",
       "<style scoped>\n",
       "    .dataframe tbody tr th:only-of-type {\n",
       "        vertical-align: middle;\n",
       "    }\n",
       "\n",
       "    .dataframe tbody tr th {\n",
       "        vertical-align: top;\n",
       "    }\n",
       "\n",
       "    .dataframe thead th {\n",
       "        text-align: right;\n",
       "    }\n",
       "</style>\n",
       "<table border=\"1\" class=\"dataframe\">\n",
       "  <thead>\n",
       "    <tr style=\"text-align: right;\">\n",
       "      <th></th>\n",
       "      <th>one</th>\n",
       "      <th>three</th>\n",
       "      <th>two</th>\n",
       "      <th>zero</th>\n",
       "    </tr>\n",
       "  </thead>\n",
       "  <tbody>\n",
       "    <tr>\n",
       "      <th>0</th>\n",
       "      <td>houstontranstar</td>\n",
       "      <td>NaN</td>\n",
       "      <td>http://traffic.houstontranstar.org/layers/</td>\n",
       "      <td>2020-02-07 22:17:07+00:00</td>\n",
       "    </tr>\n",
       "    <tr>\n",
       "      <th>1</th>\n",
       "      <td>houstontranstar</td>\n",
       "      <td>NaN</td>\n",
       "      <td>REMINDER: All mainlanes of I-610 West Loop (NB...</td>\n",
       "      <td>2020-02-07 17:48:31+00:00</td>\n",
       "    </tr>\n",
       "    <tr>\n",
       "      <th>2</th>\n",
       "      <td>houstontranstar</td>\n",
       "      <td>NaN</td>\n",
       "      <td>http://traffic.houstontranstar.org/layers/</td>\n",
       "      <td>2020-02-07 15:53:52+00:00</td>\n",
       "    </tr>\n",
       "    <tr>\n",
       "      <th>3</th>\n",
       "      <td>houstontranstar</td>\n",
       "      <td>NaN</td>\n",
       "      <td>http://traffic.houstontranstar.org/layers/</td>\n",
       "      <td>2020-02-07 15:38:03+00:00</td>\n",
       "    </tr>\n",
       "    <tr>\n",
       "      <th>4</th>\n",
       "      <td>houstontranstar</td>\n",
       "      <td>#HoustonTranStar</td>\n",
       "      <td>More information related to this closure can b...</td>\n",
       "      <td>2020-02-06 16:04:45+00:00</td>\n",
       "    </tr>\n",
       "  </tbody>\n",
       "</table>\n",
       "</div>"
      ],
      "text/plain": [
       "               one             three  \\\n",
       "0  houstontranstar               NaN   \n",
       "1  houstontranstar               NaN   \n",
       "2  houstontranstar               NaN   \n",
       "3  houstontranstar               NaN   \n",
       "4  houstontranstar  #HoustonTranStar   \n",
       "\n",
       "                                                 two  \\\n",
       "0         http://traffic.houstontranstar.org/layers/   \n",
       "1  REMINDER: All mainlanes of I-610 West Loop (NB...   \n",
       "2         http://traffic.houstontranstar.org/layers/   \n",
       "3         http://traffic.houstontranstar.org/layers/   \n",
       "4  More information related to this closure can b...   \n",
       "\n",
       "                        zero  \n",
       "0  2020-02-07 22:17:07+00:00  \n",
       "1  2020-02-07 17:48:31+00:00  \n",
       "2  2020-02-07 15:53:52+00:00  \n",
       "3  2020-02-07 15:38:03+00:00  \n",
       "4  2020-02-06 16:04:45+00:00  "
      ]
     },
     "execution_count": 22,
     "metadata": {},
     "output_type": "execute_result"
    }
   ],
   "source": [
    "# Concatenate\n",
    "dot_train = pd.concat([dot1, dot2], axis=0, ignore_index=True, sort=True)\n",
    "dot_train.head()"
   ]
  },
  {
   "cell_type": "code",
   "execution_count": 23,
   "metadata": {},
   "outputs": [
    {
     "data": {
      "text/html": [
       "<div>\n",
       "<style scoped>\n",
       "    .dataframe tbody tr th:only-of-type {\n",
       "        vertical-align: middle;\n",
       "    }\n",
       "\n",
       "    .dataframe tbody tr th {\n",
       "        vertical-align: top;\n",
       "    }\n",
       "\n",
       "    .dataframe thead th {\n",
       "        text-align: right;\n",
       "    }\n",
       "</style>\n",
       "<table border=\"1\" class=\"dataframe\">\n",
       "  <thead>\n",
       "    <tr style=\"text-align: right;\">\n",
       "      <th></th>\n",
       "      <th>zero</th>\n",
       "      <th>one</th>\n",
       "      <th>two</th>\n",
       "      <th>three</th>\n",
       "    </tr>\n",
       "  </thead>\n",
       "  <tbody>\n",
       "    <tr>\n",
       "      <th>0</th>\n",
       "      <td>2020-02-07 22:17:07+00:00</td>\n",
       "      <td>houstontranstar</td>\n",
       "      <td>http://traffic.houstontranstar.org/layers/</td>\n",
       "      <td>NaN</td>\n",
       "    </tr>\n",
       "    <tr>\n",
       "      <th>1</th>\n",
       "      <td>2020-02-07 17:48:31+00:00</td>\n",
       "      <td>houstontranstar</td>\n",
       "      <td>REMINDER: All mainlanes of I-610 West Loop (NB...</td>\n",
       "      <td>NaN</td>\n",
       "    </tr>\n",
       "    <tr>\n",
       "      <th>2</th>\n",
       "      <td>2020-02-07 15:53:52+00:00</td>\n",
       "      <td>houstontranstar</td>\n",
       "      <td>http://traffic.houstontranstar.org/layers/</td>\n",
       "      <td>NaN</td>\n",
       "    </tr>\n",
       "    <tr>\n",
       "      <th>3</th>\n",
       "      <td>2020-02-07 15:38:03+00:00</td>\n",
       "      <td>houstontranstar</td>\n",
       "      <td>http://traffic.houstontranstar.org/layers/</td>\n",
       "      <td>NaN</td>\n",
       "    </tr>\n",
       "    <tr>\n",
       "      <th>4</th>\n",
       "      <td>2020-02-06 16:04:45+00:00</td>\n",
       "      <td>houstontranstar</td>\n",
       "      <td>More information related to this closure can b...</td>\n",
       "      <td>#HoustonTranStar</td>\n",
       "    </tr>\n",
       "  </tbody>\n",
       "</table>\n",
       "</div>"
      ],
      "text/plain": [
       "                        zero              one  \\\n",
       "0  2020-02-07 22:17:07+00:00  houstontranstar   \n",
       "1  2020-02-07 17:48:31+00:00  houstontranstar   \n",
       "2  2020-02-07 15:53:52+00:00  houstontranstar   \n",
       "3  2020-02-07 15:38:03+00:00  houstontranstar   \n",
       "4  2020-02-06 16:04:45+00:00  houstontranstar   \n",
       "\n",
       "                                                 two             three  \n",
       "0         http://traffic.houstontranstar.org/layers/               NaN  \n",
       "1  REMINDER: All mainlanes of I-610 West Loop (NB...               NaN  \n",
       "2         http://traffic.houstontranstar.org/layers/               NaN  \n",
       "3         http://traffic.houstontranstar.org/layers/               NaN  \n",
       "4  More information related to this closure can b...  #HoustonTranStar  "
      ]
     },
     "execution_count": 23,
     "metadata": {},
     "output_type": "execute_result"
    }
   ],
   "source": [
    "# Reorder columns\n",
    "dot_train = dot_train[['zero', 'one', 'two', 'three']]\n",
    "dot_train.head()"
   ]
  },
  {
   "cell_type": "code",
   "execution_count": 24,
   "metadata": {},
   "outputs": [
    {
     "data": {
      "text/plain": [
       "Index(['0', '1', '2', '3'], dtype='object')"
      ]
     },
     "execution_count": 24,
     "metadata": {},
     "output_type": "execute_result"
    }
   ],
   "source": [
    "pd_train.columns"
   ]
  },
  {
   "cell_type": "code",
   "execution_count": 25,
   "metadata": {},
   "outputs": [
    {
     "data": {
      "text/html": [
       "<div>\n",
       "<style scoped>\n",
       "    .dataframe tbody tr th:only-of-type {\n",
       "        vertical-align: middle;\n",
       "    }\n",
       "\n",
       "    .dataframe tbody tr th {\n",
       "        vertical-align: top;\n",
       "    }\n",
       "\n",
       "    .dataframe thead th {\n",
       "        text-align: right;\n",
       "    }\n",
       "</style>\n",
       "<table border=\"1\" class=\"dataframe\">\n",
       "  <thead>\n",
       "    <tr style=\"text-align: right;\">\n",
       "      <th></th>\n",
       "      <th>0</th>\n",
       "      <th>1</th>\n",
       "      <th>2</th>\n",
       "      <th>3</th>\n",
       "    </tr>\n",
       "  </thead>\n",
       "  <tbody>\n",
       "    <tr>\n",
       "      <th>0</th>\n",
       "      <td>2020-02-07 22:17:07+00:00</td>\n",
       "      <td>houstontranstar</td>\n",
       "      <td>http://traffic.houstontranstar.org/layers/</td>\n",
       "      <td>NaN</td>\n",
       "    </tr>\n",
       "    <tr>\n",
       "      <th>1</th>\n",
       "      <td>2020-02-07 17:48:31+00:00</td>\n",
       "      <td>houstontranstar</td>\n",
       "      <td>REMINDER: All mainlanes of I-610 West Loop (NB...</td>\n",
       "      <td>NaN</td>\n",
       "    </tr>\n",
       "    <tr>\n",
       "      <th>2</th>\n",
       "      <td>2020-02-07 15:53:52+00:00</td>\n",
       "      <td>houstontranstar</td>\n",
       "      <td>http://traffic.houstontranstar.org/layers/</td>\n",
       "      <td>NaN</td>\n",
       "    </tr>\n",
       "    <tr>\n",
       "      <th>3</th>\n",
       "      <td>2020-02-07 15:38:03+00:00</td>\n",
       "      <td>houstontranstar</td>\n",
       "      <td>http://traffic.houstontranstar.org/layers/</td>\n",
       "      <td>NaN</td>\n",
       "    </tr>\n",
       "    <tr>\n",
       "      <th>4</th>\n",
       "      <td>2020-02-06 16:04:45+00:00</td>\n",
       "      <td>houstontranstar</td>\n",
       "      <td>More information related to this closure can b...</td>\n",
       "      <td>#HoustonTranStar</td>\n",
       "    </tr>\n",
       "  </tbody>\n",
       "</table>\n",
       "</div>"
      ],
      "text/plain": [
       "                           0                1  \\\n",
       "0  2020-02-07 22:17:07+00:00  houstontranstar   \n",
       "1  2020-02-07 17:48:31+00:00  houstontranstar   \n",
       "2  2020-02-07 15:53:52+00:00  houstontranstar   \n",
       "3  2020-02-07 15:38:03+00:00  houstontranstar   \n",
       "4  2020-02-06 16:04:45+00:00  houstontranstar   \n",
       "\n",
       "                                                   2                 3  \n",
       "0         http://traffic.houstontranstar.org/layers/               NaN  \n",
       "1  REMINDER: All mainlanes of I-610 West Loop (NB...               NaN  \n",
       "2         http://traffic.houstontranstar.org/layers/               NaN  \n",
       "3         http://traffic.houstontranstar.org/layers/               NaN  \n",
       "4  More information related to this closure can b...  #HoustonTranStar  "
      ]
     },
     "execution_count": 25,
     "metadata": {},
     "output_type": "execute_result"
    }
   ],
   "source": [
    "# Rename columns to match pd_train\n",
    "dot_train.rename(columns={'zero': '0', 'one': '1', 'two': '2', 'three': '3'}, inplace=True)\n",
    "dot_train.head()"
   ]
  },
  {
   "cell_type": "markdown",
   "metadata": {},
   "source": [
    "### Concatenate DataFrames"
   ]
  },
  {
   "cell_type": "code",
   "execution_count": 26,
   "metadata": {
    "scrolled": true
   },
   "outputs": [
    {
     "data": {
      "text/html": [
       "<div>\n",
       "<style scoped>\n",
       "    .dataframe tbody tr th:only-of-type {\n",
       "        vertical-align: middle;\n",
       "    }\n",
       "\n",
       "    .dataframe tbody tr th {\n",
       "        vertical-align: top;\n",
       "    }\n",
       "\n",
       "    .dataframe thead th {\n",
       "        text-align: right;\n",
       "    }\n",
       "</style>\n",
       "<table border=\"1\" class=\"dataframe\">\n",
       "  <thead>\n",
       "    <tr style=\"text-align: right;\">\n",
       "      <th></th>\n",
       "      <th>0</th>\n",
       "      <th>1</th>\n",
       "      <th>2</th>\n",
       "      <th>3</th>\n",
       "    </tr>\n",
       "  </thead>\n",
       "  <tbody>\n",
       "    <tr>\n",
       "      <th>0</th>\n",
       "      <td>2016-10-30 20:51:45+00:00</td>\n",
       "      <td>DentonPolice</td>\n",
       "      <td>Investigating mismatch of name / photo. Until ...</td>\n",
       "      <td>NaN</td>\n",
       "    </tr>\n",
       "    <tr>\n",
       "      <th>1</th>\n",
       "      <td>2016-10-30 16:59:03+00:00</td>\n",
       "      <td>DentonPolice</td>\n",
       "      <td>10/30/2016 08:44:23 Regina, 39 yrs old Bond: $...</td>\n",
       "      <td>NaN</td>\n",
       "    </tr>\n",
       "    <tr>\n",
       "      <th>2</th>\n",
       "      <td>2016-10-30 13:52:19+00:00</td>\n",
       "      <td>DentonPolice</td>\n",
       "      <td>10/29/2016 17:03:18 Steven, 26 yrs old Bond: $...</td>\n",
       "      <td>NaN</td>\n",
       "    </tr>\n",
       "    <tr>\n",
       "      <th>3</th>\n",
       "      <td>2016-10-26 21:45:57+00:00</td>\n",
       "      <td>DentonPolice</td>\n",
       "      <td>10/25/2016 22:59:57 Monique, 39 yrs old Bond: ...</td>\n",
       "      <td>NaN</td>\n",
       "    </tr>\n",
       "    <tr>\n",
       "      <th>4</th>\n",
       "      <td>2016-10-26 21:09:45+00:00</td>\n",
       "      <td>DentonPolice</td>\n",
       "      <td>10/25/2016 21:37:00 Katelyn, 24 yrs old Bond: ...</td>\n",
       "      <td>NaN</td>\n",
       "    </tr>\n",
       "  </tbody>\n",
       "</table>\n",
       "</div>"
      ],
      "text/plain": [
       "                           0             1  \\\n",
       "0  2016-10-30 20:51:45+00:00  DentonPolice   \n",
       "1  2016-10-30 16:59:03+00:00  DentonPolice   \n",
       "2  2016-10-30 13:52:19+00:00  DentonPolice   \n",
       "3  2016-10-26 21:45:57+00:00  DentonPolice   \n",
       "4  2016-10-26 21:09:45+00:00  DentonPolice   \n",
       "\n",
       "                                                   2    3  \n",
       "0  Investigating mismatch of name / photo. Until ...  NaN  \n",
       "1  10/30/2016 08:44:23 Regina, 39 yrs old Bond: $...  NaN  \n",
       "2  10/29/2016 17:03:18 Steven, 26 yrs old Bond: $...  NaN  \n",
       "3  10/25/2016 22:59:57 Monique, 39 yrs old Bond: ...  NaN  \n",
       "4  10/25/2016 21:37:00 Katelyn, 24 yrs old Bond: ...  NaN  "
      ]
     },
     "execution_count": 26,
     "metadata": {},
     "output_type": "execute_result"
    }
   ],
   "source": [
    "# Concatenate dataframes\n",
    "train_data = pd.concat([pd_train, dot_train], axis=0, ignore_index=True, sort=True)\n",
    "train_data.head()"
   ]
  },
  {
   "cell_type": "markdown",
   "metadata": {},
   "source": [
    "## Export Data: Train"
   ]
  },
  {
   "cell_type": "code",
   "execution_count": 27,
   "metadata": {},
   "outputs": [],
   "source": [
    "train_data.to_csv('./data/train_data/combined_train_data.csv')"
   ]
  },
  {
   "cell_type": "code",
   "execution_count": null,
   "metadata": {},
   "outputs": [],
   "source": []
  }
 ],
 "metadata": {
  "kernelspec": {
   "display_name": "Python 3",
   "language": "python",
   "name": "python3"
  },
  "language_info": {
   "codemirror_mode": {
    "name": "ipython",
    "version": 3
   },
   "file_extension": ".py",
   "mimetype": "text/x-python",
   "name": "python",
   "nbconvert_exporter": "python",
   "pygments_lexer": "ipython3",
   "version": "3.7.5"
  }
 },
 "nbformat": 4,
 "nbformat_minor": 2
}
