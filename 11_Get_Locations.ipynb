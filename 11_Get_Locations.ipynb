{
 "cells": [
  {
   "cell_type": "markdown",
   "metadata": {},
   "source": [
    "# Project 5: Optimizing Evacuation Routes using Real-Time Traffic Information"
   ]
  },
  {
   "cell_type": "markdown",
   "metadata": {},
   "source": [
    "Michael Daugherty, Kelly Slatery, Song May | US-DSI-10 | 02.21.2020"
   ]
  },
  {
   "cell_type": "markdown",
   "metadata": {},
   "source": [
    "## Get Coordinates"
   ]
  },
  {
   "cell_type": "code",
   "execution_count": 1,
   "metadata": {},
   "outputs": [],
   "source": [
    "# Imports\n",
    "import pandas as pd\n",
    "import numpy as np\n",
    "import re\n",
    "import spacy"
   ]
  },
  {
   "cell_type": "code",
   "execution_count": 2,
   "metadata": {},
   "outputs": [],
   "source": [
    "# Set view options\n",
    "pd.set_option('display.max_rows', None)\n",
    "pd.set_option('display.max_columns', None)\n",
    "pd.set_option('display.width', None)\n",
    "pd.set_option('display.max_colwidth', -1)"
   ]
  },
  {
   "cell_type": "markdown",
   "metadata": {},
   "source": [
    "# Import Data"
   ]
  },
  {
   "cell_type": "code",
   "execution_count": 3,
   "metadata": {},
   "outputs": [
    {
     "data": {
      "text/plain": [
       "(3087, 4)"
      ]
     },
     "execution_count": 3,
     "metadata": {},
     "output_type": "execute_result"
    }
   ],
   "source": [
    "full_df = pd.read_csv('./data/final_data_with_predictions.csv')\n",
    "full_df.shape"
   ]
  },
  {
   "cell_type": "code",
   "execution_count": 4,
   "metadata": {},
   "outputs": [
    {
     "data": {
      "text/html": [
       "<div>\n",
       "<style scoped>\n",
       "    .dataframe tbody tr th:only-of-type {\n",
       "        vertical-align: middle;\n",
       "    }\n",
       "\n",
       "    .dataframe tbody tr th {\n",
       "        vertical-align: top;\n",
       "    }\n",
       "\n",
       "    .dataframe thead th {\n",
       "        text-align: right;\n",
       "    }\n",
       "</style>\n",
       "<table border=\"1\" class=\"dataframe\">\n",
       "  <thead>\n",
       "    <tr style=\"text-align: right;\">\n",
       "      <th></th>\n",
       "      <th>dates&amp;time</th>\n",
       "      <th>user</th>\n",
       "      <th>tweet</th>\n",
       "      <th>class</th>\n",
       "    </tr>\n",
       "  </thead>\n",
       "  <tbody>\n",
       "    <tr>\n",
       "      <th>0</th>\n",
       "      <td>2017-08-31 21:34:27+00:00</td>\n",
       "      <td>DallasPD</td>\n",
       "      <td>Reminder: Texas State Law prohibiting texting and driving goes into effect September 1, 2017</td>\n",
       "      <td>0</td>\n",
       "    </tr>\n",
       "    <tr>\n",
       "      <th>1</th>\n",
       "      <td>2017-08-31 21:03:18+00:00</td>\n",
       "      <td>DallasPD</td>\n",
       "      <td>Brotherhood for the Fallen Charity Event</td>\n",
       "      <td>0</td>\n",
       "    </tr>\n",
       "    <tr>\n",
       "      <th>2</th>\n",
       "      <td>2017-08-31 17:16:43+00:00</td>\n",
       "      <td>DallasPD</td>\n",
       "      <td>FREE #TRINITY EVENT - Artisan Fair Market - September 2, 2017 #LaborDayWeekend</td>\n",
       "      <td>0</td>\n",
       "    </tr>\n",
       "    <tr>\n",
       "      <th>3</th>\n",
       "      <td>2017-08-31 17:13:36+00:00</td>\n",
       "      <td>DallasPD</td>\n",
       "      <td>Our thoughts and prayers are with the Sacramento County Sheriff's Department and the family of Deputy Sheriff Robert French.</td>\n",
       "      <td>0</td>\n",
       "    </tr>\n",
       "    <tr>\n",
       "      <th>4</th>\n",
       "      <td>2017-08-31 17:10:47+00:00</td>\n",
       "      <td>DallasPD</td>\n",
       "      <td>How can Dallas residents help animals affected by #HurricaneHarvey? http://fb.me/90nmndc7A</td>\n",
       "      <td>0</td>\n",
       "    </tr>\n",
       "  </tbody>\n",
       "</table>\n",
       "</div>"
      ],
      "text/plain": [
       "                  dates&time      user  \\\n",
       "0  2017-08-31 21:34:27+00:00  DallasPD   \n",
       "1  2017-08-31 21:03:18+00:00  DallasPD   \n",
       "2  2017-08-31 17:16:43+00:00  DallasPD   \n",
       "3  2017-08-31 17:13:36+00:00  DallasPD   \n",
       "4  2017-08-31 17:10:47+00:00  DallasPD   \n",
       "\n",
       "                                                                                                                          tweet  \\\n",
       "0  Reminder: Texas State Law prohibiting texting and driving goes into effect September 1, 2017                                   \n",
       "1  Brotherhood for the Fallen Charity Event                                                                                       \n",
       "2  FREE #TRINITY EVENT - Artisan Fair Market - September 2, 2017 #LaborDayWeekend                                                 \n",
       "3  Our thoughts and prayers are with the Sacramento County Sheriff's Department and the family of Deputy Sheriff Robert French.   \n",
       "4  How can Dallas residents help animals affected by #HurricaneHarvey? http://fb.me/90nmndc7A                                     \n",
       "\n",
       "   class  \n",
       "0  0      \n",
       "1  0      \n",
       "2  0      \n",
       "3  0      \n",
       "4  0      "
      ]
     },
     "execution_count": 4,
     "metadata": {},
     "output_type": "execute_result"
    }
   ],
   "source": [
    "full_df.head()"
   ]
  },
  {
   "cell_type": "markdown",
   "metadata": {},
   "source": [
    "# Filter Data for Useful Tweets"
   ]
  },
  {
   "cell_type": "code",
   "execution_count": 5,
   "metadata": {},
   "outputs": [
    {
     "data": {
      "text/plain": [
       "(103, 4)"
      ]
     },
     "execution_count": 5,
     "metadata": {},
     "output_type": "execute_result"
    }
   ],
   "source": [
    "# Filter df for useful tweets\n",
    "df = full_df[full_df['class'] == 1]\n",
    "df.shape"
   ]
  },
  {
   "cell_type": "code",
   "execution_count": 6,
   "metadata": {
    "scrolled": true
   },
   "outputs": [
    {
     "data": {
      "text/html": [
       "<div>\n",
       "<style scoped>\n",
       "    .dataframe tbody tr th:only-of-type {\n",
       "        vertical-align: middle;\n",
       "    }\n",
       "\n",
       "    .dataframe tbody tr th {\n",
       "        vertical-align: top;\n",
       "    }\n",
       "\n",
       "    .dataframe thead th {\n",
       "        text-align: right;\n",
       "    }\n",
       "</style>\n",
       "<table border=\"1\" class=\"dataframe\">\n",
       "  <thead>\n",
       "    <tr style=\"text-align: right;\">\n",
       "      <th></th>\n",
       "      <th>dates&amp;time</th>\n",
       "      <th>user</th>\n",
       "      <th>tweet</th>\n",
       "      <th>class</th>\n",
       "    </tr>\n",
       "  </thead>\n",
       "  <tbody>\n",
       "    <tr>\n",
       "      <th>239</th>\n",
       "      <td>2017-09-01 04:36:40+00:00</td>\n",
       "      <td>EPPOLICE</td>\n",
       "      <td>I-10 East at Airway, scheduled road work, all lanes closed, follow detour, clearing time 5 am.</td>\n",
       "      <td>1</td>\n",
       "    </tr>\n",
       "    <tr>\n",
       "      <th>240</th>\n",
       "      <td>2017-09-01 04:09:53+00:00</td>\n",
       "      <td>EPPOLICE</td>\n",
       "      <td>I-10 East at Mesa, schedule road work, all lanes closed, follow detour, clearing time 6 am.</td>\n",
       "      <td>1</td>\n",
       "    </tr>\n",
       "    <tr>\n",
       "      <th>242</th>\n",
       "      <td>2017-09-01 00:39:43+00:00</td>\n",
       "      <td>EPPOLICE</td>\n",
       "      <td>I-10 East @US-54, Collision, Right Lane Closed, Backup To Porfirio Diaz, Clearing Time 1 Hour.</td>\n",
       "      <td>1</td>\n",
       "    </tr>\n",
       "    <tr>\n",
       "      <th>247</th>\n",
       "      <td>2017-08-31 23:10:23+00:00</td>\n",
       "      <td>EPPOLICE</td>\n",
       "      <td>I-10 East @Schuster, Collision, Right Shoulder Closed, Backup To Executive, Clearing Time 1 Hour.</td>\n",
       "      <td>1</td>\n",
       "    </tr>\n",
       "    <tr>\n",
       "      <th>248</th>\n",
       "      <td>2017-08-31 22:51:34+00:00</td>\n",
       "      <td>EPPOLICE</td>\n",
       "      <td>I-10 West @Trowbridge, Collision, Right Lane Closed, Backup To Hawkins, Clearing Time 1 Hour.</td>\n",
       "      <td>1</td>\n",
       "    </tr>\n",
       "  </tbody>\n",
       "</table>\n",
       "</div>"
      ],
      "text/plain": [
       "                    dates&time      user  \\\n",
       "239  2017-09-01 04:36:40+00:00  EPPOLICE   \n",
       "240  2017-09-01 04:09:53+00:00  EPPOLICE   \n",
       "242  2017-09-01 00:39:43+00:00  EPPOLICE   \n",
       "247  2017-08-31 23:10:23+00:00  EPPOLICE   \n",
       "248  2017-08-31 22:51:34+00:00  EPPOLICE   \n",
       "\n",
       "                                                                                                 tweet  \\\n",
       "239  I-10 East at Airway, scheduled road work, all lanes closed, follow detour, clearing time 5 am.      \n",
       "240  I-10 East at Mesa, schedule road work, all lanes closed, follow detour, clearing time 6 am.         \n",
       "242  I-10 East @US-54, Collision, Right Lane Closed, Backup To Porfirio Diaz, Clearing Time 1 Hour.      \n",
       "247  I-10 East @Schuster, Collision, Right Shoulder Closed, Backup To Executive, Clearing Time 1 Hour.   \n",
       "248  I-10 West @Trowbridge, Collision, Right Lane Closed, Backup To Hawkins, Clearing Time 1 Hour.       \n",
       "\n",
       "     class  \n",
       "239  1      \n",
       "240  1      \n",
       "242  1      \n",
       "247  1      \n",
       "248  1      "
      ]
     },
     "execution_count": 6,
     "metadata": {},
     "output_type": "execute_result"
    }
   ],
   "source": [
    "df.head()"
   ]
  },
  {
   "cell_type": "code",
   "execution_count": 7,
   "metadata": {},
   "outputs": [
    {
     "data": {
      "text/html": [
       "<div>\n",
       "<style scoped>\n",
       "    .dataframe tbody tr th:only-of-type {\n",
       "        vertical-align: middle;\n",
       "    }\n",
       "\n",
       "    .dataframe tbody tr th {\n",
       "        vertical-align: top;\n",
       "    }\n",
       "\n",
       "    .dataframe thead th {\n",
       "        text-align: right;\n",
       "    }\n",
       "</style>\n",
       "<table border=\"1\" class=\"dataframe\">\n",
       "  <thead>\n",
       "    <tr style=\"text-align: right;\">\n",
       "      <th></th>\n",
       "      <th>dates&amp;time</th>\n",
       "      <th>user</th>\n",
       "      <th>tweet</th>\n",
       "      <th>class</th>\n",
       "    </tr>\n",
       "  </thead>\n",
       "  <tbody>\n",
       "    <tr>\n",
       "      <th>2914</th>\n",
       "      <td>2017-08-25 13:00:53+00:00</td>\n",
       "      <td>I35travel</td>\n",
       "      <td>Waxahachie | US 287 Business WB@I-35 E | Various lanes closed today 9AM to 3PM http://i35-maps.tti.tamu.edu/?id=6342 #My35</td>\n",
       "      <td>1</td>\n",
       "    </tr>\n",
       "    <tr>\n",
       "      <th>2948</th>\n",
       "      <td>2017-08-31 18:31:58+00:00</td>\n",
       "      <td>TxDOTLufkin</td>\n",
       "      <td>ALERT: SL 287 East remains closed in Lufkin. Alternate routes are: SL 287 West, BU 59. From Nacogdoches, SH7 W to US 69 S to SL 287 West.</td>\n",
       "      <td>1</td>\n",
       "    </tr>\n",
       "    <tr>\n",
       "      <th>3040</th>\n",
       "      <td>2017-08-30 02:10:33+00:00</td>\n",
       "      <td>my290Houston</td>\n",
       "      <td>US 290 EB closed from Fry to Barker Cypress is closed. Only high clearance emergency vehicles can get through.</td>\n",
       "      <td>1</td>\n",
       "    </tr>\n",
       "    <tr>\n",
       "      <th>3053</th>\n",
       "      <td>2017-08-29 15:48:59+00:00</td>\n",
       "      <td>my290Houston</td>\n",
       "      <td>No, if you do not need to travel, please stay put. US 290 EB is closed at Fry. Visit http://drivetexas.org to see updates.</td>\n",
       "      <td>1</td>\n",
       "    </tr>\n",
       "    <tr>\n",
       "      <th>3069</th>\n",
       "      <td>2017-08-28 13:59:02+00:00</td>\n",
       "      <td>my290Houston</td>\n",
       "      <td>US 290 mainlanes &amp; frontage are closed in both directions from Barker Cypress to Fry Road due to high water.</td>\n",
       "      <td>1</td>\n",
       "    </tr>\n",
       "  </tbody>\n",
       "</table>\n",
       "</div>"
      ],
      "text/plain": [
       "                     dates&time          user  \\\n",
       "2914  2017-08-25 13:00:53+00:00  I35travel      \n",
       "2948  2017-08-31 18:31:58+00:00  TxDOTLufkin    \n",
       "3040  2017-08-30 02:10:33+00:00  my290Houston   \n",
       "3053  2017-08-29 15:48:59+00:00  my290Houston   \n",
       "3069  2017-08-28 13:59:02+00:00  my290Houston   \n",
       "\n",
       "                                                                                                                                          tweet  \\\n",
       "2914  Waxahachie | US 287 Business WB@I-35 E | Various lanes closed today 9AM to 3PM http://i35-maps.tti.tamu.edu/?id=6342 #My35                  \n",
       "2948  ALERT: SL 287 East remains closed in Lufkin. Alternate routes are: SL 287 West, BU 59. From Nacogdoches, SH7 W to US 69 S to SL 287 West.   \n",
       "3040  US 290 EB closed from Fry to Barker Cypress is closed. Only high clearance emergency vehicles can get through.                              \n",
       "3053  No, if you do not need to travel, please stay put. US 290 EB is closed at Fry. Visit http://drivetexas.org to see updates.                  \n",
       "3069  US 290 mainlanes & frontage are closed in both directions from Barker Cypress to Fry Road due to high water.                                \n",
       "\n",
       "      class  \n",
       "2914  1      \n",
       "2948  1      \n",
       "3040  1      \n",
       "3053  1      \n",
       "3069  1      "
      ]
     },
     "execution_count": 7,
     "metadata": {},
     "output_type": "execute_result"
    }
   ],
   "source": [
    "df.tail()"
   ]
  },
  {
   "cell_type": "markdown",
   "metadata": {},
   "source": [
    "# Create Location List"
   ]
  },
  {
   "cell_type": "code",
   "execution_count": 8,
   "metadata": {
    "scrolled": false
   },
   "outputs": [
    {
     "data": {
      "text/plain": [
       "['I-10 East at Airway, scheduled road work, all lanes closed, follow detour, clearing time 5 am.',\n",
       " 'I-10 East at Mesa, schedule road work, all lanes closed, follow detour, clearing time 6 am.',\n",
       " 'I-10 East  at US-54, Collision, Right Lane Closed, Backup To Porfirio Diaz, Clearing Time 1 Hour.',\n",
       " 'I-10 East  at Schuster, Collision, Right Shoulder Closed, Backup To Executive, Clearing Time 1 Hour.']"
      ]
     },
     "execution_count": 8,
     "metadata": {},
     "output_type": "execute_result"
    }
   ],
   "source": [
    "# Clean tweets: Map common abbreviations to full-length word\n",
    "abbrevs = {\n",
    "    'SB': 'southbound',\n",
    "    'NB': 'northbound', \n",
    "    'EB': 'eastbound', \n",
    "    'WB': 'westbound', \n",
    "    'St': 'Street', \n",
    "    'Rd': 'Road', \n",
    "    'E.': 'east',\n",
    "    'S.': 'south',\n",
    "    'W.': 'west',\n",
    "    'N.': 'north',\n",
    "    'Blvd': 'boulevard',\n",
    "    'Pkwy': 'parkway',\n",
    "    'Hwy': 'highway',\n",
    "    '@': ' at '  \n",
    "}\n",
    "\n",
    "# Map \n",
    "clean_tweets = []\n",
    "for tweet in df['tweet']:\n",
    "    for abbrev, word in abbrevs.items():\n",
    "        tweet = tweet.replace(abbrev, word)\n",
    "    tweet = re.sub(r'\\b(http|https):\\/\\/.*[^ alt]\\b', '', tweet)\n",
    "    clean_tweets.append(tweet)\n",
    "    \n",
    "clean_tweets[:4]\n"
   ]
  },
  {
   "cell_type": "code",
   "execution_count": 10,
   "metadata": {},
   "outputs": [
    {
     "name": "stdout",
     "output_type": "stream",
     "text": [
      "43\n"
     ]
    },
    {
     "data": {
      "text/plain": [
       "['I-10 East at Airway',\n",
       " 'I-10 East at Mesa',\n",
       " 'I-10 East at Asarco',\n",
       " 'I-10 West at Lomaland',\n",
       " 'I-10 East at Sunland',\n",
       " 'I-10 East at Sunland',\n",
       " 'I-10 West at US',\n",
       " 'I-10 West at Hawkins',\n",
       " 'I-10 West at Sunland',\n",
       " 'I-10 East at Mesa']"
      ]
     },
     "execution_count": 10,
     "metadata": {},
     "output_type": "execute_result"
    }
   ],
   "source": [
    "# Regex to get good locations from filtered locations above\n",
    "locations = []\n",
    "\n",
    "for ad in clean_tweets:\n",
    "    match_1 = re.search(\"I\\-[0-9]+\\s[0-9a-zA-Z]+\\s[0-9a-zA-Z]+\\s[0-9a-zA-Z]+\", ad)\n",
    "    match_2 = re.search(\"[0-9a-zA-Z]+\\sand+\\s[0-9a-zA-Z]+\\s[0-9a-zA-Z]+\", ad)\n",
    "    match_3 = re.search(\"I[0-9]+\\s[0-9a-zA-Z]+\\s[0-9a-zA-Z]+\\s[0-9a-zA-Z]+\", ad)\n",
    "    match_4 = re.search(\"[a-zA-Z]+\\sat+\\s[0-9a-zA-Z]+\\s[0-9a-zA-Z]+\", ad)\n",
    "    match_5 = re.search(\"I\\-[0-9]+[0-9a-zA-Z]+\\s@+[0-9a-zA-Z]+\\s[0-9a-zA-Z]+\", ad)\n",
    "    \n",
    "    if match_1: locations.append(match_1.group())\n",
    "    elif match_2: locations.append(match_2.group())\n",
    "    elif match_3: locations.append(match_3.group())\n",
    "    elif match_4: locations.append(match_4.group())\n",
    "    elif match_5: locations.append(match_5.group())\n",
    "        \n",
    "print(len(locations))\n",
    "locations[:10]"
   ]
  },
  {
   "cell_type": "code",
   "execution_count": 15,
   "metadata": {},
   "outputs": [
    {
     "data": {
      "text/plain": [
       "['I-10 East at Airway, Texas',\n",
       " 'I-10 East at Mesa, Texas',\n",
       " 'I-10 East at Asarco, Texas',\n",
       " 'I-10 West at Lomaland, Texas',\n",
       " 'I-10 East at Sunland, Texas',\n",
       " 'I-10 East at Sunland, Texas',\n",
       " 'I-10 West at US, Texas',\n",
       " 'I-10 West at Hawkins, Texas',\n",
       " 'I-10 West at Sunland, Texas',\n",
       " 'I-10 East at Mesa, Texas',\n",
       " 'South at Spur 601, Texas',\n",
       " 'I-10 West at Harnose, Texas',\n",
       " 'I-10 West at Sunland, Texas',\n",
       " 'I-10 East at Mesa, Texas',\n",
       " 'custody at 1750 Lee, Texas',\n",
       " 'I-10 West at Executive, Texas',\n",
       " 'I-10 East at Mesa, Texas',\n",
       " 'I-10 West at Porfirio, Texas',\n",
       " 'I-10 East at Americas, Texas',\n",
       " 'closed at Lakeshore boulevard, Texas',\n",
       " 'crossing at 5003 Wasson, Texas',\n",
       " 'I10 westbound from Neches, Texas',\n",
       " 'Beaumont and Winnie is, Texas',\n",
       " 'Beaumont and Winnie is, Texas',\n",
       " 'closed and the water, Texas',\n",
       " 'north and west on, Texas',\n",
       " 'water at the foot, Texas',\n",
       " 'Beaumont and Winnie now, Texas',\n",
       " 'I10 westbound near SH146, Texas',\n",
       " 'Magnolia at Twin City, Texas',\n",
       " 'closed at Beason Creek, Texas',\n",
       " '1069 and FM 136, Texas',\n",
       " 'closed at SH 239, Texas',\n",
       " 'northbound at the San, Texas',\n",
       " 'bridge and overturned heavy, Texas',\n",
       " 'I-820 to Basswood boulevard, Texas',\n",
       " 'I-35 northbound Exit Ramp, Texas',\n",
       " 'I-35 northbound FR at, Texas',\n",
       " 'I-35 northbound FR at, Texas',\n",
       " 'I-35 northbound Exit Ramp, Texas',\n",
       " 'I-35 northbound FR at, Texas',\n",
       " 'I-35 southbound FR at, Texas',\n",
       " 'I-820 to Basswood boulevard, Texas']"
      ]
     },
     "execution_count": 15,
     "metadata": {},
     "output_type": "execute_result"
    }
   ],
   "source": [
    "# Add ', Texas' to each location\n",
    "texas_locations = []\n",
    "for loc in locations:\n",
    "    loc += ', Texas'\n",
    "    texas_locations.append(loc)\n",
    "texas_locations"
   ]
  },
  {
   "cell_type": "markdown",
   "metadata": {},
   "source": [
    "# Create and Export Locations"
   ]
  },
  {
   "cell_type": "code",
   "execution_count": 16,
   "metadata": {},
   "outputs": [
    {
     "data": {
      "text/plain": [
       "(43, 1)"
      ]
     },
     "execution_count": 16,
     "metadata": {},
     "output_type": "execute_result"
    }
   ],
   "source": [
    "# Create a dataframe of the locations\n",
    "locations_df = pd.DataFrame(texas_locations, columns=['location'])\n",
    "locations_df.shape"
   ]
  },
  {
   "cell_type": "code",
   "execution_count": 17,
   "metadata": {},
   "outputs": [
    {
     "data": {
      "text/html": [
       "<div>\n",
       "<style scoped>\n",
       "    .dataframe tbody tr th:only-of-type {\n",
       "        vertical-align: middle;\n",
       "    }\n",
       "\n",
       "    .dataframe tbody tr th {\n",
       "        vertical-align: top;\n",
       "    }\n",
       "\n",
       "    .dataframe thead th {\n",
       "        text-align: right;\n",
       "    }\n",
       "</style>\n",
       "<table border=\"1\" class=\"dataframe\">\n",
       "  <thead>\n",
       "    <tr style=\"text-align: right;\">\n",
       "      <th></th>\n",
       "      <th>location</th>\n",
       "    </tr>\n",
       "  </thead>\n",
       "  <tbody>\n",
       "    <tr>\n",
       "      <th>0</th>\n",
       "      <td>I-10 East at Airway, Texas</td>\n",
       "    </tr>\n",
       "    <tr>\n",
       "      <th>1</th>\n",
       "      <td>I-10 East at Mesa, Texas</td>\n",
       "    </tr>\n",
       "    <tr>\n",
       "      <th>2</th>\n",
       "      <td>I-10 East at Asarco, Texas</td>\n",
       "    </tr>\n",
       "    <tr>\n",
       "      <th>3</th>\n",
       "      <td>I-10 West at Lomaland, Texas</td>\n",
       "    </tr>\n",
       "    <tr>\n",
       "      <th>4</th>\n",
       "      <td>I-10 East at Sunland, Texas</td>\n",
       "    </tr>\n",
       "  </tbody>\n",
       "</table>\n",
       "</div>"
      ],
      "text/plain": [
       "                       location\n",
       "0  I-10 East at Airway, Texas  \n",
       "1  I-10 East at Mesa, Texas    \n",
       "2  I-10 East at Asarco, Texas  \n",
       "3  I-10 West at Lomaland, Texas\n",
       "4  I-10 East at Sunland, Texas "
      ]
     },
     "execution_count": 17,
     "metadata": {},
     "output_type": "execute_result"
    }
   ],
   "source": [
    "locations_df.head()"
   ]
  },
  {
   "cell_type": "code",
   "execution_count": 18,
   "metadata": {},
   "outputs": [],
   "source": [
    "# Export locations\n",
    "locations_df.to_csv('./data/locations.csv', index=False)"
   ]
  },
  {
   "cell_type": "code",
   "execution_count": null,
   "metadata": {},
   "outputs": [],
   "source": []
  }
 ],
 "metadata": {
  "kernelspec": {
   "display_name": "Python 3",
   "language": "python",
   "name": "python3"
  },
  "language_info": {
   "codemirror_mode": {
    "name": "ipython",
    "version": 3
   },
   "file_extension": ".py",
   "mimetype": "text/x-python",
   "name": "python",
   "nbconvert_exporter": "python",
   "pygments_lexer": "ipython3",
   "version": "3.7.5"
  }
 },
 "nbformat": 4,
 "nbformat_minor": 2
}
