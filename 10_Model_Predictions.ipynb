{
 "cells": [
  {
   "cell_type": "markdown",
   "metadata": {},
   "source": [
    "# Project 5: Optimizing Evacuation Routes using Real-Time Traffic Information"
   ]
  },
  {
   "cell_type": "markdown",
   "metadata": {},
   "source": [
    "Kelly Slatery | US-DSI-10 | 02.21.2020"
   ]
  },
  {
   "cell_type": "markdown",
   "metadata": {},
   "source": [
    "## Test Data Predictions"
   ]
  },
  {
   "cell_type": "code",
   "execution_count": 1,
   "metadata": {},
   "outputs": [],
   "source": [
    "# Imports\n",
    "import numpy as np\n",
    "import pandas as pd\n",
    "import seaborn as sns\n",
    "import matplotlib.pyplot as plt\n",
    "%matplotlib inline\n",
    "\n",
    "from sklearn.model_selection import cross_val_score\n",
    "from sklearn.metrics import confusion_matrix\n",
    "import pickle"
   ]
  },
  {
   "cell_type": "markdown",
   "metadata": {},
   "source": [
    "## Import Test Data"
   ]
  },
  {
   "cell_type": "code",
   "execution_count": 2,
   "metadata": {},
   "outputs": [
    {
     "data": {
      "text/plain": [
       "(3087, 3)"
      ]
     },
     "execution_count": 2,
     "metadata": {},
     "output_type": "execute_result"
    }
   ],
   "source": [
    "# Import test data file\n",
    "df = pd.read_csv('./data/test_data/final_test_data.csv')\n",
    "df.shape"
   ]
  },
  {
   "cell_type": "code",
   "execution_count": 3,
   "metadata": {},
   "outputs": [
    {
     "data": {
      "text/html": [
       "<div>\n",
       "<style scoped>\n",
       "    .dataframe tbody tr th:only-of-type {\n",
       "        vertical-align: middle;\n",
       "    }\n",
       "\n",
       "    .dataframe tbody tr th {\n",
       "        vertical-align: top;\n",
       "    }\n",
       "\n",
       "    .dataframe thead th {\n",
       "        text-align: right;\n",
       "    }\n",
       "</style>\n",
       "<table border=\"1\" class=\"dataframe\">\n",
       "  <thead>\n",
       "    <tr style=\"text-align: right;\">\n",
       "      <th></th>\n",
       "      <th>dates&amp;time</th>\n",
       "      <th>user</th>\n",
       "      <th>tweet</th>\n",
       "    </tr>\n",
       "  </thead>\n",
       "  <tbody>\n",
       "    <tr>\n",
       "      <th>0</th>\n",
       "      <td>2017-08-31 21:34:27+00:00</td>\n",
       "      <td>DallasPD</td>\n",
       "      <td>Reminder: Texas State Law prohibiting texting ...</td>\n",
       "    </tr>\n",
       "    <tr>\n",
       "      <th>1</th>\n",
       "      <td>2017-08-31 21:03:18+00:00</td>\n",
       "      <td>DallasPD</td>\n",
       "      <td>Brotherhood for the Fallen Charity Event</td>\n",
       "    </tr>\n",
       "    <tr>\n",
       "      <th>2</th>\n",
       "      <td>2017-08-31 17:16:43+00:00</td>\n",
       "      <td>DallasPD</td>\n",
       "      <td>FREE #TRINITY EVENT - Artisan Fair Market - Se...</td>\n",
       "    </tr>\n",
       "    <tr>\n",
       "      <th>3</th>\n",
       "      <td>2017-08-31 17:13:36+00:00</td>\n",
       "      <td>DallasPD</td>\n",
       "      <td>Our thoughts and prayers are with the Sacramen...</td>\n",
       "    </tr>\n",
       "    <tr>\n",
       "      <th>4</th>\n",
       "      <td>2017-08-31 17:10:47+00:00</td>\n",
       "      <td>DallasPD</td>\n",
       "      <td>How can Dallas residents help animals affected...</td>\n",
       "    </tr>\n",
       "  </tbody>\n",
       "</table>\n",
       "</div>"
      ],
      "text/plain": [
       "                  dates&time      user  \\\n",
       "0  2017-08-31 21:34:27+00:00  DallasPD   \n",
       "1  2017-08-31 21:03:18+00:00  DallasPD   \n",
       "2  2017-08-31 17:16:43+00:00  DallasPD   \n",
       "3  2017-08-31 17:13:36+00:00  DallasPD   \n",
       "4  2017-08-31 17:10:47+00:00  DallasPD   \n",
       "\n",
       "                                               tweet  \n",
       "0  Reminder: Texas State Law prohibiting texting ...  \n",
       "1           Brotherhood for the Fallen Charity Event  \n",
       "2  FREE #TRINITY EVENT - Artisan Fair Market - Se...  \n",
       "3  Our thoughts and prayers are with the Sacramen...  \n",
       "4  How can Dallas residents help animals affected...  "
      ]
     },
     "execution_count": 3,
     "metadata": {},
     "output_type": "execute_result"
    }
   ],
   "source": [
    "df.head()"
   ]
  },
  {
   "cell_type": "code",
   "execution_count": 4,
   "metadata": {},
   "outputs": [
    {
     "data": {
      "text/plain": [
       "0    Reminder: Texas State Law prohibiting texting ...\n",
       "1             Brotherhood for the Fallen Charity Event\n",
       "2    FREE #TRINITY EVENT - Artisan Fair Market - Se...\n",
       "3    Our thoughts and prayers are with the Sacramen...\n",
       "4    How can Dallas residents help animals affected...\n",
       "Name: tweet, dtype: object"
      ]
     },
     "execution_count": 4,
     "metadata": {},
     "output_type": "execute_result"
    }
   ],
   "source": [
    "# Define X for modeling\n",
    "X = df['tweet']\n",
    "X.head()"
   ]
  },
  {
   "cell_type": "markdown",
   "metadata": {},
   "source": [
    "## Import Model"
   ]
  },
  {
   "cell_type": "code",
   "execution_count": 5,
   "metadata": {},
   "outputs": [
    {
     "name": "stdout",
     "output_type": "stream",
     "text": [
      "[0 0 0 0 0]\n"
     ]
    }
   ],
   "source": [
    "# Import model and look at first 5 predictions\n",
    "model = pickle.load(open('./assets/lr_cv.sav','rb'))\n",
    "print(model.predict(X)[:5])"
   ]
  },
  {
   "cell_type": "code",
   "execution_count": 6,
   "metadata": {},
   "outputs": [
    {
     "data": {
      "text/html": [
       "<div>\n",
       "<style scoped>\n",
       "    .dataframe tbody tr th:only-of-type {\n",
       "        vertical-align: middle;\n",
       "    }\n",
       "\n",
       "    .dataframe tbody tr th {\n",
       "        vertical-align: top;\n",
       "    }\n",
       "\n",
       "    .dataframe thead th {\n",
       "        text-align: right;\n",
       "    }\n",
       "</style>\n",
       "<table border=\"1\" class=\"dataframe\">\n",
       "  <thead>\n",
       "    <tr style=\"text-align: right;\">\n",
       "      <th></th>\n",
       "      <th>dates&amp;time</th>\n",
       "      <th>user</th>\n",
       "      <th>tweet</th>\n",
       "      <th>class</th>\n",
       "    </tr>\n",
       "  </thead>\n",
       "  <tbody>\n",
       "    <tr>\n",
       "      <th>0</th>\n",
       "      <td>2017-08-31 21:34:27+00:00</td>\n",
       "      <td>DallasPD</td>\n",
       "      <td>Reminder: Texas State Law prohibiting texting ...</td>\n",
       "      <td>0</td>\n",
       "    </tr>\n",
       "    <tr>\n",
       "      <th>1</th>\n",
       "      <td>2017-08-31 21:03:18+00:00</td>\n",
       "      <td>DallasPD</td>\n",
       "      <td>Brotherhood for the Fallen Charity Event</td>\n",
       "      <td>0</td>\n",
       "    </tr>\n",
       "    <tr>\n",
       "      <th>2</th>\n",
       "      <td>2017-08-31 17:16:43+00:00</td>\n",
       "      <td>DallasPD</td>\n",
       "      <td>FREE #TRINITY EVENT - Artisan Fair Market - Se...</td>\n",
       "      <td>0</td>\n",
       "    </tr>\n",
       "    <tr>\n",
       "      <th>3</th>\n",
       "      <td>2017-08-31 17:13:36+00:00</td>\n",
       "      <td>DallasPD</td>\n",
       "      <td>Our thoughts and prayers are with the Sacramen...</td>\n",
       "      <td>0</td>\n",
       "    </tr>\n",
       "    <tr>\n",
       "      <th>4</th>\n",
       "      <td>2017-08-31 17:10:47+00:00</td>\n",
       "      <td>DallasPD</td>\n",
       "      <td>How can Dallas residents help animals affected...</td>\n",
       "      <td>0</td>\n",
       "    </tr>\n",
       "  </tbody>\n",
       "</table>\n",
       "</div>"
      ],
      "text/plain": [
       "                  dates&time      user  \\\n",
       "0  2017-08-31 21:34:27+00:00  DallasPD   \n",
       "1  2017-08-31 21:03:18+00:00  DallasPD   \n",
       "2  2017-08-31 17:16:43+00:00  DallasPD   \n",
       "3  2017-08-31 17:13:36+00:00  DallasPD   \n",
       "4  2017-08-31 17:10:47+00:00  DallasPD   \n",
       "\n",
       "                                               tweet  class  \n",
       "0  Reminder: Texas State Law prohibiting texting ...      0  \n",
       "1           Brotherhood for the Fallen Charity Event      0  \n",
       "2  FREE #TRINITY EVENT - Artisan Fair Market - Se...      0  \n",
       "3  Our thoughts and prayers are with the Sacramen...      0  \n",
       "4  How can Dallas residents help animals affected...      0  "
      ]
     },
     "execution_count": 6,
     "metadata": {},
     "output_type": "execute_result"
    }
   ],
   "source": [
    "# Create a new column with the predictions\n",
    "df['class'] = list(model.predict(X))\n",
    "df.head()"
   ]
  },
  {
   "cell_type": "code",
   "execution_count": 7,
   "metadata": {},
   "outputs": [
    {
     "name": "stdout",
     "output_type": "stream",
     "text": [
      "(103, 4)\n"
     ]
    },
    {
     "data": {
      "text/html": [
       "<div>\n",
       "<style scoped>\n",
       "    .dataframe tbody tr th:only-of-type {\n",
       "        vertical-align: middle;\n",
       "    }\n",
       "\n",
       "    .dataframe tbody tr th {\n",
       "        vertical-align: top;\n",
       "    }\n",
       "\n",
       "    .dataframe thead th {\n",
       "        text-align: right;\n",
       "    }\n",
       "</style>\n",
       "<table border=\"1\" class=\"dataframe\">\n",
       "  <thead>\n",
       "    <tr style=\"text-align: right;\">\n",
       "      <th></th>\n",
       "      <th>dates&amp;time</th>\n",
       "      <th>user</th>\n",
       "      <th>tweet</th>\n",
       "      <th>class</th>\n",
       "    </tr>\n",
       "  </thead>\n",
       "  <tbody>\n",
       "    <tr>\n",
       "      <th>239</th>\n",
       "      <td>2017-09-01 04:36:40+00:00</td>\n",
       "      <td>EPPOLICE</td>\n",
       "      <td>I-10 East at Airway, scheduled road work, all ...</td>\n",
       "      <td>1</td>\n",
       "    </tr>\n",
       "    <tr>\n",
       "      <th>240</th>\n",
       "      <td>2017-09-01 04:09:53+00:00</td>\n",
       "      <td>EPPOLICE</td>\n",
       "      <td>I-10 East at Mesa, schedule road work, all lan...</td>\n",
       "      <td>1</td>\n",
       "    </tr>\n",
       "    <tr>\n",
       "      <th>242</th>\n",
       "      <td>2017-09-01 00:39:43+00:00</td>\n",
       "      <td>EPPOLICE</td>\n",
       "      <td>I-10 East @US-54, Collision, Right Lane Closed...</td>\n",
       "      <td>1</td>\n",
       "    </tr>\n",
       "    <tr>\n",
       "      <th>247</th>\n",
       "      <td>2017-08-31 23:10:23+00:00</td>\n",
       "      <td>EPPOLICE</td>\n",
       "      <td>I-10 East @Schuster, Collision, Right Shoulder...</td>\n",
       "      <td>1</td>\n",
       "    </tr>\n",
       "    <tr>\n",
       "      <th>248</th>\n",
       "      <td>2017-08-31 22:51:34+00:00</td>\n",
       "      <td>EPPOLICE</td>\n",
       "      <td>I-10 West @Trowbridge, Collision, Right Lane C...</td>\n",
       "      <td>1</td>\n",
       "    </tr>\n",
       "  </tbody>\n",
       "</table>\n",
       "</div>"
      ],
      "text/plain": [
       "                    dates&time      user  \\\n",
       "239  2017-09-01 04:36:40+00:00  EPPOLICE   \n",
       "240  2017-09-01 04:09:53+00:00  EPPOLICE   \n",
       "242  2017-09-01 00:39:43+00:00  EPPOLICE   \n",
       "247  2017-08-31 23:10:23+00:00  EPPOLICE   \n",
       "248  2017-08-31 22:51:34+00:00  EPPOLICE   \n",
       "\n",
       "                                                 tweet  class  \n",
       "239  I-10 East at Airway, scheduled road work, all ...      1  \n",
       "240  I-10 East at Mesa, schedule road work, all lan...      1  \n",
       "242  I-10 East @US-54, Collision, Right Lane Closed...      1  \n",
       "247  I-10 East @Schuster, Collision, Right Shoulder...      1  \n",
       "248  I-10 West @Trowbridge, Collision, Right Lane C...      1  "
      ]
     },
     "execution_count": 7,
     "metadata": {},
     "output_type": "execute_result"
    }
   ],
   "source": [
    "# Look at useful tweets\n",
    "print(df[df['class']==1].shape)\n",
    "df[df['class']==1].head()"
   ]
  },
  {
   "cell_type": "code",
   "execution_count": 8,
   "metadata": {},
   "outputs": [
    {
     "data": {
      "text/html": [
       "<div>\n",
       "<style scoped>\n",
       "    .dataframe tbody tr th:only-of-type {\n",
       "        vertical-align: middle;\n",
       "    }\n",
       "\n",
       "    .dataframe tbody tr th {\n",
       "        vertical-align: top;\n",
       "    }\n",
       "\n",
       "    .dataframe thead th {\n",
       "        text-align: right;\n",
       "    }\n",
       "</style>\n",
       "<table border=\"1\" class=\"dataframe\">\n",
       "  <thead>\n",
       "    <tr style=\"text-align: right;\">\n",
       "      <th></th>\n",
       "      <th>dates&amp;time</th>\n",
       "      <th>user</th>\n",
       "      <th>tweet</th>\n",
       "      <th>class</th>\n",
       "    </tr>\n",
       "  </thead>\n",
       "  <tbody>\n",
       "    <tr>\n",
       "      <th>2914</th>\n",
       "      <td>2017-08-25 13:00:53+00:00</td>\n",
       "      <td>I35travel</td>\n",
       "      <td>Waxahachie | US 287 Business WB@I-35 E | Vario...</td>\n",
       "      <td>1</td>\n",
       "    </tr>\n",
       "    <tr>\n",
       "      <th>2948</th>\n",
       "      <td>2017-08-31 18:31:58+00:00</td>\n",
       "      <td>TxDOTLufkin</td>\n",
       "      <td>ALERT: SL 287 East remains closed in Lufkin. A...</td>\n",
       "      <td>1</td>\n",
       "    </tr>\n",
       "    <tr>\n",
       "      <th>3040</th>\n",
       "      <td>2017-08-30 02:10:33+00:00</td>\n",
       "      <td>my290Houston</td>\n",
       "      <td>US 290 EB closed from Fry to Barker Cypress is...</td>\n",
       "      <td>1</td>\n",
       "    </tr>\n",
       "    <tr>\n",
       "      <th>3053</th>\n",
       "      <td>2017-08-29 15:48:59+00:00</td>\n",
       "      <td>my290Houston</td>\n",
       "      <td>No, if you do not need to travel, please stay ...</td>\n",
       "      <td>1</td>\n",
       "    </tr>\n",
       "    <tr>\n",
       "      <th>3069</th>\n",
       "      <td>2017-08-28 13:59:02+00:00</td>\n",
       "      <td>my290Houston</td>\n",
       "      <td>US 290 mainlanes &amp; frontage are closed in both...</td>\n",
       "      <td>1</td>\n",
       "    </tr>\n",
       "  </tbody>\n",
       "</table>\n",
       "</div>"
      ],
      "text/plain": [
       "                     dates&time          user  \\\n",
       "2914  2017-08-25 13:00:53+00:00     I35travel   \n",
       "2948  2017-08-31 18:31:58+00:00   TxDOTLufkin   \n",
       "3040  2017-08-30 02:10:33+00:00  my290Houston   \n",
       "3053  2017-08-29 15:48:59+00:00  my290Houston   \n",
       "3069  2017-08-28 13:59:02+00:00  my290Houston   \n",
       "\n",
       "                                                  tweet  class  \n",
       "2914  Waxahachie | US 287 Business WB@I-35 E | Vario...      1  \n",
       "2948  ALERT: SL 287 East remains closed in Lufkin. A...      1  \n",
       "3040  US 290 EB closed from Fry to Barker Cypress is...      1  \n",
       "3053  No, if you do not need to travel, please stay ...      1  \n",
       "3069  US 290 mainlanes & frontage are closed in both...      1  "
      ]
     },
     "execution_count": 8,
     "metadata": {},
     "output_type": "execute_result"
    }
   ],
   "source": [
    "df[df['class']==1].tail()"
   ]
  },
  {
   "cell_type": "markdown",
   "metadata": {},
   "source": [
    "## Export Data with Predictions"
   ]
  },
  {
   "cell_type": "code",
   "execution_count": 9,
   "metadata": {},
   "outputs": [],
   "source": [
    "df.to_csv('./data/final_data_with_predictions.csv', index=False)"
   ]
  },
  {
   "cell_type": "code",
   "execution_count": null,
   "metadata": {},
   "outputs": [],
   "source": []
  }
 ],
 "metadata": {
  "kernelspec": {
   "display_name": "Python 3",
   "language": "python",
   "name": "python3"
  },
  "language_info": {
   "codemirror_mode": {
    "name": "ipython",
    "version": 3
   },
   "file_extension": ".py",
   "mimetype": "text/x-python",
   "name": "python",
   "nbconvert_exporter": "python",
   "pygments_lexer": "ipython3",
   "version": "3.7.5"
  }
 },
 "nbformat": 4,
 "nbformat_minor": 2
}
